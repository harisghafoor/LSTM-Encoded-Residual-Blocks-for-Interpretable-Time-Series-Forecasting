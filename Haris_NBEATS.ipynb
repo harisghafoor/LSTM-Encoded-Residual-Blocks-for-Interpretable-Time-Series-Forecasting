{
  "cells": [
    {
      "cell_type": "markdown",
      "metadata": {
        "colab_type": "text",
        "id": "view-in-github"
      },
      "source": [
        "<a href=\"https://colab.research.google.com/github/harisghafoor/TS_forcasting/blob/main/Haris_NBEATS.ipynb\" target=\"_parent\"><img src=\"https://colab.research.google.com/assets/colab-badge.svg\" alt=\"Open In Colab\"/></a>"
      ]
    },
    {
      "cell_type": "code",
      "execution_count": null,
      "metadata": {
        "id": "_ePJVROvUGu-"
      },
      "outputs": [],
      "source": [
        "%load_ext autoreload\n",
        "%autoreload 2"
      ]
    },
    {
      "cell_type": "code",
      "execution_count": null,
      "metadata": {
        "colab": {
          "base_uri": "https://localhost:8080/"
        },
        "id": "yHhSkfMWVjCR",
        "outputId": "eb1b8ac4-5689-4c5c-a7fb-9aa42c83527d"
      },
      "outputs": [
        {
          "name": "stdout",
          "output_type": "stream",
          "text": [
            "Mounted at /content/drive\n",
            "/content/drive/My Drive/electricity\n"
          ]
        }
      ],
      "source": [
        "import os\n",
        "import sys\n",
        "\n",
        "from google.colab import drive\n",
        "drive.mount('/content/drive')\n",
        "PROJECT_ROOT = '/content/drive/My Drive/electricity'\n",
        "%mkdir '/content/drive/My Drive/electricity' -p\n",
        "%cd '/content/drive/My Drive/electricity'\n",
        "DATASETS_PATH = \"data\"\n",
        "WORKING_PATH = \".\"\n",
        "%mkdir $DATASETS_PATH -p\n",
        "\n",
        "LOGDIR = f\"{WORKING_PATH}/logs\"\n",
        "MODEL_VERSION = 'TEST'"
      ]
    },
    {
      "cell_type": "markdown",
      "metadata": {
        "id": "DlDDtcgIzGkM"
      },
      "source": [
        "## Download dataset"
      ]
    },
    {
      "cell_type": "code",
      "execution_count": null,
      "metadata": {
        "id": "ipy9TQ1gzGyw"
      },
      "outputs": [],
      "source": [
        "from google_drive_downloader import GoogleDriveDownloader as gdd\n",
        "\n",
        "gdd.download_file_from_google_drive(file_id='1QuoP44tF5GFDkxXt7RCAZvOKWe4esO_D', dest_path=f\"./{DATASETS_PATH}/Electricity-train.csv\", unzip=False)\n",
        "gdd.download_file_from_google_drive(file_id='1qD6w_s4SnNYYds67eAEq3j9PZs67bw-m', dest_path=f\"./{DATASETS_PATH}/Electricity-test.csv\", unzip=False)\n",
        "gdd.download_file_from_google_drive(file_id='12WUb2S-mDpD8mgbPJrP0npTmGcoySRnx', dest_path=f\"./{DATASETS_PATH}/MAPE.csv\", unzip=False)"
      ]
    },
    {
      "cell_type": "code",
      "execution_count": null,
      "metadata": {
        "id": "LbeDhoxoVlA9"
      },
      "outputs": [],
      "source": [
        "import numpy as np\n",
        "import pandas as pd\n",
        "import tensorflow as tf\n",
        "from typing import Dict, NamedTuple, Union\n",
        "from tqdm.notebook import tqdm\n",
        "import logging\n",
        "from matplotlib import pyplot as plt\n",
        "import time\n",
        "from itertools import product\n",
        "import gc\n",
        "import pathlib\n",
        "from glob import glob\n",
        "\n",
        "from dateutil.relativedelta import relativedelta\n"
      ]
    },
    {
      "cell_type": "code",
      "execution_count": null,
      "metadata": {
        "id": "LSpYXWtczrdR"
      },
      "outputs": [],
      "source": [
        "\n",
        "class Parameters(NamedTuple):\n",
        "    split: int\n",
        "    repeat: int\n",
        "    epochs: int\n",
        "    steps_per_epoch: int\n",
        "    block_layers: int\n",
        "    hidden_units: int\n",
        "    num_blocks: int\n",
        "    block_sharing: bool\n",
        "    horizon: int\n",
        "    history_lookback: int\n",
        "    init_learning_rate: float\n",
        "    decay_steps: int\n",
        "    decay_rate: float\n",
        "    loss: str\n",
        "    pinball_tau: float\n",
        "    batch_size: int\n",
        "    weight_decay: float\n",
        "    ts_sampling: str\n",
        "    lstm_units:int\n",
        "\n",
        "hyperparams_dict = {\n",
        "    \"split\": 0, # 0 is test split, 1 is validation split\n",
        "    \"repeat\": list(range(0, 2)),\n",
        "    \"epochs\": 1,\n",
        "    \"steps_per_epoch\": [1],\n",
        "    \"block_layers\": 3,\n",
        "    \"hidden_units\": 512,\n",
        "    \"num_blocks\": 3,\n",
        "    \"block_sharing\": True, # [True, False]\n",
        "    \"horizon\": 12,\n",
        "    \"history_lookback\": 1,\n",
        "    \"init_learning_rate\": 1e-3,\n",
        "    \"decay_steps\": 3,\n",
        "    \"decay_rate\": 0.5,\n",
        "    \"loss\": [\"pinball\", \"pmape\"], # [\"pinball\", \"mape\", \"smape\", \"pmape\"]\n",
        "    \"pinball_tau\": [0.35], # This is selected to minimize the bias on the validation set\n",
        "    \"batch_size\": 256,\n",
        "    \"weight_decay\": 0,\n",
        "    \"ts_sampling\": [\"ts_weight\"], # [\"uniform\", \"ts_weight\"]\n",
        "    \"lstm_units\" : 3,\n",
        "    }\n",
        "\n",
        "HORIZON = 12\n",
        "\n",
        "hyperparams = Parameters(**hyperparams_dict)"
      ]
    },
    {
      "cell_type": "code",
      "execution_count": null,
      "metadata": {
        "id": "p15AFL-ju_-A"
      },
      "outputs": [],
      "source": [
        "class ElectricityLoader:\n",
        "    def __init__(self, path=\"data/\", split='train'):\n",
        "        self.path = path\n",
        "        self.split = split\n",
        "        ts_raw = pd.read_csv(os.path.join(path,f'Electricity-{split}.csv')).iloc[:,1:].values.astype(np.float32)\n",
        "        self.ts_raw = []\n",
        "\n",
        "        for ts in ts_raw:\n",
        "            self.ts_raw.append(ts[~np.isnan(ts)])\n",
        "\n",
        "        self.ts_weight = np.zeros((len(self.ts_raw),), dtype=np.float32)\n",
        "        for i,ts in enumerate(self.ts_raw):\n",
        "            self.ts_weight[i] = len(ts)\n",
        "        self.ts_weight = self.ts_weight / self.ts_weight.sum()\n",
        "\n",
        "    def get_val_split(self, split_horizon=1):\n",
        "        train_dataset = ElectricityLoader(path=self.path, split='train')\n",
        "        test_dataset = ElectricityLoader(path=self.path, split='train')\n",
        "        ts_raw = []\n",
        "        for ts in train_dataset.ts_raw:\n",
        "            ts_raw.append(ts[:-split_horizon*12])\n",
        "        train_dataset.ts_raw = ts_raw\n",
        "        ts_raw = []\n",
        "        for ts in test_dataset.ts_raw:\n",
        "            ts_raw.append(ts[-split_horizon*12:])\n",
        "        test_dataset.ts_raw = ts_raw\n",
        "        return train_dataset, test_dataset\n",
        "\n",
        "    def get_batch(self, batch_size=64, win_len=14*2, horizon=12, ts_sampling='uniform'):\n",
        "        target_ts = np.zeros((batch_size, horizon), dtype=np.float32)\n",
        "        history_ts = np.zeros((batch_size, win_len), dtype=np.float32)\n",
        "\n",
        "        if ts_sampling == \"uniform\":\n",
        "            ts_idxs = np.random.choice(np.arange(len(self.ts_raw)), size=batch_size, replace=True)\n",
        "        elif ts_sampling == \"ts_weight\":\n",
        "            ts_idxs = np.random.choice(np.arange(len(self.ts_raw)), size=batch_size, replace=True, p=self.ts_weight)\n",
        "\n",
        "        for i, ts_id in enumerate(ts_idxs):\n",
        "            ts = self.ts_raw[ts_id]\n",
        "            sampling_point = np.random.choice(np.arange(win_len, len(ts)-horizon+1), size=1, replace=False)[0]\n",
        "            history_ts[i,:] = ts[sampling_point-win_len:sampling_point]\n",
        "            target_ts[i,:] = ts[sampling_point:sampling_point+horizon]\n",
        "\n",
        "        batch = {\"history\": history_ts, \"target\": target_ts}\n",
        "        return batch\n",
        "\n",
        "\n",
        "    def get_sequential_batch(self, win_len=14*2):\n",
        "        history_ts = np.zeros((len(self.ts_raw), win_len), dtype=np.float32)\n",
        "        for i, ts in enumerate(self.ts_raw):\n",
        "            history_ts[i,:] = ts[-win_len:]\n",
        "        return {\"history\": history_ts}\n",
        "\n",
        "\n",
        "train_dataset = ElectricityLoader(path='data', split='train')\n",
        "test_dataset = ElectricityLoader(path='data', split='test')"
      ]
    },
    {
      "cell_type": "code",
      "execution_count": null,
      "metadata": {
        "id": "EmNdFovTGmTI"
      },
      "outputs": [],
      "source": [
        "# # Uncomment this cell to run in validation mode. This is a bit hacky, but fast to implement\n",
        "# train_dataset, test_dataset = train_dataset.get_val_split(split_horizon=1)"
      ]
    },
    {
      "cell_type": "code",
      "execution_count": null,
      "metadata": {
        "colab": {
          "base_uri": "https://localhost:8080/",
          "height": 282
        },
        "id": "ebUwV4o2unfr",
        "outputId": "b80e2a13-8790-44e9-b82e-18e77c879add"
      },
      "outputs": [
        {
          "data": {
            "text/plain": [
              "[<matplotlib.lines.Line2D at 0x7fe0d3ec0b80>]"
            ]
          },
          "execution_count": 8,
          "metadata": {},
          "output_type": "execute_result"
        },
        {
          "data": {
            "image/png": "[encoded data removed]",
            "text/plain": [
              "<Figure size 432x288 with 1 Axes>"
            ]
          },
          "metadata": {
            "needs_background": "light"
          },
          "output_type": "display_data"
        }
      ],
      "source": [
        "batch = train_dataset.get_batch(win_len=12*2)\n",
        "\n",
        "plt.plot(batch[\"history\"][0])\n",
        "plt.plot(np.concatenate([np.nan*np.zeros((24,)), batch[\"target\"][0]]))"
      ]
    },
    {
      "cell_type": "code",
      "execution_count": null,
      "metadata": {
        "colab": {
          "base_uri": "https://localhost:8080/",
          "height": 282
        },
        "id": "GjuHbXRWWHJm",
        "outputId": "bab46160-5485-476c-920e-26498dbc5386"
      },
      "outputs": [
        {
          "data": {
            "text/plain": [
              "[<matplotlib.lines.Line2D at 0x7fe0d1555e50>]"
            ]
          },
          "execution_count": 9,
          "metadata": {},
          "output_type": "execute_result"
        },
        {
          "data": {
            "image/png": "[encoded data removed]",
            "text/plain": [
              "<Figure size 432x288 with 1 Axes>"
            ]
          },
          "metadata": {
            "needs_background": "light"
          },
          "output_type": "display_data"
        }
      ],
      "source": [
        "batch = train_dataset.get_sequential_batch()\n",
        "id = 10\n",
        "\n",
        "plt.plot(train_dataset.ts_raw[id][-24:])\n",
        "plt.plot(np.concatenate([np.nan*np.zeros((24,)), test_dataset.ts_raw[id]]))"
      ]
    },
    {
      "cell_type": "code",
      "execution_count": null,
      "metadata": {
        "colab": {
          "base_uri": "https://localhost:8080/"
        },
        "id": "sAnUrgFZyYsC",
        "outputId": "f88e291d-0521-4b74-f548-887abed43714"
      },
      "outputs": [
        {
          "name": "stdout",
          "output_type": "stream",
          "text": [
            "(32, 10) (32, 5)\n"
          ]
        }
      ],
      "source": [
        "# import tensorflow as tf\n",
        "# from my_module import NBeatsBlock\n",
        "\n",
        "# Define hyperparameters\n",
        "# hyperparams = {\"block_layers\": 3, \"hidden_units\": 64, \"weight_decay\": 1e-5}\n",
        "input_size = 10\n",
        "output_size = 5\n",
        "\n",
        "# Initialize NBeatsBlock instance\n",
        "block = NBeatsBlock(hyperparams, input_size, output_size)\n",
        "\n",
        "# Create dummy inputs\n",
        "inputs = tf.random.normal((32, input_size))\n",
        "\n",
        "# Call the block and check the output shape\n",
        "backcast, forecast = block(inputs)\n",
        "assert backcast.shape == (32, input_size)\n",
        "assert forecast.shape == (32, output_size)\n",
        "print(backcast.shape , forecast.shape)"
      ]
    },
    {
      "cell_type": "code",
      "execution_count": null,
      "metadata": {
        "colab": {
          "base_uri": "https://localhost:8080/"
        },
        "id": "q3-EEyenB7_c",
        "outputId": "d4660652-8fdf-4380-b01d-a2b7677dc7fe"
      },
      "outputs": [
        {
          "data": {
            "text/plain": [
              "<tf.Tensor: shape=(32, 5), dtype=float32, numpy=\n",
              "array([[ 2.13657264e-02, -2.71675512e-02, -7.20175952e-02,\n",
              "         5.87498210e-03, -1.70227066e-02],\n",
              "       [ 4.25239392e-02, -7.11202323e-02, -1.79355547e-01,\n",
              "         3.21718678e-02, -7.48391524e-02],\n",
              "       [-7.18772411e-03, -1.06077798e-01,  4.97742631e-02,\n",
              "         2.20081136e-02, -3.62667516e-02],\n",
              "       [-5.98849989e-02, -1.67394042e-01,  1.58162639e-02,\n",
              "        -8.49802792e-03,  5.10722287e-02],\n",
              "       [ 1.31238744e-01, -4.53802980e-02, -2.06910782e-02,\n",
              "        -1.59151852e-04, -4.61844988e-02],\n",
              "       [ 1.75877213e-02,  3.65060307e-02, -3.02014127e-03,\n",
              "        -6.94192052e-02, -4.11499515e-02],\n",
              "       [ 1.79162286e-02,  5.03943302e-02, -6.59935176e-02,\n",
              "        -2.98486408e-02, -7.47490972e-02],\n",
              "       [ 4.61432077e-02, -7.10234642e-02, -1.36420667e-01,\n",
              "        -7.89228976e-02, -1.87673897e-01],\n",
              "       [ 1.24678910e-01, -1.40046909e-01, -1.13679375e-02,\n",
              "         3.39328982e-02, -9.66623351e-02],\n",
              "       [-7.84166344e-03, -7.67703950e-02, -4.74349596e-02,\n",
              "        -6.92345724e-02, -8.62796828e-02],\n",
              "       [ 1.99312046e-02,  6.82912543e-02, -1.28527820e-01,\n",
              "        -6.78153634e-02, -6.40347525e-02],\n",
              "       [-2.87120603e-02, -8.30158293e-02, -5.70869818e-02,\n",
              "         3.65815684e-03, -3.60532999e-02],\n",
              "       [-6.22126907e-02,  5.94692230e-02, -4.11939844e-02,\n",
              "         1.16424218e-01, -2.40216386e-02],\n",
              "       [-7.21326843e-02,  5.68574518e-02, -5.28004095e-02,\n",
              "         6.68762773e-02, -1.01677172e-01],\n",
              "       [ 4.26208228e-02, -8.49049315e-02, -6.96223676e-02,\n",
              "         1.58818774e-02, -1.60593718e-01],\n",
              "       [ 1.75837204e-02, -9.53328088e-02, -1.51229888e-01,\n",
              "         7.71902502e-03, -1.89076290e-01],\n",
              "       [ 6.95561469e-02,  2.23343093e-02, -1.04175091e-01,\n",
              "         2.42311507e-03, -4.53468598e-02],\n",
              "       [ 1.80169307e-02, -4.72333655e-02, -1.20178610e-01,\n",
              "        -2.90137380e-02, -8.87658894e-02],\n",
              "       [ 5.79681359e-02, -1.16246611e-01, -1.69286430e-01,\n",
              "        -8.76107812e-03, -1.14785746e-01],\n",
              "       [ 9.97014344e-03,  4.76544723e-03, -2.57313289e-02,\n",
              "        -6.04088828e-02, -3.93388197e-02],\n",
              "       [-2.61456519e-03,  4.05654684e-02, -4.29738835e-02,\n",
              "        -3.53782922e-02, -5.76010793e-02],\n",
              "       [ 1.56348422e-01, -5.21956347e-02, -1.38237625e-01,\n",
              "         2.83453465e-02, -1.77521244e-01],\n",
              "       [ 1.38598889e-01, -6.64660484e-02, -1.05435461e-01,\n",
              "        -1.27324030e-01, -2.56838381e-01],\n",
              "       [ 7.52459615e-02, -2.44378336e-02, -5.77350259e-02,\n",
              "        -2.85340603e-02, -1.83972359e-01],\n",
              "       [ 5.99822495e-04, -5.20735309e-02, -6.69209212e-02,\n",
              "        -1.09341413e-01, -9.21917483e-02],\n",
              "       [-1.10513829e-02, -6.39900416e-02,  1.43733174e-02,\n",
              "        -2.79344860e-02, -4.45678197e-02],\n",
              "       [ 4.75072116e-03, -1.24310210e-01, -6.80065155e-02,\n",
              "        -4.15816978e-02, -1.23443805e-01],\n",
              "       [ 4.30539344e-03,  5.56977466e-03, -6.97963312e-03,\n",
              "         1.08421221e-02, -3.61191072e-02],\n",
              "       [ 7.73100182e-03, -5.26349097e-02, -1.38841532e-02,\n",
              "        -1.04728052e-02, -4.31518219e-02],\n",
              "       [ 2.18348578e-02,  1.69688761e-02, -2.73611359e-02,\n",
              "        -2.91437320e-02, -7.45126009e-02],\n",
              "       [-2.12171637e-02, -1.11851409e-01, -9.47808698e-02,\n",
              "        -4.93397154e-02, -7.65028298e-02],\n",
              "       [ 2.71355174e-02, -4.51387614e-02, -1.38788760e-01,\n",
              "         6.60313293e-02,  3.21414173e-02]], dtype=float32)>"
            ]
          },
          "execution_count": 53,
          "metadata": {},
          "output_type": "execute_result"
        }
      ],
      "source": [
        "forecast"
      ]
    },
    {
      "cell_type": "markdown",
      "metadata": {
        "id": "-4PYWfDm402d"
      },
      "source": [
        "# Functional Code in order to run NBEATS with LSTM\n"
      ]
    },
    {
      "cell_type": "code",
      "execution_count": null,
      "metadata": {
        "id": "XRYiX6NJ40Yy"
      },
      "outputs": [],
      "source": [
        "import tensorflow as tf\n",
        "\n",
        "def nbeats_block(hyperparams, input_size, output_size, inputs, training=False):\n",
        "    fc_layers = []\n",
        "    for i in range(hyperparams['block_layers']):\n",
        "        fc_layers.append(\n",
        "            tf.keras.layers.Dense(hyperparams['hidden_units'],\n",
        "                                  activation=tf.nn.relu,\n",
        "                                  kernel_regularizer=tf.keras.regularizers.l2(hyperparams['weight_decay']),\n",
        "                                  name=f\"fc_{i}\")\n",
        "        )\n",
        "\n",
        "    h = fc_layers[0](inputs)\n",
        "    for i in range(1, hyperparams['block_layers']):\n",
        "        h = fc_layers[i](h)\n",
        "\n",
        "    backcast = tf.keras.layers.Dense(input_size, activation=None, name=\"backcast\")(h)\n",
        "    backcast = tf.keras.activations.relu(inputs - backcast)\n",
        "    forecast = tf.keras.layers.Dense(output_size, activation=None, name=\"forecast\")(h)\n",
        "\n",
        "    return backcast, forecast\n"
      ]
    },
    {
      "cell_type": "code",
      "execution_count": null,
      "metadata": {
        "id": "Ijyk7EXs460N"
      },
      "outputs": [],
      "source": [
        "input_size = 10\n",
        "output_size = 5\n",
        "inputs = tf.keras.layers.Input(shape=(input_size,))\n",
        "hyperparams = {\n",
        "    'block_layers': 3,\n",
        "    'hidden_units': 32,\n",
        "    'weight_decay': 0.001,\n",
        "}\n",
        "\n",
        "fc_layers = []\n",
        "for i in range(hyperparams['block_layers']):\n",
        "    fc_layers.append(\n",
        "        tf.keras.layers.Dense(hyperparams['hidden_units'],\n",
        "                              activation=tf.nn.relu,\n",
        "                              kernel_regularizer=tf.keras.regularizers.l2(hyperparams['weight_decay']),\n",
        "                              name=f\"fc_{i}\")\n",
        "    )\n",
        "\n",
        "h = fc_layers[0](inputs)\n",
        "for i in range(1, hyperparams['block_layers']):\n",
        "    h = fc_layers[i](h)\n",
        "\n",
        "backcast = tf.keras.layers.Dense(input_size, activation=None, name=\"backcast\")(h)\n",
        "backcast = tf.keras.activations.relu(inputs - backcast)\n",
        "forecast = tf.keras.layers.Dense(output_size, activation=None, name=\"forecast\")(h)"
      ]
    },
    {
      "cell_type": "code",
      "execution_count": null,
      "metadata": {
        "id": "C_XQOJSEJ5zS"
      },
      "outputs": [],
      "source": [
        "input_size = 10\n",
        "output_size = 5\n",
        "inputs = tf.keras.layers.Input(shape=(input_size,))\n",
        "hyperparams = {\n",
        "    'block_layers': 3,\n",
        "    'hidden_units': 32,\n",
        "    'weight_decay': 0.001,\n",
        "    'lstm_units':3\n",
        "}\n",
        "inputs = tf.expand_dims(inputs, axis=1)\n",
        "\n",
        "# Add an LSTM layer before the FC layers\n",
        "lstm_layer = tf.keras.layers.LSTM(hyperparams['lstm_units'], return_sequences=True)(inputs)\n",
        "flattened_lstm_layer = tf.keras.layers.Flatten()(lstm_layer)\n",
        "\n",
        "# Add the FC layers\n",
        "fc_layers = []\n",
        "for i in range(hyperparams['block_layers']):\n",
        "    fc_layers.append(tf.keras.layers.Dense(hyperparams['hidden_units'],\n",
        "                                            activation=tf.nn.relu,\n",
        "                                            kernel_regularizer=tf.keras.regularizers.l2(0.001),\n",
        "                                            name=f\"fc_{i}\")(flattened_lstm_layer))\n",
        "\n",
        "# Compute the backcast and forecast\n",
        "backcast = tf.keras.layers.Dense(inputs.shape[-1], activation='relu', name=\"backcast\")(flattened_lstm_layer)\n",
        "forecast = tf.keras.layers.Dense(output_size, activation=None, name=\"forecast\")(fc_layers[-1])\n",
        "\n",
        "# # Construct the model\n",
        "# model = tf.keras.Model(inputs=inputs, outputs=[backcast, forecast], name=\"NBeatsBlockWithLSTM\")"
      ]
    },
    {
      "cell_type": "code",
      "execution_count": null,
      "metadata": {
        "id": "v0AHm9IZ6YYV"
      },
      "outputs": [],
      "source": [
        "class NBeatsBlockWithLSTM(tf.keras.layers.Layer):\n",
        "    def __init__(self, hyperparams, input_size, output_size, **kwargs):\n",
        "        super(NBeatsBlockWithLSTM, self).__init__(**kwargs)\n",
        "        self.hyperparams = hyperparams\n",
        "        self.input_size = input_size\n",
        "        self.output_size = output_size\n",
        "        self.lstm_layer = tf.keras.layers.LSTM(hyperparams['lstm_units'], return_sequences=True)\n",
        "        self.flatten_layer = tf.keras.layers.Flatten()\n",
        "        self.fc_layers = []\n",
        "        for i in range(hyperparams['block_layers']):\n",
        "            self.fc_layers.append(tf.keras.layers.Dense(hyperparams['hidden_units'],\n",
        "                                                        activation=tf.nn.relu,\n",
        "                                                        kernel_regularizer=tf.keras.regularizers.l2(hyperparams['weight_decay']),\n",
        "                                                        name=f\"fc_{i}\"))\n",
        "        self.backcast = tf.keras.layers.Dense(input_size, activation='relu', name=\"backcast\")\n",
        "        self.forecast = tf.keras.layers.Dense(output_size, activation=None, name=\"forecast\")\n",
        "\n",
        "    def call(self, inputs):\n",
        "        x = tf.expand_dims(inputs, axis=2)  # Add extra dimension to input tensor\n",
        "        x = self.lstm_layer(x)\n",
        "        x = self.flatten_layer(x)\n",
        "        for i in range(self.hyperparams['block_layers']):\n",
        "            x = self.fc_layers[i](x)\n",
        "        backcast = self.backcast(inputs)\n",
        "        forecast = self.forecast(x)\n",
        "        return backcast, forecast\n"
      ]
    },
    {
      "cell_type": "code",
      "execution_count": null,
      "metadata": {
        "colab": {
          "base_uri": "https://localhost:8080/"
        },
        "id": "G_Zlprot7isE",
        "outputId": "61dfb2c4-6ae3-40b7-c734-cabaad933950"
      },
      "outputs": [
        {
          "name": "stdout",
          "output_type": "stream",
          "text": [
            "Backcast shape: (32, 10)\n",
            "Forecast shape: (32, 5)\n"
          ]
        },
        {
          "data": {
            "text/plain": [
              "<tf.Tensor: shape=(32, 5), dtype=float32, numpy=\n",
              "array([[ 7.08469003e-02,  6.29981533e-02, -5.77190220e-02,\n",
              "        -1.09506305e-02,  4.71225940e-02],\n",
              "       [ 3.77263548e-03,  2.05671098e-02, -2.81264037e-02,\n",
              "         2.59114406e-03,  1.08456844e-02],\n",
              "       [-1.01165776e-03,  4.86056283e-02, -3.70591879e-04,\n",
              "         3.93973067e-02,  2.27778591e-03],\n",
              "       [-3.41255218e-02,  8.73251036e-02, -1.22093344e-02,\n",
              "         6.76050037e-03,  3.12396488e-03],\n",
              "       [ 4.72392812e-02,  1.79973859e-02, -3.46848667e-02,\n",
              "        -1.94131266e-02,  1.29868723e-02],\n",
              "       [ 2.68039797e-02,  2.58026123e-02, -1.55682210e-02,\n",
              "         2.33469252e-03,  1.89827085e-02],\n",
              "       [ 9.74686630e-03,  9.90899280e-02, -6.51898086e-02,\n",
              "        -4.83982600e-02,  1.42086204e-02],\n",
              "       [ 4.66441140e-02,  6.04678318e-02, -4.32181880e-02,\n",
              "        -1.11528505e-02,  3.32624577e-02],\n",
              "       [ 4.26954124e-03,  8.68048519e-04, -1.92895494e-02,\n",
              "        -1.54012535e-02, -4.37991694e-05],\n",
              "       [ 1.96875893e-02,  1.40821654e-02, -3.40017565e-02,\n",
              "        -3.22920941e-02, -1.07190553e-02],\n",
              "       [ 5.00588529e-02,  2.61610486e-02, -2.61474419e-02,\n",
              "         8.51567276e-03,  1.92252435e-02],\n",
              "       [-7.87161365e-02,  1.67629838e-01, -4.58674356e-02,\n",
              "        -1.90104861e-02,  1.64544173e-02],\n",
              "       [-3.09195258e-02,  9.22489017e-02, -9.06624496e-02,\n",
              "        -5.62771149e-02,  9.93042067e-03],\n",
              "       [-1.85981747e-02,  2.07931828e-02, -2.64704693e-02,\n",
              "        -1.99034438e-03, -4.61959001e-03],\n",
              "       [-1.22363204e-02,  1.24044716e-01, -4.86722700e-02,\n",
              "        -3.76005098e-02,  5.32006957e-02],\n",
              "       [ 3.40383872e-02,  3.99757214e-02, -3.51410732e-02,\n",
              "         6.39150990e-03,  1.66530500e-03],\n",
              "       [-7.75440538e-04,  5.60160764e-02, -5.11219613e-02,\n",
              "        -3.01749706e-02,  3.05304900e-02],\n",
              "       [ 6.76697167e-03,  9.32739023e-03,  7.35196006e-03,\n",
              "         1.72024332e-02,  2.34493823e-03],\n",
              "       [-2.03618733e-03,  9.99942981e-03, -1.19268671e-02,\n",
              "        -1.02887012e-03,  9.81124025e-03],\n",
              "       [-1.22059546e-02,  3.16642039e-02, -1.75146088e-02,\n",
              "        -3.33903804e-02, -3.92793585e-03],\n",
              "       [-1.38176605e-02,  2.74742357e-02, -2.68633347e-02,\n",
              "        -2.59423442e-02, -3.61832045e-03],\n",
              "       [-7.67597836e-03,  6.84894547e-02, -5.06009012e-02,\n",
              "        -2.13424470e-02,  3.46480645e-02],\n",
              "       [ 2.00209301e-02,  1.00104675e-01, -4.23529446e-02,\n",
              "        -2.96773985e-02,  4.21913117e-02],\n",
              "       [ 1.13581326e-02,  2.56753862e-02, -1.76008958e-02,\n",
              "        -1.44123624e-03,  4.48664045e-03],\n",
              "       [ 1.74214095e-02,  3.01200710e-02, -4.57603261e-02,\n",
              "        -3.38741392e-02, -1.65206660e-02],\n",
              "       [-2.08214242e-02,  2.66115796e-02, -1.32510532e-02,\n",
              "         4.24441323e-03, -3.48893926e-03],\n",
              "       [ 6.46000355e-03,  6.47166520e-02, -3.55591960e-02,\n",
              "        -2.88432632e-02,  1.90075785e-02],\n",
              "       [ 3.93584594e-02,  2.62898318e-02, -3.52036916e-02,\n",
              "        -1.24790510e-02,  2.04756986e-02],\n",
              "       [ 1.17279459e-02,  2.85217240e-02, -2.55984515e-02,\n",
              "        -1.68285109e-02,  1.31452866e-02],\n",
              "       [ 5.85986301e-04, -9.39637516e-03, -3.99069861e-03,\n",
              "         7.26776337e-03, -5.29978331e-03],\n",
              "       [ 1.23904692e-02, -2.03502886e-02, -7.33837485e-03,\n",
              "        -8.38964153e-03, -6.82219863e-04],\n",
              "       [ 1.41476598e-02,  7.37164393e-02, -1.48422625e-02,\n",
              "        -8.26932024e-03,  4.02759612e-02]], dtype=float32)>"
            ]
          },
          "execution_count": 54,
          "metadata": {},
          "output_type": "execute_result"
        }
      ],
      "source": [
        "hyperparams = {\n",
        "    'block_layers': 3,\n",
        "    'hidden_units': 32,\n",
        "    'weight_decay': 0.001,\n",
        "    'lstm_units': 3\n",
        "}\n",
        "\n",
        "input_size = 10\n",
        "output_size = 5\n",
        "# Example input shape with 10 timesteps and 5 features\n",
        "# input_shape = (10, 5)\n",
        "inputs = tf.random.normal((32, input_size))\n",
        "\n",
        "nbeats_block_with_lstm = NBeatsBlockWithLSTM(hyperparams, input_size, output_size)\n",
        "backcast, forecast = nbeats_block_with_lstm(inputs)\n",
        "print(f\"Backcast shape: {backcast.shape}\")  # Expected output: (1, 10, 10)\n",
        "print(f\"Forecast shape: {forecast.shape}\")  # Expected output: (1, 5)\n",
        "forecast"
      ]
    },
    {
      "cell_type": "code",
      "execution_count": null,
      "metadata": {
        "colab": {
          "base_uri": "https://localhost:8080/"
        },
        "id": "9B8UaTGM9ST6",
        "outputId": "d8eb7d3f-84b4-45a6-c13e-3ea3f94bcc5e"
      },
      "outputs": [
        {
          "data": {
            "text/plain": [
              "TensorShape([32, 10])"
            ]
          },
          "execution_count": 40,
          "metadata": {},
          "output_type": "execute_result"
        }
      ],
      "source": [
        "inputs = tf.random.normal((32, input_size))\n",
        "inputs.shape"
      ]
    },
    {
      "cell_type": "code",
      "execution_count": null,
      "metadata": {
        "id": "KMC8BthK5DnT"
      },
      "outputs": [],
      "source": [
        "# class NBeatsBlock(tf.keras.layers.Layer):\n",
        "#     def __init__(self, hyperparams, input_size, output_size, **kw):\n",
        "#         super(NBeatsBlock, self).__init__(**kw)\n",
        "#         self.hyperparams = hyperparams\n",
        "#         self.input_size = input_size\n",
        "#         self.output_size = output_size\n",
        "#         self.fc_layers = []\n",
        "#         for i in range(hyperparams['block_layers']):\n",
        "#             self.fc_layers.append(\n",
        "#                 tf.keras.layers.Dense(hyperparams['hidden_units'],\n",
        "#                                       activation=tf.nn.relu,\n",
        "#                                       kernel_regularizer=tf.keras.regularizers.l2(hyperparams['weight_decay']),\n",
        "#                                       name=f\"fc_{i}\")\n",
        "#             )\n",
        "#         self.forecast = tf.keras.layers.Dense(output_size, activation=None, name=\"forecast\")\n",
        "#         self.backcast = tf.keras.layers.Dense(input_size, activation='relu', name=\"backcast\")\n",
        "\n",
        "#     def call(self, inputs, training=False):\n",
        "#         lstm_layer = tf.keras.layers.LSTM(self.hyperparams['lstm_units'], return_sequences=True)(tf.expand_dims(inputs, axis=1))\n",
        "#         flattened_lstm_layer = tf.keras.layers.Flatten()(lstm_layer)\n",
        "#         h = self.fc_layers[0](flattened_lstm_layer)\n",
        "#         for i in range(1, self.hyperparams['block_layers']):\n",
        "#             h = self.fc_layers[i](h)\n",
        "#         backcast = tf.keras.activations.relu(inputs - self.backcast(flattened_lstm_layer))\n",
        "#         forecast = self.forecast(h)\n",
        "\n",
        "#         return tf.squeeze(backcast, axis=1), forecast\n"
      ]
    },
    {
      "cell_type": "code",
      "execution_count": null,
      "metadata": {
        "colab": {
          "base_uri": "https://localhost:8080/",
          "height": 449
        },
        "id": "q60aVNBSN3II",
        "outputId": "2cb45f0c-ce65-42f5-ba6c-55d1b0e2a002"
      },
      "outputs": [
        {
          "ename": "InvalidArgumentError",
          "evalue": "ignored",
          "output_type": "error",
          "traceback": [
            "\u001b[0;31m---------------------------------------------------------------------------\u001b[0m",
            "\u001b[0;31mInvalidArgumentError\u001b[0m                      Traceback (most recent call last)",
            "\u001b[0;32m<ipython-input-21-2776a2a6949a>\u001b[0m in \u001b[0;36m<module>\u001b[0;34m\u001b[0m\n\u001b[1;32m     21\u001b[0m \u001b[0;34m\u001b[0m\u001b[0m\n\u001b[1;32m     22\u001b[0m \u001b[0;31m# Call the layer to compute the backcast and forecast\u001b[0m\u001b[0;34m\u001b[0m\u001b[0;34m\u001b[0m\u001b[0m\n\u001b[0;32m---> 23\u001b[0;31m \u001b[0mbackcast\u001b[0m\u001b[0;34m,\u001b[0m \u001b[0mforecast\u001b[0m \u001b[0;34m=\u001b[0m \u001b[0mnbeats_block\u001b[0m\u001b[0;34m(\u001b[0m\u001b[0minputs\u001b[0m\u001b[0;34m)\u001b[0m\u001b[0;34m\u001b[0m\u001b[0;34m\u001b[0m\u001b[0m\n\u001b[0m\u001b[1;32m     24\u001b[0m \u001b[0mprint\u001b[0m\u001b[0;34m(\u001b[0m\u001b[0mbackcast\u001b[0m\u001b[0;34m)\u001b[0m\u001b[0;34m\u001b[0m\u001b[0;34m\u001b[0m\u001b[0m\n\u001b[1;32m     25\u001b[0m \u001b[0;31m# # Check the shape of the outputs\u001b[0m\u001b[0;34m\u001b[0m\u001b[0;34m\u001b[0m\u001b[0m\n",
            "\u001b[0;32m/usr/local/lib/python3.9/dist-packages/keras/utils/traceback_utils.py\u001b[0m in \u001b[0;36merror_handler\u001b[0;34m(*args, **kwargs)\u001b[0m\n\u001b[1;32m     68\u001b[0m             \u001b[0;31m# To get the full stack trace, call:\u001b[0m\u001b[0;34m\u001b[0m\u001b[0;34m\u001b[0m\u001b[0m\n\u001b[1;32m     69\u001b[0m             \u001b[0;31m# `tf.debugging.disable_traceback_filtering()`\u001b[0m\u001b[0;34m\u001b[0m\u001b[0;34m\u001b[0m\u001b[0m\n\u001b[0;32m---> 70\u001b[0;31m             \u001b[0;32mraise\u001b[0m \u001b[0me\u001b[0m\u001b[0;34m.\u001b[0m\u001b[0mwith_traceback\u001b[0m\u001b[0;34m(\u001b[0m\u001b[0mfiltered_tb\u001b[0m\u001b[0;34m)\u001b[0m \u001b[0;32mfrom\u001b[0m \u001b[0;32mNone\u001b[0m\u001b[0;34m\u001b[0m\u001b[0;34m\u001b[0m\u001b[0m\n\u001b[0m\u001b[1;32m     71\u001b[0m         \u001b[0;32mfinally\u001b[0m\u001b[0;34m:\u001b[0m\u001b[0;34m\u001b[0m\u001b[0;34m\u001b[0m\u001b[0m\n\u001b[1;32m     72\u001b[0m             \u001b[0;32mdel\u001b[0m \u001b[0mfiltered_tb\u001b[0m\u001b[0;34m\u001b[0m\u001b[0;34m\u001b[0m\u001b[0m\n",
            "\u001b[0;32m<ipython-input-20-4f65c995a064>\u001b[0m in \u001b[0;36mcall\u001b[0;34m(self, inputs, training)\u001b[0m\n\u001b[1;32m     25\u001b[0m         \u001b[0mforecast\u001b[0m \u001b[0;34m=\u001b[0m \u001b[0mself\u001b[0m\u001b[0;34m.\u001b[0m\u001b[0mforecast\u001b[0m\u001b[0;34m(\u001b[0m\u001b[0mh\u001b[0m\u001b[0;34m)\u001b[0m\u001b[0;34m\u001b[0m\u001b[0;34m\u001b[0m\u001b[0m\n\u001b[1;32m     26\u001b[0m \u001b[0;34m\u001b[0m\u001b[0m\n\u001b[0;32m---> 27\u001b[0;31m         \u001b[0;32mreturn\u001b[0m \u001b[0mtf\u001b[0m\u001b[0;34m.\u001b[0m\u001b[0msqueeze\u001b[0m\u001b[0;34m(\u001b[0m\u001b[0mbackcast\u001b[0m\u001b[0;34m,\u001b[0m \u001b[0maxis\u001b[0m\u001b[0;34m=\u001b[0m\u001b[0;36m1\u001b[0m\u001b[0;34m)\u001b[0m\u001b[0;34m,\u001b[0m \u001b[0mforecast\u001b[0m\u001b[0;34m\u001b[0m\u001b[0;34m\u001b[0m\u001b[0m\n\u001b[0m",
            "\u001b[0;31mInvalidArgumentError\u001b[0m: Exception encountered when calling layer 'n_beats_block_3' (type NBeatsBlock).\n\n{{function_node __wrapped__Squeeze_device_/job:localhost/replica:0/task:0/device:CPU:0}} Can not squeeze dim[1], expected a dimension of 1, got 10 [Op:Squeeze]\n\nCall arguments received by layer 'n_beats_block_3' (type NBeatsBlock):\n  • inputs=tf.Tensor(shape=(1, 10), dtype=float32)\n  • training=False"
          ]
        }
      ],
      "source": [
        "# import tensorflow as tf\n",
        "# import numpy as np\n",
        "\n",
        "# Define the input and output sizes\n",
        "input_size = 10\n",
        "output_size = 5\n",
        "\n",
        "# Define the hyperparameters for the block\n",
        "# hyperparams = {\n",
        "#     'block_layers': 3,\n",
        "#     'hidden_units': 32,\n",
        "#     'weight_decay': 0.001,\n",
        "#     'lstm_units':3\n",
        "# }\n",
        "\n",
        "# Create a sample input tensor\n",
        "inputs = tf.random.normal(shape=(1, input_size))\n",
        "\n",
        "# Create an instance of the NBeatsBlock layer\n",
        "nbeats_block = NBeatsBlock(hyperparams, input_size, output_size)\n",
        "\n",
        "# Call the layer to compute the backcast and forecast\n",
        "backcast, forecast = nbeats_block(inputs)\n",
        "print(backcast)\n",
        "# # Check the shape of the outputs\n",
        "# assert backcast.shape == (1, input_size)\n",
        "# assert forecast.shape == (1, output_size)\n",
        "\n",
        "# # Check that the backcast tensor has non-negative values\n",
        "# assert tf.reduce_any(backcast >= 0)\n",
        "\n",
        "# # Check that the forecast tensor has non-negative values\n",
        "# assert tf.reduce_any(forecast >= 0)\n",
        "\n",
        "# # Check that the forecast tensor is not all zero\n",
        "# assert tf.reduce_any(forecast != 0)\n"
      ]
    },
    {
      "cell_type": "code",
      "execution_count": null,
      "metadata": {
        "id": "bBUE_lvfNrFa"
      },
      "outputs": [],
      "source": []
    },
    {
      "cell_type": "code",
      "execution_count": null,
      "metadata": {
        "id": "OmbesBr7tn8r"
      },
      "outputs": [],
      "source": [
        "class NBeatsBlock(tf.keras.layers.Layer):\n",
        "    def __init__(self, hyperparams: Parameters, input_size:int, output_size:int, **kw):\n",
        "        super(NBeatsBlock, self).__init__(**kw)\n",
        "        self.hyperparams = hyperparams\n",
        "        self.input_size = input_size\n",
        "        self.output_size = output_size\n",
        "        self.fc_layers = []\n",
        "        for i in range(hyperparams.block_layers):\n",
        "            self.fc_layers.append(\n",
        "                tf.keras.layers.Dense(hyperparams.hidden_units,\n",
        "                                      activation=tf.nn.relu,\n",
        "                                      kernel_regularizer=tf.keras.regularizers.l2(hyperparams.weight_decay),\n",
        "                                      name=f\"fc_{i}\")\n",
        "            )\n",
        "        self.forecast = tf.keras.layers.Dense(output_size, activation=None, name=\"forecast\")\n",
        "        self.backcast = tf.keras.layers.Dense(self.input_size, activation=None, name=\"backcast\")\n",
        "\n",
        "    def call(self, inputs, training=False):\n",
        "        h = self.fc_layers[0](inputs)\n",
        "        for i in range(1, self.hyperparams.block_layers):\n",
        "            h = self.fc_layers[i](h)\n",
        "        backcast = tf.keras.activations.relu(inputs - self.backcast(h))\n",
        "\n",
        "        return backcast, self.forecast(h)\n",
        "\n",
        "# class NBeatsBlock(tf.keras.layers.Layer):\n",
        "#     def __init__(self, hyperparams: Parameters, input_size:int, output_size:int, lstm_units:int, **kw):\n",
        "#         super(NBeatsBlock, self).__init__(**kw)\n",
        "#         self.hyperparams = hyperparams\n",
        "#         self.input_size = input_size\n",
        "#         self.output_size = output_size\n",
        "#         self.lstm_units = lstm_units\n",
        "#         self.fc_layers = []\n",
        "#         for i in range(hyperparams.block_layers):\n",
        "#             self.fc_layers.append(\n",
        "#                 tf.keras.layers.Dense(hyperparams.hidden_units,\n",
        "#                                       activation=tf.nn.relu,\n",
        "#                                       kernel_regularizer=tf.keras.regularizers.l2(hyperparams.weight_decay),\n",
        "#                                       name=f\"fc_{i}\")\n",
        "#             )\n",
        "#         self.lstm_layer = tf.keras.layers.LSTM(units=self.lstm_units,\n",
        "#                                                activation='tanh',\n",
        "#                                                kernel_regularizer=tf.keras.regularizers.l2(hyperparams.weight_decay),\n",
        "#                                                name=\"lstm\")\n",
        "#         self.forecast = tf.keras.layers.Dense(output_size, activation=None, name=\"forecast\")\n",
        "#         self.backcast = tf.keras.layers.Dense(self.input_size, activation=None, name=\"backcast\")\n",
        "\n",
        "#     def call(self, inputs, training=False):\n",
        "#         # Reshape input from 2D to 3D\n",
        "#         inputs = tf.reshape(inputs, (-1, self.hyperparams.history_lookback, self.hyperparams.horizon))\n",
        "\n",
        "#         # Apply fully connected layers\n",
        "#         h = self.fc_layers[0](inputs)\n",
        "#         for i in range(1, self.hyperparams.block_layers):\n",
        "#             h = self.fc_layers[i](h)\n",
        "\n",
        "#         # Apply LSTM layer\n",
        "#         h = self.lstm_layer(h)\n",
        "\n",
        "#         # Compute backcast and forecast\n",
        "#         backcast = tf.keras.activations.relu(inputs - tf.expand_dims(self.backcast(h), axis=1))\n",
        "#         forecast = self.forecast(h)\n",
        "\n",
        "#         # Reshape forecast output from 3D to 2D\n",
        "#         forecast = tf.reshape(forecast, (-1, self.output_size))\n",
        "\n",
        "#         return backcast, forecast\n",
        "\n"
      ]
    },
    {
      "cell_type": "code",
      "execution_count": null,
      "metadata": {
        "colab": {
          "base_uri": "https://localhost:8080/",
          "height": 484
        },
        "id": "D2yfrYUbkS8q",
        "outputId": "e1d16540-0237-4e4e-98af-255d10c91126"
      },
      "outputs": [
        {
          "ename": "InvalidArgumentError",
          "evalue": "ignored",
          "output_type": "error",
          "traceback": [
            "\u001b[0;31m---------------------------------------------------------------------------\u001b[0m",
            "\u001b[0;31mInvalidArgumentError\u001b[0m                      Traceback (most recent call last)",
            "\u001b[0;32m<ipython-input-71-23557315166f>\u001b[0m in \u001b[0;36m<module>\u001b[0;34m\u001b[0m\n\u001b[1;32m     19\u001b[0m \u001b[0;34m\u001b[0m\u001b[0m\n\u001b[1;32m     20\u001b[0m \u001b[0;31m# Test the call() method\u001b[0m\u001b[0;34m\u001b[0m\u001b[0;34m\u001b[0m\u001b[0m\n\u001b[0;32m---> 21\u001b[0;31m \u001b[0mbackcast\u001b[0m\u001b[0;34m,\u001b[0m \u001b[0mforecast\u001b[0m \u001b[0;34m=\u001b[0m \u001b[0mnbeats_block\u001b[0m\u001b[0;34m(\u001b[0m\u001b[0minputs\u001b[0m\u001b[0;34m)\u001b[0m\u001b[0;34m\u001b[0m\u001b[0;34m\u001b[0m\u001b[0m\n\u001b[0m\u001b[1;32m     22\u001b[0m \u001b[0;34m\u001b[0m\u001b[0m\n\u001b[1;32m     23\u001b[0m \u001b[0;31m# Check the shapes of the output tensors\u001b[0m\u001b[0;34m\u001b[0m\u001b[0;34m\u001b[0m\u001b[0m\n",
            "\u001b[0;32m/usr/local/lib/python3.9/dist-packages/keras/utils/traceback_utils.py\u001b[0m in \u001b[0;36merror_handler\u001b[0;34m(*args, **kwargs)\u001b[0m\n\u001b[1;32m     68\u001b[0m             \u001b[0;31m# To get the full stack trace, call:\u001b[0m\u001b[0;34m\u001b[0m\u001b[0;34m\u001b[0m\u001b[0m\n\u001b[1;32m     69\u001b[0m             \u001b[0;31m# `tf.debugging.disable_traceback_filtering()`\u001b[0m\u001b[0;34m\u001b[0m\u001b[0;34m\u001b[0m\u001b[0m\n\u001b[0;32m---> 70\u001b[0;31m             \u001b[0;32mraise\u001b[0m \u001b[0me\u001b[0m\u001b[0;34m.\u001b[0m\u001b[0mwith_traceback\u001b[0m\u001b[0;34m(\u001b[0m\u001b[0mfiltered_tb\u001b[0m\u001b[0;34m)\u001b[0m \u001b[0;32mfrom\u001b[0m \u001b[0;32mNone\u001b[0m\u001b[0;34m\u001b[0m\u001b[0;34m\u001b[0m\u001b[0m\n\u001b[0m\u001b[1;32m     71\u001b[0m         \u001b[0;32mfinally\u001b[0m\u001b[0;34m:\u001b[0m\u001b[0;34m\u001b[0m\u001b[0;34m\u001b[0m\u001b[0m\n\u001b[1;32m     72\u001b[0m             \u001b[0;32mdel\u001b[0m \u001b[0mfiltered_tb\u001b[0m\u001b[0;34m\u001b[0m\u001b[0;34m\u001b[0m\u001b[0m\n",
            "\u001b[0;32m<ipython-input-68-999225faacd2>\u001b[0m in \u001b[0;36mcall\u001b[0;34m(self, inputs, training)\u001b[0m\n\u001b[1;32m     59\u001b[0m \u001b[0;34m\u001b[0m\u001b[0m\n\u001b[1;32m     60\u001b[0m         \u001b[0;31m# Compute backcast and forecast\u001b[0m\u001b[0;34m\u001b[0m\u001b[0;34m\u001b[0m\u001b[0m\n\u001b[0;32m---> 61\u001b[0;31m         \u001b[0mbackcast\u001b[0m \u001b[0;34m=\u001b[0m \u001b[0mtf\u001b[0m\u001b[0;34m.\u001b[0m\u001b[0mkeras\u001b[0m\u001b[0;34m.\u001b[0m\u001b[0mactivations\u001b[0m\u001b[0;34m.\u001b[0m\u001b[0mrelu\u001b[0m\u001b[0;34m(\u001b[0m\u001b[0minputs\u001b[0m \u001b[0;34m-\u001b[0m \u001b[0mtf\u001b[0m\u001b[0;34m.\u001b[0m\u001b[0mexpand_dims\u001b[0m\u001b[0;34m(\u001b[0m\u001b[0mself\u001b[0m\u001b[0;34m.\u001b[0m\u001b[0mbackcast\u001b[0m\u001b[0;34m(\u001b[0m\u001b[0mh\u001b[0m\u001b[0;34m)\u001b[0m\u001b[0;34m,\u001b[0m \u001b[0maxis\u001b[0m\u001b[0;34m=\u001b[0m\u001b[0;36m1\u001b[0m\u001b[0;34m)\u001b[0m\u001b[0;34m)\u001b[0m\u001b[0;34m\u001b[0m\u001b[0;34m\u001b[0m\u001b[0m\n\u001b[0m\u001b[1;32m     62\u001b[0m         \u001b[0mforecast\u001b[0m \u001b[0;34m=\u001b[0m \u001b[0mself\u001b[0m\u001b[0;34m.\u001b[0m\u001b[0mforecast\u001b[0m\u001b[0;34m(\u001b[0m\u001b[0mh\u001b[0m\u001b[0;34m)\u001b[0m\u001b[0;34m\u001b[0m\u001b[0;34m\u001b[0m\u001b[0m\n\u001b[1;32m     63\u001b[0m \u001b[0;34m\u001b[0m\u001b[0m\n",
            "\u001b[0;31mInvalidArgumentError\u001b[0m: Exception encountered when calling layer 'n_beats_block_8' (type NBeatsBlock).\n\n{{function_node __wrapped__Sub_device_/job:localhost/replica:0/task:0/device:GPU:0}} required broadcastable shapes [Op:Sub]\n\nCall arguments received by layer 'n_beats_block_8' (type NBeatsBlock):\n  • inputs=tf.Tensor(shape=(32, 24, 12, 10), dtype=float32)\n  • training=False"
          ]
        }
      ],
      "source": [
        "import tensorflow as tf\n",
        "\n",
        "# Create some random input and output dimensions\n",
        "input_size = 10\n",
        "output_size = 5\n",
        "history_lookback = 24\n",
        "horizon = 12\n",
        "lstm_units = 32\n",
        "batch_size = 32\n",
        "\n",
        "\n",
        "# Instantiate the NBeatsBlock\n",
        "nbeats_block = NBeatsBlock(hyperparams, input_size, output_size, lstm_units)\n",
        "\n",
        "# Generate some random input and output tensors\n",
        "inputs = tf.random.normal((batch_size, history_lookback, horizon, input_size))\n",
        "backcast_target = tf.random.normal((batch_size, history_lookback, horizon, input_size))\n",
        "forecast_target = tf.random.normal((batch_size, output_size))\n",
        "\n",
        "# Test the call() method\n",
        "backcast, forecast = nbeats_block(inputs)\n",
        "\n",
        "# Check the shapes of the output tensors\n",
        "assert backcast.shape == (batch_size, history_lookback, horizon, input_size)\n",
        "assert forecast.shape == (batch_size, output_size)\n",
        "\n",
        "# Test the LSTM layer\n",
        "lstm_inputs = nbeats_block.fc_layers[0](inputs)\n",
        "lstm_outputs = nbeats_block.lstm_layer(lstm_inputs)\n",
        "\n",
        "# Check the shape of the LSTM output tensor\n",
        "assert lstm_outputs.shape == (batch_size, lstm_units)\n"
      ]
    },
    {
      "cell_type": "code",
      "execution_count": null,
      "metadata": {
        "id": "7Wgh42-zovFa"
      },
      "outputs": [],
      "source": [
        "class NBeatsBlock(tf.keras.layers.Layer):\n",
        "    def __init__(self, hyperparams: Parameters, input_size:int, output_size:int, lstm_units:int,name : str = 'nbeats', **kw):\n",
        "        super(NBeatsBlock, self).__init__(name=name)\n",
        "        self.hyperparams = hyperparams\n",
        "        self.fc_layers = []\n",
        "        for i in range(self.hyperparams.block_layers):\n",
        "            self.fc_layers.append(\n",
        "                tf.keras.layers.Dense(units=self.hyperparams.hidden_layer_units,\n",
        "                                      activation=self.hyperparams.hidden_layer_activation,\n",
        "                                      kernel_regularizer=tf.keras.regularizers.L2(self.hyperparams.l2_regularization),\n",
        "                                      name=f'dense_{i+1}')\n",
        "            )\n",
        "        self.lstm_layer = tf.keras.layers.LSTM(units=self.hyperparams.hidden_layer_units,\n",
        "                                               activation=self.hyperparams.hidden_layer_activation,\n",
        "                                               return_sequences=False,\n",
        "                                               kernel_regularizer=tf.keras.regularizers.L2(self.hyperparams.l2_regularization),\n",
        "                                               name='lstm_layer')\n",
        "        self.backcast = tf.keras.Sequential([\n",
        "            tf.keras.layers.Dense(units=self.hyperparams.hidden_layer_units,\n",
        "                                  activation=self.hyperparams.hidden_layer_activation,\n",
        "                                  kernel_regularizer=tf.keras.regularizers.L2(self.hyperparams.l2_regularization),\n",
        "                                  name='backcast_fc_1'),\n",
        "            tf.keras.layers.Dense(units=self.hyperparams.history_lookback * self.hyperparams.horizon,\n",
        "                                  kernel_regularizer=tf.keras.regularizers.L2(self.hyperparams.l2_regularization),\n",
        "                                  name='backcast_fc_2'),\n",
        "        ], name='backcast')\n",
        "        self.forecast = tf.keras.Sequential([\n",
        "            tf.keras.layers.Dense(units=self.hyperparams.hidden_layer_units,\n",
        "                                  activation=self.hyperparams.hidden_layer_activation,\n",
        "                                  kernel_regularizer=tf.keras.regularizers.L2(self.hyperparams.l2_regularization),\n",
        "                                  name='forecast_fc_1'),\n",
        "            tf.keras.layers.Dense(units=self.hyperparams.horizon * self.hyperparams.forecast_horizon,\n",
        "                                  kernel_regularizer=tf.keras.regularizers.L2(self.hyperparams.l2_regularization),\n",
        "                                  name='forecast_fc_2'),\n",
        "        ], name='forecast')\n",
        "\n",
        "    def call(self, inputs, training=False):\n",
        "        # Reshape input from 2D to 3D\n",
        "        inputs = tf.reshape(inputs, (-1, self.hyperparams.history_lookback, self.hyperparams.horizon))\n",
        "\n",
        "        # Apply fully connected layers\n",
        "        h = self.fc_layers[0](inputs)\n",
        "        for i in range(1, self.hyperparams.block_layers):\n",
        "            h = self.fc_layers[i](h)\n",
        "\n",
        "        # Apply LSTM layer\n",
        "        h = self.lstm_layer(h)\n",
        "\n",
        "        # Compute backcast and forecast\n",
        "        backcast = tf.transpose(self.backcast(h), perm=[0, 2, 1])  # Swap dimensions of backcast tensor\n",
        "        backcast = tf.reshape(backcast, (-1, self.hyperparams.horizon, self.hyperparams.history_lookback))  # Reshape backcast tensor\n",
        "        forecast = self.forecast(h)\n",
        "\n",
        "        # Reshape forecast output from 3D to 2D\n",
        "        forecast = tf.reshape(forecast, (-1, self.hyperparams.forecast_horizon * self.hyperparams.horizon))\n",
        "\n",
        "        # Compute the difference between inputs and backcast\n",
        "        backcast_diff = tf.math.subtract(inputs, backcast)\n",
        "\n",
        "        # Compute the relu of backcast_diff\n",
        "        backcast_diff = tf.keras.activations.relu(backcast_diff)\n",
        "\n",
        "        return backcast_diff, forecast\n",
        "\n",
        "\n",
        "def test_nbeats_block():\n",
        "    # Define hyperparameters\n",
        "    # hyperparams = Parameters()\n",
        "    # hyperparams.history_lookback = 3\n",
        "    # hyperparams.horizon = 2\n",
        "    # hyperparams.block_layers = 2\n",
        "    # hyperparams.hidden_units = 4\n",
        "    # hyperparams.weight_decay = 0.1\n",
        "\n",
        "    # Define input and output sizes\n",
        "    input_size = hyperparams.history_lookback * hyperparams.horizon\n",
        "    output_size = hyperparams.horizon\n",
        "\n",
        "    # Define batch size\n",
        "    batch_size = 2\n",
        "\n",
        "    # Define LSTM units\n",
        "    lstm_units = 8\n",
        "\n",
        "    # # Create inputs\n",
        "    # inputs = tf.constant([[1.0, 2.0, 3.0, 4.0, 5.0, 6.0],\n",
        "    #                       [2.0, 3.0, 4.0, 5.0, 6.0, 7.0],\n",
        "    #                       [3.0, 4.0, 5.0, 6.0, 7.0, 8.0],\n",
        "    #                       [4.0, 5.0, 6.0, 7.0, 8.0, 9.0],\n",
        "    #                       [5.0, 6.0, 7.0, 8.0, 9.0, 10.0],\n",
        "    #                       [6.0, 7.0, 8.0, 9.0, 10.0, 11.0]], shape=(batch_size, input_size))\n",
        "    inputs = tf.random.normal((32, input_size))\n",
        "\n",
        "    # Create NBeatsBlock layer\n",
        "    nbeats_block = NBeatsBlock(hyperparams, input_size, output_size, lstm_units)\n",
        "\n",
        "    # Call NBeatsBlock layer\n",
        "    backcast, forecast = nbeats_block(inputs)\n",
        "\n",
        "    # Check the shapes of the outputs\n",
        "    assert backcast.shape == (batch_size, input_size)\n",
        "    assert forecast.shape == (batch_size, output_size)\n",
        "\n",
        "    # # Check that the output values are correct\n",
        "    # expected_backcast = tf.constant([[0.0, 0.0, 0.0, 0.0, 0.0, 0.0],\n",
        "    #                                  [0.0, 0.0, 0.0, 0.0, 0.0, 0.0]])\n",
        "    # expected_forecast = tf.constant([[0.05723857, 0.0],\n",
        "    #                                  [0.05828238, 0.0]])\n",
        "    # assert np.allclose(backcast, expected_backcast, atol=1e-6)\n",
        "    # assert np.allclose(forecast, expected_forecast, atol=1e-6)\n"
      ]
    },
    {
      "cell_type": "code",
      "execution_count": null,
      "metadata": {
        "colab": {
          "base_uri": "https://localhost:8080/",
          "height": 311
        },
        "id": "eoj2W8SupZmQ",
        "outputId": "b4dc815b-b3b5-4f45-8e23-7c5740ea0217"
      },
      "outputs": [
        {
          "ename": "AttributeError",
          "evalue": "ignored",
          "output_type": "error",
          "traceback": [
            "\u001b[0;31m---------------------------------------------------------------------------\u001b[0m",
            "\u001b[0;31mAttributeError\u001b[0m                            Traceback (most recent call last)",
            "\u001b[0;32m<ipython-input-98-8a028b2230f7>\u001b[0m in \u001b[0;36m<module>\u001b[0;34m\u001b[0m\n\u001b[0;32m----> 1\u001b[0;31m \u001b[0mtest_nbeats_block\u001b[0m\u001b[0;34m(\u001b[0m\u001b[0;34m)\u001b[0m\u001b[0;34m\u001b[0m\u001b[0;34m\u001b[0m\u001b[0m\n\u001b[0m",
            "\u001b[0;32m<ipython-input-97-bda0633826e0>\u001b[0m in \u001b[0;36mtest_nbeats_block\u001b[0;34m()\u001b[0m\n\u001b[1;32m     93\u001b[0m \u001b[0;34m\u001b[0m\u001b[0m\n\u001b[1;32m     94\u001b[0m     \u001b[0;31m# Create NBeatsBlock layer\u001b[0m\u001b[0;34m\u001b[0m\u001b[0;34m\u001b[0m\u001b[0m\n\u001b[0;32m---> 95\u001b[0;31m     \u001b[0mnbeats_block\u001b[0m \u001b[0;34m=\u001b[0m \u001b[0mNBeatsBlock\u001b[0m\u001b[0;34m(\u001b[0m\u001b[0mhyperparams\u001b[0m\u001b[0;34m,\u001b[0m \u001b[0minput_size\u001b[0m\u001b[0;34m,\u001b[0m \u001b[0moutput_size\u001b[0m\u001b[0;34m,\u001b[0m \u001b[0mlstm_units\u001b[0m\u001b[0;34m)\u001b[0m\u001b[0;34m\u001b[0m\u001b[0;34m\u001b[0m\u001b[0m\n\u001b[0m\u001b[1;32m     96\u001b[0m \u001b[0;34m\u001b[0m\u001b[0m\n\u001b[1;32m     97\u001b[0m     \u001b[0;31m# Call NBeatsBlock layer\u001b[0m\u001b[0;34m\u001b[0m\u001b[0;34m\u001b[0m\u001b[0m\n",
            "\u001b[0;32m<ipython-input-97-bda0633826e0>\u001b[0m in \u001b[0;36m__init__\u001b[0;34m(self, hyperparams, input_size, output_size, lstm_units, name, **kw)\u001b[0m\n\u001b[1;32m      7\u001b[0m             self.fc_layers.append(\n\u001b[1;32m      8\u001b[0m                 tf.keras.layers.Dense(units=self.hyperparams.hidden_units,\n\u001b[0;32m----> 9\u001b[0;31m                                       \u001b[0mactivation\u001b[0m\u001b[0;34m=\u001b[0m\u001b[0mself\u001b[0m\u001b[0;34m.\u001b[0m\u001b[0mhyperparams\u001b[0m\u001b[0;34m.\u001b[0m\u001b[0mhidden_layer_activation\u001b[0m\u001b[0;34m,\u001b[0m\u001b[0;34m\u001b[0m\u001b[0;34m\u001b[0m\u001b[0m\n\u001b[0m\u001b[1;32m     10\u001b[0m                                       \u001b[0mkernel_regularizer\u001b[0m\u001b[0;34m=\u001b[0m\u001b[0mtf\u001b[0m\u001b[0;34m.\u001b[0m\u001b[0mkeras\u001b[0m\u001b[0;34m.\u001b[0m\u001b[0mregularizers\u001b[0m\u001b[0;34m.\u001b[0m\u001b[0mL2\u001b[0m\u001b[0;34m(\u001b[0m\u001b[0mself\u001b[0m\u001b[0;34m.\u001b[0m\u001b[0mhyperparams\u001b[0m\u001b[0;34m.\u001b[0m\u001b[0ml2_regularization\u001b[0m\u001b[0;34m)\u001b[0m\u001b[0;34m,\u001b[0m\u001b[0;34m\u001b[0m\u001b[0;34m\u001b[0m\u001b[0m\n\u001b[1;32m     11\u001b[0m                                       name=f'dense_{i+1}')\n",
            "\u001b[0;31mAttributeError\u001b[0m: 'Parameters' object has no attribute 'hidden_layer_activation'"
          ]
        }
      ],
      "source": [
        "test_nbeats_block()"
      ]
    },
    {
      "cell_type": "code",
      "execution_count": null,
      "metadata": {
        "id": "Bz6Wg0J_RxmP"
      },
      "outputs": [],
      "source": [
        "# class NBeats:\n",
        "#     def __init__(self, hyperparams: Parameters, name: str='NBeats', logdir: str='logs', num_nodes: int = 100):\n",
        "#         super(NBeats, self).__init__()\n",
        "#         self.hyperparams = hyperparams\n",
        "#         self.name=name\n",
        "#         self.logdir=logdir\n",
        "#         self.num_nodes = num_nodes\n",
        "#         self.input_size = self.hyperparams.history_lookback*self.hyperparams.horizon\n",
        "\n",
        "#         self.nbeats_layers = []\n",
        "#         self.nbeats_layers.append(NBeatsBlock(hyperparams=hyperparams,\n",
        "#                                                   input_size=self.input_size,\n",
        "#                                                   output_size=hyperparams.horizon,\n",
        "#                                                   name=f\"nbeats_{0}\")\n",
        "#                                       )\n",
        "#         for i in range(1, hyperparams.num_blocks):\n",
        "#             if self.hyperparams.block_sharing:\n",
        "#                 self.nbeats_layers.append(self.nbeats_layers[0])\n",
        "#             else:\n",
        "#                 self.nbeats_layers.append(NBeatsBlock(hyperparams=hyperparams,\n",
        "#                                                     input_size=self.input_size,\n",
        "#                                                     output_size=hyperparams.horizon,\n",
        "#                                                     name=f\"nbeats_{i}\")\n",
        "#                                         )\n",
        "\n",
        "#         inputs, outputs = self.get_model()\n",
        "#         model = tf.keras.Model(inputs=inputs, outputs=outputs, name=name)\n",
        "#         self.inputs = inputs\n",
        "#         self.inputs = outputs\n",
        "#         self.model = model\n",
        "\n",
        "#     def get_model(self):\n",
        "#         history_in = tf.keras.layers.Input(shape=(self.hyperparams.history_lookback*self.hyperparams.horizon,), name='history')\n",
        "\n",
        "#         level = tf.reduce_max(history_in, axis=-1, keepdims=True)\n",
        "#         history_delevel = tf.math.divide_no_nan(history_in, level)\n",
        "\n",
        "#         backcast, forecast = self.nbeats_layers[0](inputs=history_delevel)\n",
        "#         for nb in self.nbeats_layers[1:]:\n",
        "#             backcast, forecast_layer = nb(inputs=backcast)\n",
        "#             forecast = forecast + forecast_layer\n",
        "\n",
        "#         forecast = forecast * level\n",
        "\n",
        "#         inputs = {'history': history_in}\n",
        "#         outputs = {'target': forecast}\n",
        "#         return inputs, outputs\n",
        "\n",
        "#     def forecast(self, train_dataset):\n",
        "#         input_data = train_dataset.get_sequential_batch(win_len=self.hyperparams.horizon*self.hyperparams.history_lookback)\n",
        "#         return self.model.predict({\"history\": input_data[\"history\"]})['target']\n",
        "\n"
      ]
    },
    {
      "cell_type": "code",
      "execution_count": null,
      "metadata": {
        "id": "kN7km0xj39OK"
      },
      "outputs": [],
      "source": [
        "class NBeats:\n",
        "    def __init__(self, hyperparams: Parameters, name: str='NBeats', logdir: str='logs', num_nodes: int = 100):\n",
        "        super(NBeats, self).__init__()\n",
        "        self.hyperparams = hyperparams\n",
        "        self.name=name\n",
        "        self.logdir=logdir\n",
        "        self.num_nodes = num_nodes\n",
        "        self.input_size = self.hyperparams.history_lookback*self.hyperparams.horizon\n",
        "\n",
        "        self.nbeats_layers = []\n",
        "        self.nbeats_layers.append(NBeatsBlock(hyperparams=hyperparams,\n",
        "                                              input_size=self.input_size,\n",
        "                                              output_size=hyperparams.horizon,\n",
        "                                              lstm_units=hyperparams.lstm_units,\n",
        "                                              name=f\"nbeats_{0}\")\n",
        "                                 )\n",
        "        for i in range(1, hyperparams.num_blocks):\n",
        "            if self.hyperparams.block_sharing:\n",
        "                self.nbeats_layers.append(self.nbeats_layers[0])\n",
        "            else:\n",
        "                self.nbeats_layers.append(NBeatsBlock(hyperparams=hyperparams,\n",
        "                                                      input_size=self.input_size,\n",
        "                                                      output_size=hyperparams.horizon,\n",
        "                                                      lstm_units=hyperparams.lstm_units,\n",
        "                                                      name=f\"nbeats_{i}\")\n",
        "                                         )\n",
        "\n",
        "        inputs, outputs = self.get_model()\n",
        "        model = tf.keras.Model(inputs=inputs, outputs=outputs, name=name)\n",
        "        self.inputs = inputs\n",
        "        self.outputs = outputs\n",
        "        self.model = model\n",
        "\n",
        "    def get_model(self):\n",
        "        history_in = tf.keras.layers.Input(shape=(self.hyperparams.history_lookback*self.hyperparams.horizon,), name='history')\n",
        "\n",
        "        level = tf.reduce_max(history_in, axis=-1, keepdims=True)\n",
        "        history_delevel = tf.math.divide_no_nan(history_in, level)\n",
        "\n",
        "        backcast, forecast = self.nbeats_layers[0](inputs=history_delevel)\n",
        "        for nb in self.nbeats_layers[1:]:\n",
        "            backcast, forecast_layer = nb(inputs=backcast)\n",
        "            forecast = forecast + forecast_layer\n",
        "\n",
        "        forecast = forecast * level\n",
        "\n",
        "        inputs = {'history': history_in}\n",
        "        outputs = {'target': forecast}\n",
        "        return inputs, outputs\n",
        "\n",
        "    def forecast(self, train_dataset):\n",
        "        input_data = train_dataset.get_sequential_batch(win_len=self.hyperparams.horizon*self.hyperparams.history_lookback)\n",
        "        return self.model.predict({\"history\": input_data[\"history\"]})['target']\n"
      ]
    },
    {
      "cell_type": "code",
      "execution_count": null,
      "metadata": {
        "id": "0FVE3X_IdTVP"
      },
      "outputs": [],
      "source": [
        "# nbeats = NBeats(hyperparams)\n",
        "# inputs = tf.random.normal([256,12])\n",
        "# forecast = nbeats.forecast(train_dataset)\n",
        "# # forecast"
      ]
    },
    {
      "cell_type": "code",
      "execution_count": null,
      "metadata": {
        "id": "Tx2kLcV_VH0b"
      },
      "outputs": [],
      "source": [
        "def smape(labels, preds):\n",
        "    weights = tf.stop_gradient(\n",
        "        tf.math.divide_no_nan(2.0, (tf.abs(preds) + tf.abs(labels))))\n",
        "    return tf.reduce_mean(tf.abs(preds - labels) * weights)\n",
        "\n",
        "def mape(labels, preds):\n",
        "    weights = tf.math.divide_no_nan(1.0, tf.abs(labels))\n",
        "    return tf.reduce_mean(tf.abs(preds - labels) * weights)\n",
        "\n",
        "def get_pmape_loss(tau):\n",
        "    def pmape_loss(labels, preds):\n",
        "        weights = tf.math.divide_no_nan(1.0, tf.abs(labels))\n",
        "        pinball = tf.where(labels > preds,\n",
        "                           x=tau*(labels - preds),\n",
        "                           y=(1-tau)*(preds-labels))\n",
        "        return tf.reduce_mean(pinball * weights)\n",
        "    return pmape_loss\n",
        "\n",
        "def get_pinball_loss(tau):\n",
        "    def pinball_loss(labels, preds):\n",
        "        pinball = tf.where(labels > preds,\n",
        "                           x=tau*(labels - preds),\n",
        "                           y=(1-tau)*(preds-labels))\n",
        "        return tf.reduce_mean(pinball)\n",
        "    return pinball_loss\n",
        "\n",
        "def mae(labels, preds):\n",
        "    return tf.reduce_mean(tf.abs(preds - labels))\n",
        "\n",
        "\n",
        "class MetricsCallback(tf.keras.callbacks.Callback):\n",
        "    def __init__(self, train_dataset, test_dataset, hyperparams):\n",
        "        super().__init__()\n",
        "        self.input_data = train_dataset.get_sequential_batch(win_len=hyperparams.horizon*hyperparams.history_lookback)\n",
        "        self.target = np.array(test_dataset.ts_raw)\n",
        "\n",
        "    def on_train_begin(self, logs={}):\n",
        "        pass\n",
        "\n",
        "    def on_epoch_end(self, epoch, logs={}):\n",
        "        prediction_test = self.model.predict({\"history\": self.input_data[\"history\"]})\n",
        "        logs['smape_test'] = smape(preds=prediction_test['target'], labels=self.target)\n",
        "        logs['mape_test'] = mape(preds=prediction_test['target'], labels=self.target)\n",
        "\n",
        "class Trainer:\n",
        "    def __init__(self, hyperparams: Parameters, logdir: str):\n",
        "        inp = dict(hyperparams._asdict())\n",
        "        values = [v if isinstance(v, list) else [v] for v in inp.values()]\n",
        "        self.hyperparams = [Parameters(**dict(zip(inp.keys(), v))) for v in product(*values)]\n",
        "        inp_lists = {k: v  for k, v in inp.items() if isinstance(v, list)}\n",
        "        values = [v for v in inp_lists.values()]\n",
        "        variable_values = [dict(zip(inp_lists.keys(), v)) for v in product(*values)]\n",
        "        folder_names = []\n",
        "        for d in variable_values:\n",
        "            folder_names.append(\n",
        "                ';'.join(['%s=%s' % (key, value) for (key, value) in d.items()])\n",
        "            )\n",
        "        self.history = []\n",
        "        self.forecasts = []\n",
        "        self.models = []\n",
        "        self.logdir = logdir\n",
        "        self.folder_names = folder_names\n",
        "        for i, h in enumerate(self.hyperparams):\n",
        "            self.models.append(NBeats(hyperparams=h, name=f\"nbeats_model_{i}\",\n",
        "                                      logdir=os.path.join(self.logdir, folder_names[i])))\n",
        "\n",
        "    def generator(self, ds, hyperparams: Parameters):\n",
        "        while True:\n",
        "            batch = ds.get_batch(batch_size=hyperparams.batch_size,\n",
        "                                 win_len=hyperparams.horizon*hyperparams.history_lookback,\n",
        "                                 horizon=hyperparams.horizon,\n",
        "                                 ts_sampling=hyperparams.ts_sampling)\n",
        "\n",
        "            yield  {\"history\": batch[\"history\"]}, {\"target\": batch[\"target\"]}\n",
        "\n",
        "    def save_forecast(self, forecast: np.ndarray, filename: str = \"forecast.npy\"):\n",
        "        np.save(f\"{WORKING_PATH}/{filename}\", forecast)\n",
        "\n",
        "    def fit(self, train_dataset, test_dataset, verbose=1):\n",
        "        for i, hyperparams in enumerate(self.hyperparams):\n",
        "            if verbose > 0:\n",
        "                print(f\"Fitting model {i+1} out of {len(self.hyperparams)}, {self.folder_names[i]}\")\n",
        "\n",
        "            path = f\"results/{MODEL_VERSION}_split{self.models[i].hyperparams.split}/\"\n",
        "            pathlib.Path(f\"{WORKING_PATH}/{path}\").mkdir(parents=True, exist_ok=True)\n",
        "            filename = os.path.join(path, self.folder_names[i]+'.npy')\n",
        "            if os.path.exists(f\"{WORKING_PATH}/{filename}\"):\n",
        "                continue\n",
        "\n",
        "            boundary_step = hyperparams.epochs // 10\n",
        "            boundary_start = hyperparams.epochs - boundary_step*hyperparams.decay_steps - 1\n",
        "\n",
        "            boundaries = list(range(boundary_start, hyperparams.epochs, boundary_step))\n",
        "            values = list(hyperparams.init_learning_rate * hyperparams.decay_rate ** np.arange(0, len(boundaries)+1))\n",
        "            scheduler = tf.keras.optimizers.schedules.PiecewiseConstantDecay(boundaries=boundaries, values=values)\n",
        "\n",
        "            lr = tf.keras.callbacks.LearningRateScheduler(scheduler, verbose=0)\n",
        "\n",
        "            metrics = MetricsCallback(train_dataset=train_dataset, test_dataset=test_dataset, hyperparams=hyperparams)\n",
        "            # tb = tf.keras.callbacks.TensorBoard(log_dir=self.models[i].logdir, embeddings_freq=10)\n",
        "\n",
        "            if hyperparams.loss == 'smape':\n",
        "                loss = smape\n",
        "            elif hyperparams.loss == 'mape':\n",
        "                loss = mape\n",
        "            elif hyperparams.loss == 'mae':\n",
        "                loss = mae\n",
        "            elif hyperparams.loss == 'pmape':\n",
        "                loss = get_pmape_loss(hyperparams.pinball_tau)\n",
        "            elif hyperparams.loss == 'pinball':\n",
        "                loss = get_pinball_loss(hyperparams.pinball_tau)\n",
        "\n",
        "            self.models[i].model.compile(optimizer=tf.keras.optimizers.Adam(),\n",
        "                                         loss=loss)\n",
        "\n",
        "            fit_output = self.models[i].model.fit(self.generator(ds=train_dataset, hyperparams=hyperparams),\n",
        "                                            callbacks=[lr, metrics], # tb\n",
        "                                            epochs=hyperparams.epochs,\n",
        "                                            steps_per_epoch=hyperparams.steps_per_epoch,\n",
        "                                            verbose=verbose)\n",
        "            self.history.append(fit_output.history)\n",
        "\n",
        "            model_forecast = self.models[i].forecast(train_dataset)\n",
        "            self.save_forecast(forecast=model_forecast, filename=filename)\n"
      ]
    },
    {
      "cell_type": "code",
      "execution_count": null,
      "metadata": {
        "colab": {
          "base_uri": "https://localhost:8080/",
          "height": 328
        },
        "id": "koXyMbjAVSE7",
        "outputId": "6586f24d-4306-46cb-daa8-3bf884c9e512"
      },
      "outputs": [
        {
          "ename": "KeyboardInterrupt",
          "evalue": "ignored",
          "output_type": "error",
          "traceback": [
            "\u001b[0;31m---------------------------------------------------------------------------\u001b[0m",
            "\u001b[0;31mKeyboardInterrupt\u001b[0m                         Traceback (most recent call last)",
            "\u001b[0;32m<ipython-input-16-b56288d96b39>\u001b[0m in \u001b[0;36m<module>\u001b[0;34m\u001b[0m\n\u001b[0;32m----> 1\u001b[0;31m \u001b[0mtrainer\u001b[0m \u001b[0;34m=\u001b[0m \u001b[0mTrainer\u001b[0m\u001b[0;34m(\u001b[0m\u001b[0mhyperparams\u001b[0m\u001b[0;34m=\u001b[0m\u001b[0mhyperparams\u001b[0m\u001b[0;34m,\u001b[0m \u001b[0mlogdir\u001b[0m\u001b[0;34m=\u001b[0m\u001b[0mLOGDIR\u001b[0m\u001b[0;34m)\u001b[0m\u001b[0;34m\u001b[0m\u001b[0;34m\u001b[0m\u001b[0m\n\u001b[0m\u001b[1;32m      2\u001b[0m \u001b[0mtrainer\u001b[0m\u001b[0;34m.\u001b[0m\u001b[0mfit\u001b[0m\u001b[0;34m(\u001b[0m\u001b[0mtrain_dataset\u001b[0m\u001b[0;34m=\u001b[0m\u001b[0mtrain_dataset\u001b[0m\u001b[0;34m,\u001b[0m \u001b[0mtest_dataset\u001b[0m\u001b[0;34m=\u001b[0m\u001b[0mtest_dataset\u001b[0m\u001b[0;34m)\u001b[0m\u001b[0;34m\u001b[0m\u001b[0;34m\u001b[0m\u001b[0m\n",
            "\u001b[0;32m<ipython-input-15-402056e3a7f1>\u001b[0m in \u001b[0;36m__init__\u001b[0;34m(self, hyperparams, logdir)\u001b[0m\n\u001b[1;32m     62\u001b[0m         \u001b[0mself\u001b[0m\u001b[0;34m.\u001b[0m\u001b[0mfolder_names\u001b[0m \u001b[0;34m=\u001b[0m \u001b[0mfolder_names\u001b[0m\u001b[0;34m\u001b[0m\u001b[0;34m\u001b[0m\u001b[0m\n\u001b[1;32m     63\u001b[0m         \u001b[0;32mfor\u001b[0m \u001b[0mi\u001b[0m\u001b[0;34m,\u001b[0m \u001b[0mh\u001b[0m \u001b[0;32min\u001b[0m \u001b[0menumerate\u001b[0m\u001b[0;34m(\u001b[0m\u001b[0mself\u001b[0m\u001b[0;34m.\u001b[0m\u001b[0mhyperparams\u001b[0m\u001b[0;34m)\u001b[0m\u001b[0;34m:\u001b[0m\u001b[0;34m\u001b[0m\u001b[0;34m\u001b[0m\u001b[0m\n\u001b[0;32m---> 64\u001b[0;31m             self.models.append(NBeats(hyperparams=h, name=f\"nbeats_model_{i}\", \n\u001b[0m\u001b[1;32m     65\u001b[0m                                       logdir=os.path.join(self.logdir, folder_names[i])))\n\u001b[1;32m     66\u001b[0m \u001b[0;34m\u001b[0m\u001b[0m\n",
            "\u001b[0;32m<ipython-input-14-cc356afd777e>\u001b[0m in \u001b[0;36m__init__\u001b[0;34m(self, hyperparams, name, logdir, num_nodes)\u001b[0m\n\u001b[1;32m     26\u001b[0m                                          )\n\u001b[1;32m     27\u001b[0m \u001b[0;34m\u001b[0m\u001b[0m\n\u001b[0;32m---> 28\u001b[0;31m         \u001b[0minputs\u001b[0m\u001b[0;34m,\u001b[0m \u001b[0moutputs\u001b[0m \u001b[0;34m=\u001b[0m \u001b[0mself\u001b[0m\u001b[0;34m.\u001b[0m\u001b[0mget_model\u001b[0m\u001b[0;34m(\u001b[0m\u001b[0;34m)\u001b[0m\u001b[0;34m\u001b[0m\u001b[0;34m\u001b[0m\u001b[0m\n\u001b[0m\u001b[1;32m     29\u001b[0m         \u001b[0mmodel\u001b[0m \u001b[0;34m=\u001b[0m \u001b[0mtf\u001b[0m\u001b[0;34m.\u001b[0m\u001b[0mkeras\u001b[0m\u001b[0;34m.\u001b[0m\u001b[0mModel\u001b[0m\u001b[0;34m(\u001b[0m\u001b[0minputs\u001b[0m\u001b[0;34m=\u001b[0m\u001b[0minputs\u001b[0m\u001b[0;34m,\u001b[0m \u001b[0moutputs\u001b[0m\u001b[0;34m=\u001b[0m\u001b[0moutputs\u001b[0m\u001b[0;34m,\u001b[0m \u001b[0mname\u001b[0m\u001b[0;34m=\u001b[0m\u001b[0mname\u001b[0m\u001b[0;34m)\u001b[0m\u001b[0;34m\u001b[0m\u001b[0;34m\u001b[0m\u001b[0m\n\u001b[1;32m     30\u001b[0m         \u001b[0mself\u001b[0m\u001b[0;34m.\u001b[0m\u001b[0minputs\u001b[0m \u001b[0;34m=\u001b[0m \u001b[0minputs\u001b[0m\u001b[0;34m\u001b[0m\u001b[0;34m\u001b[0m\u001b[0m\n",
            "\u001b[0;32m<ipython-input-14-cc356afd777e>\u001b[0m in \u001b[0;36mget_model\u001b[0;34m(self)\u001b[0m\n\u001b[1;32m     40\u001b[0m         \u001b[0mbackcast\u001b[0m\u001b[0;34m,\u001b[0m \u001b[0mforecast\u001b[0m \u001b[0;34m=\u001b[0m \u001b[0mself\u001b[0m\u001b[0;34m.\u001b[0m\u001b[0mnbeats_layers\u001b[0m\u001b[0;34m[\u001b[0m\u001b[0;36m0\u001b[0m\u001b[0;34m]\u001b[0m\u001b[0;34m(\u001b[0m\u001b[0minputs\u001b[0m\u001b[0;34m=\u001b[0m\u001b[0mhistory_delevel\u001b[0m\u001b[0;34m)\u001b[0m\u001b[0;34m\u001b[0m\u001b[0;34m\u001b[0m\u001b[0m\n\u001b[1;32m     41\u001b[0m         \u001b[0;32mfor\u001b[0m \u001b[0mnb\u001b[0m \u001b[0;32min\u001b[0m \u001b[0mself\u001b[0m\u001b[0;34m.\u001b[0m\u001b[0mnbeats_layers\u001b[0m\u001b[0;34m[\u001b[0m\u001b[0;36m1\u001b[0m\u001b[0;34m:\u001b[0m\u001b[0;34m]\u001b[0m\u001b[0;34m:\u001b[0m\u001b[0;34m\u001b[0m\u001b[0;34m\u001b[0m\u001b[0m\n\u001b[0;32m---> 42\u001b[0;31m             \u001b[0mbackcast\u001b[0m\u001b[0;34m,\u001b[0m \u001b[0mforecast_layer\u001b[0m \u001b[0;34m=\u001b[0m \u001b[0mnb\u001b[0m\u001b[0;34m(\u001b[0m\u001b[0minputs\u001b[0m\u001b[0;34m=\u001b[0m\u001b[0mbackcast\u001b[0m\u001b[0;34m)\u001b[0m\u001b[0;34m\u001b[0m\u001b[0;34m\u001b[0m\u001b[0m\n\u001b[0m\u001b[1;32m     43\u001b[0m             \u001b[0mforecast\u001b[0m \u001b[0;34m=\u001b[0m \u001b[0mforecast\u001b[0m \u001b[0;34m+\u001b[0m \u001b[0mforecast_layer\u001b[0m\u001b[0;34m\u001b[0m\u001b[0;34m\u001b[0m\u001b[0m\n\u001b[1;32m     44\u001b[0m \u001b[0;34m\u001b[0m\u001b[0m\n",
            "\u001b[0;32m/usr/local/lib/python3.9/dist-packages/keras/utils/traceback_utils.py\u001b[0m in \u001b[0;36merror_handler\u001b[0;34m(*args, **kwargs)\u001b[0m\n\u001b[1;32m     63\u001b[0m         \u001b[0mfiltered_tb\u001b[0m \u001b[0;34m=\u001b[0m \u001b[0;32mNone\u001b[0m\u001b[0;34m\u001b[0m\u001b[0;34m\u001b[0m\u001b[0m\n\u001b[1;32m     64\u001b[0m         \u001b[0;32mtry\u001b[0m\u001b[0;34m:\u001b[0m\u001b[0;34m\u001b[0m\u001b[0;34m\u001b[0m\u001b[0m\n\u001b[0;32m---> 65\u001b[0;31m             \u001b[0;32mreturn\u001b[0m \u001b[0mfn\u001b[0m\u001b[0;34m(\u001b[0m\u001b[0;34m*\u001b[0m\u001b[0margs\u001b[0m\u001b[0;34m,\u001b[0m \u001b[0;34m**\u001b[0m\u001b[0mkwargs\u001b[0m\u001b[0;34m)\u001b[0m\u001b[0;34m\u001b[0m\u001b[0;34m\u001b[0m\u001b[0m\n\u001b[0m\u001b[1;32m     66\u001b[0m         \u001b[0;32mexcept\u001b[0m \u001b[0mException\u001b[0m \u001b[0;32mas\u001b[0m \u001b[0me\u001b[0m\u001b[0;34m:\u001b[0m\u001b[0;34m\u001b[0m\u001b[0;34m\u001b[0m\u001b[0m\n\u001b[1;32m     67\u001b[0m             \u001b[0mfiltered_tb\u001b[0m \u001b[0;34m=\u001b[0m \u001b[0m_process_traceback_frames\u001b[0m\u001b[0;34m(\u001b[0m\u001b[0me\u001b[0m\u001b[0;34m.\u001b[0m\u001b[0m__traceback__\u001b[0m\u001b[0;34m)\u001b[0m\u001b[0;34m\u001b[0m\u001b[0;34m\u001b[0m\u001b[0m\n",
            "\u001b[0;32m/usr/local/lib/python3.9/dist-packages/keras/engine/base_layer.py\u001b[0m in \u001b[0;36m__call__\u001b[0;34m(self, *args, **kwargs)\u001b[0m\n\u001b[1;32m   1043\u001b[0m             \u001b[0mself\u001b[0m\u001b[0;34m,\u001b[0m \u001b[0minputs\u001b[0m\u001b[0;34m,\u001b[0m \u001b[0margs\u001b[0m\u001b[0;34m,\u001b[0m \u001b[0mkwargs\u001b[0m\u001b[0;34m,\u001b[0m \u001b[0minput_list\u001b[0m\u001b[0;34m\u001b[0m\u001b[0;34m\u001b[0m\u001b[0m\n\u001b[1;32m   1044\u001b[0m         ):\n\u001b[0;32m-> 1045\u001b[0;31m             return self._functional_construction_call(\n\u001b[0m\u001b[1;32m   1046\u001b[0m                 \u001b[0minputs\u001b[0m\u001b[0;34m,\u001b[0m \u001b[0margs\u001b[0m\u001b[0;34m,\u001b[0m \u001b[0mkwargs\u001b[0m\u001b[0;34m,\u001b[0m \u001b[0minput_list\u001b[0m\u001b[0;34m\u001b[0m\u001b[0;34m\u001b[0m\u001b[0m\n\u001b[1;32m   1047\u001b[0m             )\n",
            "\u001b[0;32m/usr/local/lib/python3.9/dist-packages/keras/engine/base_layer.py\u001b[0m in \u001b[0;36m_functional_construction_call\u001b[0;34m(self, inputs, args, kwargs, input_list)\u001b[0m\n\u001b[1;32m   2533\u001b[0m             \u001b[0;31m# Check input assumptions set after layer building, e.g. input\u001b[0m\u001b[0;34m\u001b[0m\u001b[0;34m\u001b[0m\u001b[0m\n\u001b[1;32m   2534\u001b[0m             \u001b[0;31m# shape.\u001b[0m\u001b[0;34m\u001b[0m\u001b[0;34m\u001b[0m\u001b[0m\n\u001b[0;32m-> 2535\u001b[0;31m             outputs = self._keras_tensor_symbolic_call(\n\u001b[0m\u001b[1;32m   2536\u001b[0m                 \u001b[0minputs\u001b[0m\u001b[0;34m,\u001b[0m \u001b[0minput_masks\u001b[0m\u001b[0;34m,\u001b[0m \u001b[0margs\u001b[0m\u001b[0;34m,\u001b[0m \u001b[0mkwargs\u001b[0m\u001b[0;34m\u001b[0m\u001b[0;34m\u001b[0m\u001b[0m\n\u001b[1;32m   2537\u001b[0m             )\n",
            "\u001b[0;32m/usr/local/lib/python3.9/dist-packages/keras/engine/base_layer.py\u001b[0m in \u001b[0;36m_keras_tensor_symbolic_call\u001b[0;34m(self, inputs, input_masks, args, kwargs)\u001b[0m\n\u001b[1;32m   2380\u001b[0m             )\n\u001b[1;32m   2381\u001b[0m         \u001b[0;32melse\u001b[0m\u001b[0;34m:\u001b[0m\u001b[0;34m\u001b[0m\u001b[0;34m\u001b[0m\u001b[0m\n\u001b[0;32m-> 2382\u001b[0;31m             return self._infer_output_signature(\n\u001b[0m\u001b[1;32m   2383\u001b[0m                 \u001b[0minputs\u001b[0m\u001b[0;34m,\u001b[0m \u001b[0margs\u001b[0m\u001b[0;34m,\u001b[0m \u001b[0mkwargs\u001b[0m\u001b[0;34m,\u001b[0m \u001b[0minput_masks\u001b[0m\u001b[0;34m\u001b[0m\u001b[0;34m\u001b[0m\u001b[0m\n\u001b[1;32m   2384\u001b[0m             )\n",
            "\u001b[0;32m/usr/local/lib/python3.9/dist-packages/keras/engine/base_layer.py\u001b[0m in \u001b[0;36m_infer_output_signature\u001b[0;34m(self, inputs, args, kwargs, input_masks)\u001b[0m\n\u001b[1;32m   2439\u001b[0m                     \u001b[0mself\u001b[0m\u001b[0;34m.\u001b[0m\u001b[0m_maybe_build\u001b[0m\u001b[0;34m(\u001b[0m\u001b[0minputs\u001b[0m\u001b[0;34m)\u001b[0m\u001b[0;34m\u001b[0m\u001b[0;34m\u001b[0m\u001b[0m\n\u001b[1;32m   2440\u001b[0m                     \u001b[0minputs\u001b[0m \u001b[0;34m=\u001b[0m \u001b[0mself\u001b[0m\u001b[0;34m.\u001b[0m\u001b[0m_maybe_cast_inputs\u001b[0m\u001b[0;34m(\u001b[0m\u001b[0minputs\u001b[0m\u001b[0;34m)\u001b[0m\u001b[0;34m\u001b[0m\u001b[0;34m\u001b[0m\u001b[0m\n\u001b[0;32m-> 2441\u001b[0;31m                     \u001b[0moutputs\u001b[0m \u001b[0;34m=\u001b[0m \u001b[0mcall_fn\u001b[0m\u001b[0;34m(\u001b[0m\u001b[0minputs\u001b[0m\u001b[0;34m,\u001b[0m \u001b[0;34m*\u001b[0m\u001b[0margs\u001b[0m\u001b[0;34m,\u001b[0m \u001b[0;34m**\u001b[0m\u001b[0mkwargs\u001b[0m\u001b[0;34m)\u001b[0m\u001b[0;34m\u001b[0m\u001b[0;34m\u001b[0m\u001b[0m\n\u001b[0m\u001b[1;32m   2442\u001b[0m \u001b[0;34m\u001b[0m\u001b[0m\n\u001b[1;32m   2443\u001b[0m                 \u001b[0mself\u001b[0m\u001b[0;34m.\u001b[0m\u001b[0m_handle_activity_regularization\u001b[0m\u001b[0;34m(\u001b[0m\u001b[0minputs\u001b[0m\u001b[0;34m,\u001b[0m \u001b[0moutputs\u001b[0m\u001b[0;34m)\u001b[0m\u001b[0;34m\u001b[0m\u001b[0;34m\u001b[0m\u001b[0m\n",
            "\u001b[0;32m/usr/local/lib/python3.9/dist-packages/keras/utils/traceback_utils.py\u001b[0m in \u001b[0;36merror_handler\u001b[0;34m(*args, **kwargs)\u001b[0m\n\u001b[1;32m     94\u001b[0m         \u001b[0mbound_signature\u001b[0m \u001b[0;34m=\u001b[0m \u001b[0;32mNone\u001b[0m\u001b[0;34m\u001b[0m\u001b[0;34m\u001b[0m\u001b[0m\n\u001b[1;32m     95\u001b[0m         \u001b[0;32mtry\u001b[0m\u001b[0;34m:\u001b[0m\u001b[0;34m\u001b[0m\u001b[0;34m\u001b[0m\u001b[0m\n\u001b[0;32m---> 96\u001b[0;31m             \u001b[0;32mreturn\u001b[0m \u001b[0mfn\u001b[0m\u001b[0;34m(\u001b[0m\u001b[0;34m*\u001b[0m\u001b[0margs\u001b[0m\u001b[0;34m,\u001b[0m \u001b[0;34m**\u001b[0m\u001b[0mkwargs\u001b[0m\u001b[0;34m)\u001b[0m\u001b[0;34m\u001b[0m\u001b[0;34m\u001b[0m\u001b[0m\n\u001b[0m\u001b[1;32m     97\u001b[0m         \u001b[0;32mexcept\u001b[0m \u001b[0mException\u001b[0m \u001b[0;32mas\u001b[0m \u001b[0me\u001b[0m\u001b[0;34m:\u001b[0m\u001b[0;34m\u001b[0m\u001b[0;34m\u001b[0m\u001b[0m\n\u001b[1;32m     98\u001b[0m             \u001b[0;32mif\u001b[0m \u001b[0mhasattr\u001b[0m\u001b[0;34m(\u001b[0m\u001b[0me\u001b[0m\u001b[0;34m,\u001b[0m \u001b[0;34m\"_keras_call_info_injected\"\u001b[0m\u001b[0;34m)\u001b[0m\u001b[0;34m:\u001b[0m\u001b[0;34m\u001b[0m\u001b[0;34m\u001b[0m\u001b[0m\n",
            "\u001b[0;32m/usr/local/lib/python3.9/dist-packages/tensorflow/python/autograph/impl/api.py\u001b[0m in \u001b[0;36mwrapper\u001b[0;34m(*args, **kwargs)\u001b[0m\n\u001b[1;32m    687\u001b[0m       \u001b[0;32mtry\u001b[0m\u001b[0;34m:\u001b[0m\u001b[0;34m\u001b[0m\u001b[0;34m\u001b[0m\u001b[0m\n\u001b[1;32m    688\u001b[0m         \u001b[0;32mwith\u001b[0m \u001b[0mconversion_ctx\u001b[0m\u001b[0;34m:\u001b[0m\u001b[0;34m\u001b[0m\u001b[0;34m\u001b[0m\u001b[0m\n\u001b[0;32m--> 689\u001b[0;31m           \u001b[0;32mreturn\u001b[0m \u001b[0mconverted_call\u001b[0m\u001b[0;34m(\u001b[0m\u001b[0mf\u001b[0m\u001b[0;34m,\u001b[0m \u001b[0margs\u001b[0m\u001b[0;34m,\u001b[0m \u001b[0mkwargs\u001b[0m\u001b[0;34m,\u001b[0m \u001b[0moptions\u001b[0m\u001b[0;34m=\u001b[0m\u001b[0moptions\u001b[0m\u001b[0;34m)\u001b[0m\u001b[0;34m\u001b[0m\u001b[0;34m\u001b[0m\u001b[0m\n\u001b[0m\u001b[1;32m    690\u001b[0m       \u001b[0;32mexcept\u001b[0m \u001b[0mException\u001b[0m \u001b[0;32mas\u001b[0m \u001b[0me\u001b[0m\u001b[0;34m:\u001b[0m  \u001b[0;31m# pylint:disable=broad-except\u001b[0m\u001b[0;34m\u001b[0m\u001b[0;34m\u001b[0m\u001b[0m\n\u001b[1;32m    691\u001b[0m         \u001b[0;32mif\u001b[0m \u001b[0mhasattr\u001b[0m\u001b[0;34m(\u001b[0m\u001b[0me\u001b[0m\u001b[0;34m,\u001b[0m \u001b[0;34m'ag_error_metadata'\u001b[0m\u001b[0;34m)\u001b[0m\u001b[0;34m:\u001b[0m\u001b[0;34m\u001b[0m\u001b[0;34m\u001b[0m\u001b[0m\n",
            "\u001b[0;32m/usr/local/lib/python3.9/dist-packages/tensorflow/python/autograph/impl/api.py\u001b[0m in \u001b[0;36mconverted_call\u001b[0;34m(f, args, kwargs, caller_fn_scope, options)\u001b[0m\n\u001b[1;32m    437\u001b[0m     \u001b[0;32mtry\u001b[0m\u001b[0;34m:\u001b[0m\u001b[0;34m\u001b[0m\u001b[0;34m\u001b[0m\u001b[0m\n\u001b[1;32m    438\u001b[0m       \u001b[0;32mif\u001b[0m \u001b[0mkwargs\u001b[0m \u001b[0;32mis\u001b[0m \u001b[0;32mnot\u001b[0m \u001b[0;32mNone\u001b[0m\u001b[0;34m:\u001b[0m\u001b[0;34m\u001b[0m\u001b[0;34m\u001b[0m\u001b[0m\n\u001b[0;32m--> 439\u001b[0;31m         \u001b[0mresult\u001b[0m \u001b[0;34m=\u001b[0m \u001b[0mconverted_f\u001b[0m\u001b[0;34m(\u001b[0m\u001b[0;34m*\u001b[0m\u001b[0meffective_args\u001b[0m\u001b[0;34m,\u001b[0m \u001b[0;34m**\u001b[0m\u001b[0mkwargs\u001b[0m\u001b[0;34m)\u001b[0m\u001b[0;34m\u001b[0m\u001b[0;34m\u001b[0m\u001b[0m\n\u001b[0m\u001b[1;32m    440\u001b[0m       \u001b[0;32melse\u001b[0m\u001b[0;34m:\u001b[0m\u001b[0;34m\u001b[0m\u001b[0;34m\u001b[0m\u001b[0m\n\u001b[1;32m    441\u001b[0m         \u001b[0mresult\u001b[0m \u001b[0;34m=\u001b[0m \u001b[0mconverted_f\u001b[0m\u001b[0;34m(\u001b[0m\u001b[0;34m*\u001b[0m\u001b[0meffective_args\u001b[0m\u001b[0;34m)\u001b[0m\u001b[0;34m\u001b[0m\u001b[0;34m\u001b[0m\u001b[0m\n",
            "\u001b[0;32m/tmp/__autograph_generated_file6tt3q4lp.py\u001b[0m in \u001b[0;36mtf__call\u001b[0;34m(self, inputs, training)\u001b[0m\n\u001b[1;32m     24\u001b[0m                 \u001b[0mi\u001b[0m \u001b[0;34m=\u001b[0m \u001b[0mag__\u001b[0m\u001b[0;34m.\u001b[0m\u001b[0mUndefined\u001b[0m\u001b[0;34m(\u001b[0m\u001b[0;34m'i'\u001b[0m\u001b[0;34m)\u001b[0m\u001b[0;34m\u001b[0m\u001b[0;34m\u001b[0m\u001b[0m\n\u001b[1;32m     25\u001b[0m                 \u001b[0mag__\u001b[0m\u001b[0;34m.\u001b[0m\u001b[0mfor_stmt\u001b[0m\u001b[0;34m(\u001b[0m\u001b[0mag__\u001b[0m\u001b[0;34m.\u001b[0m\u001b[0mconverted_call\u001b[0m\u001b[0;34m(\u001b[0m\u001b[0mag__\u001b[0m\u001b[0;34m.\u001b[0m\u001b[0mld\u001b[0m\u001b[0;34m(\u001b[0m\u001b[0mrange\u001b[0m\u001b[0;34m)\u001b[0m\u001b[0;34m,\u001b[0m \u001b[0;34m(\u001b[0m\u001b[0;36m1\u001b[0m\u001b[0;34m,\u001b[0m \u001b[0mag__\u001b[0m\u001b[0;34m.\u001b[0m\u001b[0mld\u001b[0m\u001b[0;34m(\u001b[0m\u001b[0mself\u001b[0m\u001b[0;34m)\u001b[0m\u001b[0;34m.\u001b[0m\u001b[0mhyperparams\u001b[0m\u001b[0;34m.\u001b[0m\u001b[0mblock_layers\u001b[0m\u001b[0;34m)\u001b[0m\u001b[0;34m,\u001b[0m \u001b[0;32mNone\u001b[0m\u001b[0;34m,\u001b[0m \u001b[0mfscope\u001b[0m\u001b[0;34m)\u001b[0m\u001b[0;34m,\u001b[0m \u001b[0;32mNone\u001b[0m\u001b[0;34m,\u001b[0m \u001b[0mloop_body\u001b[0m\u001b[0;34m,\u001b[0m \u001b[0mget_state\u001b[0m\u001b[0;34m,\u001b[0m \u001b[0mset_state\u001b[0m\u001b[0;34m,\u001b[0m \u001b[0;34m(\u001b[0m\u001b[0;34m'h'\u001b[0m\u001b[0;34m,\u001b[0m\u001b[0;34m)\u001b[0m\u001b[0;34m,\u001b[0m \u001b[0;34m{\u001b[0m\u001b[0;34m'iterate_names'\u001b[0m\u001b[0;34m:\u001b[0m \u001b[0;34m'i'\u001b[0m\u001b[0;34m}\u001b[0m\u001b[0;34m)\u001b[0m\u001b[0;34m\u001b[0m\u001b[0;34m\u001b[0m\u001b[0m\n\u001b[0;32m---> 26\u001b[0;31m                 \u001b[0mh\u001b[0m \u001b[0;34m=\u001b[0m \u001b[0mag__\u001b[0m\u001b[0;34m.\u001b[0m\u001b[0mconverted_call\u001b[0m\u001b[0;34m(\u001b[0m\u001b[0mag__\u001b[0m\u001b[0;34m.\u001b[0m\u001b[0mld\u001b[0m\u001b[0;34m(\u001b[0m\u001b[0mself\u001b[0m\u001b[0;34m)\u001b[0m\u001b[0;34m.\u001b[0m\u001b[0mlstm_layer\u001b[0m\u001b[0;34m,\u001b[0m \u001b[0;34m(\u001b[0m\u001b[0mag__\u001b[0m\u001b[0;34m.\u001b[0m\u001b[0mld\u001b[0m\u001b[0;34m(\u001b[0m\u001b[0mh\u001b[0m\u001b[0;34m)\u001b[0m\u001b[0;34m,\u001b[0m\u001b[0;34m)\u001b[0m\u001b[0;34m,\u001b[0m \u001b[0;32mNone\u001b[0m\u001b[0;34m,\u001b[0m \u001b[0mfscope\u001b[0m\u001b[0;34m)\u001b[0m\u001b[0;34m\u001b[0m\u001b[0;34m\u001b[0m\u001b[0m\n\u001b[0m\u001b[1;32m     27\u001b[0m                 \u001b[0mbackcast\u001b[0m \u001b[0;34m=\u001b[0m \u001b[0mag__\u001b[0m\u001b[0;34m.\u001b[0m\u001b[0mconverted_call\u001b[0m\u001b[0;34m(\u001b[0m\u001b[0mag__\u001b[0m\u001b[0;34m.\u001b[0m\u001b[0mld\u001b[0m\u001b[0;34m(\u001b[0m\u001b[0mtf\u001b[0m\u001b[0;34m)\u001b[0m\u001b[0;34m.\u001b[0m\u001b[0mkeras\u001b[0m\u001b[0;34m.\u001b[0m\u001b[0mactivations\u001b[0m\u001b[0;34m.\u001b[0m\u001b[0mrelu\u001b[0m\u001b[0;34m,\u001b[0m \u001b[0;34m(\u001b[0m\u001b[0mag__\u001b[0m\u001b[0;34m.\u001b[0m\u001b[0mld\u001b[0m\u001b[0;34m(\u001b[0m\u001b[0minputs\u001b[0m\u001b[0;34m)\u001b[0m \u001b[0;34m-\u001b[0m \u001b[0mag__\u001b[0m\u001b[0;34m.\u001b[0m\u001b[0mconverted_call\u001b[0m\u001b[0;34m(\u001b[0m\u001b[0mag__\u001b[0m\u001b[0;34m.\u001b[0m\u001b[0mld\u001b[0m\u001b[0;34m(\u001b[0m\u001b[0mself\u001b[0m\u001b[0;34m)\u001b[0m\u001b[0;34m.\u001b[0m\u001b[0mbackcast\u001b[0m\u001b[0;34m,\u001b[0m \u001b[0;34m(\u001b[0m\u001b[0mag__\u001b[0m\u001b[0;34m.\u001b[0m\u001b[0mld\u001b[0m\u001b[0;34m(\u001b[0m\u001b[0mh\u001b[0m\u001b[0;34m)\u001b[0m\u001b[0;34m,\u001b[0m\u001b[0;34m)\u001b[0m\u001b[0;34m,\u001b[0m \u001b[0;32mNone\u001b[0m\u001b[0;34m,\u001b[0m \u001b[0mfscope\u001b[0m\u001b[0;34m)\u001b[0m\u001b[0;34m,\u001b[0m\u001b[0;34m)\u001b[0m\u001b[0;34m,\u001b[0m \u001b[0;32mNone\u001b[0m\u001b[0;34m,\u001b[0m \u001b[0mfscope\u001b[0m\u001b[0;34m)\u001b[0m\u001b[0;34m\u001b[0m\u001b[0;34m\u001b[0m\u001b[0m\n\u001b[1;32m     28\u001b[0m                 \u001b[0mforecast\u001b[0m \u001b[0;34m=\u001b[0m \u001b[0mag__\u001b[0m\u001b[0;34m.\u001b[0m\u001b[0mconverted_call\u001b[0m\u001b[0;34m(\u001b[0m\u001b[0mag__\u001b[0m\u001b[0;34m.\u001b[0m\u001b[0mld\u001b[0m\u001b[0;34m(\u001b[0m\u001b[0mself\u001b[0m\u001b[0;34m)\u001b[0m\u001b[0;34m.\u001b[0m\u001b[0mforecast\u001b[0m\u001b[0;34m,\u001b[0m \u001b[0;34m(\u001b[0m\u001b[0mag__\u001b[0m\u001b[0;34m.\u001b[0m\u001b[0mld\u001b[0m\u001b[0;34m(\u001b[0m\u001b[0mh\u001b[0m\u001b[0;34m)\u001b[0m\u001b[0;34m,\u001b[0m\u001b[0;34m)\u001b[0m\u001b[0;34m,\u001b[0m \u001b[0;32mNone\u001b[0m\u001b[0;34m,\u001b[0m \u001b[0mfscope\u001b[0m\u001b[0;34m)\u001b[0m\u001b[0;34m\u001b[0m\u001b[0;34m\u001b[0m\u001b[0m\n",
            "\u001b[0;32m/usr/local/lib/python3.9/dist-packages/tensorflow/python/autograph/impl/api.py\u001b[0m in \u001b[0;36mconverted_call\u001b[0;34m(f, args, kwargs, caller_fn_scope, options)\u001b[0m\n\u001b[1;32m    329\u001b[0m   \u001b[0;32mif\u001b[0m \u001b[0mconversion\u001b[0m\u001b[0;34m.\u001b[0m\u001b[0mis_in_allowlist_cache\u001b[0m\u001b[0;34m(\u001b[0m\u001b[0mf\u001b[0m\u001b[0;34m,\u001b[0m \u001b[0moptions\u001b[0m\u001b[0;34m)\u001b[0m\u001b[0;34m:\u001b[0m\u001b[0;34m\u001b[0m\u001b[0;34m\u001b[0m\u001b[0m\n\u001b[1;32m    330\u001b[0m     \u001b[0mlogging\u001b[0m\u001b[0;34m.\u001b[0m\u001b[0mlog\u001b[0m\u001b[0;34m(\u001b[0m\u001b[0;36m2\u001b[0m\u001b[0;34m,\u001b[0m \u001b[0;34m'Allowlisted %s: from cache'\u001b[0m\u001b[0;34m,\u001b[0m \u001b[0mf\u001b[0m\u001b[0;34m)\u001b[0m\u001b[0;34m\u001b[0m\u001b[0;34m\u001b[0m\u001b[0m\n\u001b[0;32m--> 331\u001b[0;31m     \u001b[0;32mreturn\u001b[0m \u001b[0m_call_unconverted\u001b[0m\u001b[0;34m(\u001b[0m\u001b[0mf\u001b[0m\u001b[0;34m,\u001b[0m \u001b[0margs\u001b[0m\u001b[0;34m,\u001b[0m \u001b[0mkwargs\u001b[0m\u001b[0;34m,\u001b[0m \u001b[0moptions\u001b[0m\u001b[0;34m,\u001b[0m \u001b[0;32mFalse\u001b[0m\u001b[0;34m)\u001b[0m\u001b[0;34m\u001b[0m\u001b[0;34m\u001b[0m\u001b[0m\n\u001b[0m\u001b[1;32m    332\u001b[0m \u001b[0;34m\u001b[0m\u001b[0m\n\u001b[1;32m    333\u001b[0m   \u001b[0;32mif\u001b[0m \u001b[0mag_ctx\u001b[0m\u001b[0;34m.\u001b[0m\u001b[0mcontrol_status_ctx\u001b[0m\u001b[0;34m(\u001b[0m\u001b[0;34m)\u001b[0m\u001b[0;34m.\u001b[0m\u001b[0mstatus\u001b[0m \u001b[0;34m==\u001b[0m \u001b[0mag_ctx\u001b[0m\u001b[0;34m.\u001b[0m\u001b[0mStatus\u001b[0m\u001b[0;34m.\u001b[0m\u001b[0mDISABLED\u001b[0m\u001b[0;34m:\u001b[0m\u001b[0;34m\u001b[0m\u001b[0;34m\u001b[0m\u001b[0m\n",
            "\u001b[0;32m/usr/local/lib/python3.9/dist-packages/tensorflow/python/autograph/impl/api.py\u001b[0m in \u001b[0;36m_call_unconverted\u001b[0;34m(f, args, kwargs, options, update_cache)\u001b[0m\n\u001b[1;32m    457\u001b[0m   \u001b[0;32mif\u001b[0m \u001b[0mkwargs\u001b[0m \u001b[0;32mis\u001b[0m \u001b[0;32mnot\u001b[0m \u001b[0;32mNone\u001b[0m\u001b[0;34m:\u001b[0m\u001b[0;34m\u001b[0m\u001b[0;34m\u001b[0m\u001b[0m\n\u001b[1;32m    458\u001b[0m     \u001b[0;32mreturn\u001b[0m \u001b[0mf\u001b[0m\u001b[0;34m(\u001b[0m\u001b[0;34m*\u001b[0m\u001b[0margs\u001b[0m\u001b[0;34m,\u001b[0m \u001b[0;34m**\u001b[0m\u001b[0mkwargs\u001b[0m\u001b[0;34m)\u001b[0m\u001b[0;34m\u001b[0m\u001b[0;34m\u001b[0m\u001b[0m\n\u001b[0;32m--> 459\u001b[0;31m   \u001b[0;32mreturn\u001b[0m \u001b[0mf\u001b[0m\u001b[0;34m(\u001b[0m\u001b[0;34m*\u001b[0m\u001b[0margs\u001b[0m\u001b[0;34m)\u001b[0m\u001b[0;34m\u001b[0m\u001b[0;34m\u001b[0m\u001b[0m\n\u001b[0m\u001b[1;32m    460\u001b[0m \u001b[0;34m\u001b[0m\u001b[0m\n\u001b[1;32m    461\u001b[0m \u001b[0;34m\u001b[0m\u001b[0m\n",
            "\u001b[0;32m/usr/local/lib/python3.9/dist-packages/keras/layers/rnn/base_rnn.py\u001b[0m in \u001b[0;36m__call__\u001b[0;34m(self, inputs, initial_state, constants, **kwargs)\u001b[0m\n\u001b[1;32m    554\u001b[0m \u001b[0;34m\u001b[0m\u001b[0m\n\u001b[1;32m    555\u001b[0m         \u001b[0;32mif\u001b[0m \u001b[0minitial_state\u001b[0m \u001b[0;32mis\u001b[0m \u001b[0;32mNone\u001b[0m \u001b[0;32mand\u001b[0m \u001b[0mconstants\u001b[0m \u001b[0;32mis\u001b[0m \u001b[0;32mNone\u001b[0m\u001b[0;34m:\u001b[0m\u001b[0;34m\u001b[0m\u001b[0;34m\u001b[0m\u001b[0m\n\u001b[0;32m--> 556\u001b[0;31m             \u001b[0;32mreturn\u001b[0m \u001b[0msuper\u001b[0m\u001b[0;34m(\u001b[0m\u001b[0;34m)\u001b[0m\u001b[0;34m.\u001b[0m\u001b[0m__call__\u001b[0m\u001b[0;34m(\u001b[0m\u001b[0minputs\u001b[0m\u001b[0;34m,\u001b[0m \u001b[0;34m**\u001b[0m\u001b[0mkwargs\u001b[0m\u001b[0;34m)\u001b[0m\u001b[0;34m\u001b[0m\u001b[0;34m\u001b[0m\u001b[0m\n\u001b[0m\u001b[1;32m    557\u001b[0m \u001b[0;34m\u001b[0m\u001b[0m\n\u001b[1;32m    558\u001b[0m         \u001b[0;31m# If any of `initial_state` or `constants` are specified and are Keras\u001b[0m\u001b[0;34m\u001b[0m\u001b[0;34m\u001b[0m\u001b[0m\n",
            "\u001b[0;32m/usr/local/lib/python3.9/dist-packages/keras/utils/traceback_utils.py\u001b[0m in \u001b[0;36merror_handler\u001b[0;34m(*args, **kwargs)\u001b[0m\n\u001b[1;32m     63\u001b[0m         \u001b[0mfiltered_tb\u001b[0m \u001b[0;34m=\u001b[0m \u001b[0;32mNone\u001b[0m\u001b[0;34m\u001b[0m\u001b[0;34m\u001b[0m\u001b[0m\n\u001b[1;32m     64\u001b[0m         \u001b[0;32mtry\u001b[0m\u001b[0;34m:\u001b[0m\u001b[0;34m\u001b[0m\u001b[0;34m\u001b[0m\u001b[0m\n\u001b[0;32m---> 65\u001b[0;31m             \u001b[0;32mreturn\u001b[0m \u001b[0mfn\u001b[0m\u001b[0;34m(\u001b[0m\u001b[0;34m*\u001b[0m\u001b[0margs\u001b[0m\u001b[0;34m,\u001b[0m \u001b[0;34m**\u001b[0m\u001b[0mkwargs\u001b[0m\u001b[0;34m)\u001b[0m\u001b[0;34m\u001b[0m\u001b[0;34m\u001b[0m\u001b[0m\n\u001b[0m\u001b[1;32m     66\u001b[0m         \u001b[0;32mexcept\u001b[0m \u001b[0mException\u001b[0m \u001b[0;32mas\u001b[0m \u001b[0me\u001b[0m\u001b[0;34m:\u001b[0m\u001b[0;34m\u001b[0m\u001b[0;34m\u001b[0m\u001b[0m\n\u001b[1;32m     67\u001b[0m             \u001b[0mfiltered_tb\u001b[0m \u001b[0;34m=\u001b[0m \u001b[0m_process_traceback_frames\u001b[0m\u001b[0;34m(\u001b[0m\u001b[0me\u001b[0m\u001b[0;34m.\u001b[0m\u001b[0m__traceback__\u001b[0m\u001b[0;34m)\u001b[0m\u001b[0;34m\u001b[0m\u001b[0;34m\u001b[0m\u001b[0m\n",
            "\u001b[0;32m/usr/local/lib/python3.9/dist-packages/keras/engine/base_layer.py\u001b[0m in \u001b[0;36m__call__\u001b[0;34m(self, *args, **kwargs)\u001b[0m\n\u001b[1;32m   1130\u001b[0m                     \u001b[0mself\u001b[0m\u001b[0;34m.\u001b[0m\u001b[0m_compute_dtype_object\u001b[0m\u001b[0;34m\u001b[0m\u001b[0;34m\u001b[0m\u001b[0m\n\u001b[1;32m   1131\u001b[0m                 ):\n\u001b[0;32m-> 1132\u001b[0;31m                     \u001b[0moutputs\u001b[0m \u001b[0;34m=\u001b[0m \u001b[0mcall_fn\u001b[0m\u001b[0;34m(\u001b[0m\u001b[0minputs\u001b[0m\u001b[0;34m,\u001b[0m \u001b[0;34m*\u001b[0m\u001b[0margs\u001b[0m\u001b[0;34m,\u001b[0m \u001b[0;34m**\u001b[0m\u001b[0mkwargs\u001b[0m\u001b[0;34m)\u001b[0m\u001b[0;34m\u001b[0m\u001b[0;34m\u001b[0m\u001b[0m\n\u001b[0m\u001b[1;32m   1133\u001b[0m \u001b[0;34m\u001b[0m\u001b[0m\n\u001b[1;32m   1134\u001b[0m                 \u001b[0;32mif\u001b[0m \u001b[0mself\u001b[0m\u001b[0;34m.\u001b[0m\u001b[0m_activity_regularizer\u001b[0m\u001b[0;34m:\u001b[0m\u001b[0;34m\u001b[0m\u001b[0;34m\u001b[0m\u001b[0m\n",
            "\u001b[0;32m/usr/local/lib/python3.9/dist-packages/keras/utils/traceback_utils.py\u001b[0m in \u001b[0;36merror_handler\u001b[0;34m(*args, **kwargs)\u001b[0m\n\u001b[1;32m     94\u001b[0m         \u001b[0mbound_signature\u001b[0m \u001b[0;34m=\u001b[0m \u001b[0;32mNone\u001b[0m\u001b[0;34m\u001b[0m\u001b[0;34m\u001b[0m\u001b[0m\n\u001b[1;32m     95\u001b[0m         \u001b[0;32mtry\u001b[0m\u001b[0;34m:\u001b[0m\u001b[0;34m\u001b[0m\u001b[0;34m\u001b[0m\u001b[0m\n\u001b[0;32m---> 96\u001b[0;31m             \u001b[0;32mreturn\u001b[0m \u001b[0mfn\u001b[0m\u001b[0;34m(\u001b[0m\u001b[0;34m*\u001b[0m\u001b[0margs\u001b[0m\u001b[0;34m,\u001b[0m \u001b[0;34m**\u001b[0m\u001b[0mkwargs\u001b[0m\u001b[0;34m)\u001b[0m\u001b[0;34m\u001b[0m\u001b[0;34m\u001b[0m\u001b[0m\n\u001b[0m\u001b[1;32m     97\u001b[0m         \u001b[0;32mexcept\u001b[0m \u001b[0mException\u001b[0m \u001b[0;32mas\u001b[0m \u001b[0me\u001b[0m\u001b[0;34m:\u001b[0m\u001b[0;34m\u001b[0m\u001b[0;34m\u001b[0m\u001b[0m\n\u001b[1;32m     98\u001b[0m             \u001b[0;32mif\u001b[0m \u001b[0mhasattr\u001b[0m\u001b[0;34m(\u001b[0m\u001b[0me\u001b[0m\u001b[0;34m,\u001b[0m \u001b[0;34m\"_keras_call_info_injected\"\u001b[0m\u001b[0;34m)\u001b[0m\u001b[0;34m:\u001b[0m\u001b[0;34m\u001b[0m\u001b[0;34m\u001b[0m\u001b[0m\n",
            "\u001b[0;32m/usr/local/lib/python3.9/dist-packages/keras/layers/rnn/lstm.py\u001b[0m in \u001b[0;36mcall\u001b[0;34m(self, inputs, mask, training, initial_state)\u001b[0m\n\u001b[1;32m    749\u001b[0m                         \u001b[0mnew_c\u001b[0m\u001b[0;34m,\u001b[0m\u001b[0;34m\u001b[0m\u001b[0;34m\u001b[0m\u001b[0m\n\u001b[1;32m    750\u001b[0m                         \u001b[0mruntime\u001b[0m\u001b[0;34m,\u001b[0m\u001b[0;34m\u001b[0m\u001b[0;34m\u001b[0m\u001b[0m\n\u001b[0;32m--> 751\u001b[0;31m                     ) = lstm_with_backend_selection(**normal_lstm_kwargs)\n\u001b[0m\u001b[1;32m    752\u001b[0m \u001b[0;34m\u001b[0m\u001b[0m\n\u001b[1;32m    753\u001b[0m             \u001b[0mstates\u001b[0m \u001b[0;34m=\u001b[0m \u001b[0;34m[\u001b[0m\u001b[0mnew_h\u001b[0m\u001b[0;34m,\u001b[0m \u001b[0mnew_c\u001b[0m\u001b[0;34m]\u001b[0m\u001b[0;34m\u001b[0m\u001b[0;34m\u001b[0m\u001b[0m\n",
            "\u001b[0;32m/usr/local/lib/python3.9/dist-packages/keras/layers/rnn/lstm.py\u001b[0m in \u001b[0;36mlstm_with_backend_selection\u001b[0;34m(inputs, init_h, init_c, kernel, recurrent_kernel, bias, mask, time_major, go_backwards, sequence_lengths, zero_output_for_mask, return_sequences)\u001b[0m\n\u001b[1;32m   1351\u001b[0m         \u001b[0;31m# Call the normal LSTM impl and register the cuDNN impl function. The\u001b[0m\u001b[0;34m\u001b[0m\u001b[0;34m\u001b[0m\u001b[0m\n\u001b[1;32m   1352\u001b[0m         \u001b[0;31m# grappler will kick in during session execution to optimize the graph.\u001b[0m\u001b[0;34m\u001b[0m\u001b[0;34m\u001b[0m\u001b[0m\n\u001b[0;32m-> 1353\u001b[0;31m         last_output, outputs, new_h, new_c, runtime = defun_standard_lstm(\n\u001b[0m\u001b[1;32m   1354\u001b[0m             \u001b[0;34m**\u001b[0m\u001b[0mparams\u001b[0m\u001b[0;34m\u001b[0m\u001b[0;34m\u001b[0m\u001b[0m\n\u001b[1;32m   1355\u001b[0m         )\n",
            "\u001b[0;32m/usr/local/lib/python3.9/dist-packages/tensorflow/python/eager/polymorphic_function/tracing_compiler.py\u001b[0m in \u001b[0;36m__call__\u001b[0;34m(self, *args, **kwargs)\u001b[0m\n\u001b[1;32m    131\u001b[0m     \u001b[0;32mwith\u001b[0m \u001b[0mself\u001b[0m\u001b[0;34m.\u001b[0m\u001b[0m_lock\u001b[0m\u001b[0;34m:\u001b[0m\u001b[0;34m\u001b[0m\u001b[0;34m\u001b[0m\u001b[0m\n\u001b[1;32m    132\u001b[0m       (concrete_function,\n\u001b[0;32m--> 133\u001b[0;31m        filtered_flat_args) = self._maybe_define_function(args, kwargs)\n\u001b[0m\u001b[1;32m    134\u001b[0m     return concrete_function._call_flat(\n\u001b[1;32m    135\u001b[0m         filtered_flat_args, captured_inputs=concrete_function.captured_inputs)  # pylint: disable=protected-access\n",
            "\u001b[0;32m/usr/local/lib/python3.9/dist-packages/tensorflow/python/eager/polymorphic_function/tracing_compiler.py\u001b[0m in \u001b[0;36m_maybe_define_function\u001b[0;34m(self, args, kwargs)\u001b[0m\n\u001b[1;32m    358\u001b[0m             \u001b[0margs\u001b[0m\u001b[0;34m,\u001b[0m \u001b[0mkwargs\u001b[0m \u001b[0;34m=\u001b[0m \u001b[0mgeneralized_func_key\u001b[0m\u001b[0;34m.\u001b[0m\u001b[0m_placeholder_value\u001b[0m\u001b[0;34m(\u001b[0m\u001b[0;34m)\u001b[0m  \u001b[0;31m# pylint: disable=protected-access\u001b[0m\u001b[0;34m\u001b[0m\u001b[0;34m\u001b[0m\u001b[0m\n\u001b[1;32m    359\u001b[0m \u001b[0;34m\u001b[0m\u001b[0m\n\u001b[0;32m--> 360\u001b[0;31m           \u001b[0mconcrete_function\u001b[0m \u001b[0;34m=\u001b[0m \u001b[0mself\u001b[0m\u001b[0;34m.\u001b[0m\u001b[0m_create_concrete_function\u001b[0m\u001b[0;34m(\u001b[0m\u001b[0margs\u001b[0m\u001b[0;34m,\u001b[0m \u001b[0mkwargs\u001b[0m\u001b[0;34m)\u001b[0m\u001b[0;34m\u001b[0m\u001b[0;34m\u001b[0m\u001b[0m\n\u001b[0m\u001b[1;32m    361\u001b[0m \u001b[0;34m\u001b[0m\u001b[0m\n\u001b[1;32m    362\u001b[0m           \u001b[0mgraph_capture_container\u001b[0m \u001b[0;34m=\u001b[0m \u001b[0mconcrete_function\u001b[0m\u001b[0;34m.\u001b[0m\u001b[0mgraph\u001b[0m\u001b[0;34m.\u001b[0m\u001b[0m_capture_func_lib\u001b[0m  \u001b[0;31m# pylint: disable=protected-access\u001b[0m\u001b[0;34m\u001b[0m\u001b[0;34m\u001b[0m\u001b[0m\n",
            "\u001b[0;32m/usr/local/lib/python3.9/dist-packages/tensorflow/python/eager/polymorphic_function/tracing_compiler.py\u001b[0m in \u001b[0;36m_create_concrete_function\u001b[0;34m(self, args, kwargs)\u001b[0m\n\u001b[1;32m    282\u001b[0m     \u001b[0marg_names\u001b[0m \u001b[0;34m=\u001b[0m \u001b[0mbase_arg_names\u001b[0m \u001b[0;34m+\u001b[0m \u001b[0mmissing_arg_names\u001b[0m\u001b[0;34m\u001b[0m\u001b[0;34m\u001b[0m\u001b[0m\n\u001b[1;32m    283\u001b[0m     concrete_function = monomorphic_function.ConcreteFunction(\n\u001b[0;32m--> 284\u001b[0;31m         func_graph_module.func_graph_from_py_func(\n\u001b[0m\u001b[1;32m    285\u001b[0m             \u001b[0mself\u001b[0m\u001b[0;34m.\u001b[0m\u001b[0m_name\u001b[0m\u001b[0;34m,\u001b[0m\u001b[0;34m\u001b[0m\u001b[0;34m\u001b[0m\u001b[0m\n\u001b[1;32m    286\u001b[0m             \u001b[0mself\u001b[0m\u001b[0;34m.\u001b[0m\u001b[0m_python_function\u001b[0m\u001b[0;34m,\u001b[0m\u001b[0;34m\u001b[0m\u001b[0;34m\u001b[0m\u001b[0m\n",
            "\u001b[0;32m/usr/local/lib/python3.9/dist-packages/tensorflow/python/framework/func_graph.py\u001b[0m in \u001b[0;36mfunc_graph_from_py_func\u001b[0;34m(name, python_func, args, kwargs, signature, func_graph, autograph, autograph_options, add_control_dependencies, arg_names, op_return_value, collections, capture_by_value, acd_record_initial_resource_uses)\u001b[0m\n\u001b[1;32m   1281\u001b[0m         \u001b[0m_\u001b[0m\u001b[0;34m,\u001b[0m \u001b[0moriginal_func\u001b[0m \u001b[0;34m=\u001b[0m \u001b[0mtf_decorator\u001b[0m\u001b[0;34m.\u001b[0m\u001b[0munwrap\u001b[0m\u001b[0;34m(\u001b[0m\u001b[0mpython_func\u001b[0m\u001b[0;34m)\u001b[0m\u001b[0;34m\u001b[0m\u001b[0;34m\u001b[0m\u001b[0m\n\u001b[1;32m   1282\u001b[0m \u001b[0;34m\u001b[0m\u001b[0m\n\u001b[0;32m-> 1283\u001b[0;31m       \u001b[0mfunc_outputs\u001b[0m \u001b[0;34m=\u001b[0m \u001b[0mpython_func\u001b[0m\u001b[0;34m(\u001b[0m\u001b[0;34m*\u001b[0m\u001b[0mfunc_args\u001b[0m\u001b[0;34m,\u001b[0m \u001b[0;34m**\u001b[0m\u001b[0mfunc_kwargs\u001b[0m\u001b[0;34m)\u001b[0m\u001b[0;34m\u001b[0m\u001b[0;34m\u001b[0m\u001b[0m\n\u001b[0m\u001b[1;32m   1284\u001b[0m \u001b[0;34m\u001b[0m\u001b[0m\n\u001b[1;32m   1285\u001b[0m       \u001b[0;31m# invariant: `func_outputs` contains only Tensors, CompositeTensors,\u001b[0m\u001b[0;34m\u001b[0m\u001b[0;34m\u001b[0m\u001b[0m\n",
            "\u001b[0;32m/usr/local/lib/python3.9/dist-packages/keras/layers/rnn/lstm.py\u001b[0m in \u001b[0;36mstandard_lstm\u001b[0;34m(inputs, init_h, init_c, kernel, recurrent_kernel, bias, mask, time_major, go_backwards, sequence_lengths, zero_output_for_mask, return_sequences)\u001b[0m\n\u001b[1;32m    981\u001b[0m         \u001b[0;32mreturn\u001b[0m \u001b[0mh\u001b[0m\u001b[0;34m,\u001b[0m \u001b[0;34m[\u001b[0m\u001b[0mh\u001b[0m\u001b[0;34m,\u001b[0m \u001b[0mc\u001b[0m\u001b[0;34m]\u001b[0m\u001b[0;34m\u001b[0m\u001b[0;34m\u001b[0m\u001b[0m\n\u001b[1;32m    982\u001b[0m \u001b[0;34m\u001b[0m\u001b[0m\n\u001b[0;32m--> 983\u001b[0;31m     last_output, outputs, new_states = backend.rnn(\n\u001b[0m\u001b[1;32m    984\u001b[0m         \u001b[0mstep\u001b[0m\u001b[0;34m,\u001b[0m\u001b[0;34m\u001b[0m\u001b[0;34m\u001b[0m\u001b[0m\n\u001b[1;32m    985\u001b[0m         \u001b[0minputs\u001b[0m\u001b[0;34m,\u001b[0m\u001b[0;34m\u001b[0m\u001b[0;34m\u001b[0m\u001b[0m\n",
            "\u001b[0;32m/usr/local/lib/python3.9/dist-packages/tensorflow/python/util/traceback_utils.py\u001b[0m in \u001b[0;36merror_handler\u001b[0;34m(*args, **kwargs)\u001b[0m\n\u001b[1;32m    148\u001b[0m     \u001b[0mfiltered_tb\u001b[0m \u001b[0;34m=\u001b[0m \u001b[0;32mNone\u001b[0m\u001b[0;34m\u001b[0m\u001b[0;34m\u001b[0m\u001b[0m\n\u001b[1;32m    149\u001b[0m     \u001b[0;32mtry\u001b[0m\u001b[0;34m:\u001b[0m\u001b[0;34m\u001b[0m\u001b[0;34m\u001b[0m\u001b[0m\n\u001b[0;32m--> 150\u001b[0;31m       \u001b[0;32mreturn\u001b[0m \u001b[0mfn\u001b[0m\u001b[0;34m(\u001b[0m\u001b[0;34m*\u001b[0m\u001b[0margs\u001b[0m\u001b[0;34m,\u001b[0m \u001b[0;34m**\u001b[0m\u001b[0mkwargs\u001b[0m\u001b[0;34m)\u001b[0m\u001b[0;34m\u001b[0m\u001b[0;34m\u001b[0m\u001b[0m\n\u001b[0m\u001b[1;32m    151\u001b[0m     \u001b[0;32mexcept\u001b[0m \u001b[0mException\u001b[0m \u001b[0;32mas\u001b[0m \u001b[0me\u001b[0m\u001b[0;34m:\u001b[0m\u001b[0;34m\u001b[0m\u001b[0;34m\u001b[0m\u001b[0m\n\u001b[1;32m    152\u001b[0m       \u001b[0mfiltered_tb\u001b[0m \u001b[0;34m=\u001b[0m \u001b[0m_process_traceback_frames\u001b[0m\u001b[0;34m(\u001b[0m\u001b[0me\u001b[0m\u001b[0;34m.\u001b[0m\u001b[0m__traceback__\u001b[0m\u001b[0;34m)\u001b[0m\u001b[0;34m\u001b[0m\u001b[0;34m\u001b[0m\u001b[0m\n",
            "\u001b[0;32m/usr/local/lib/python3.9/dist-packages/tensorflow/python/util/dispatch.py\u001b[0m in \u001b[0;36mop_dispatch_handler\u001b[0;34m(*args, **kwargs)\u001b[0m\n\u001b[1;32m   1174\u001b[0m       \u001b[0;31m# Fallback dispatch system (dispatch v1):\u001b[0m\u001b[0;34m\u001b[0m\u001b[0;34m\u001b[0m\u001b[0m\n\u001b[1;32m   1175\u001b[0m       \u001b[0;32mtry\u001b[0m\u001b[0;34m:\u001b[0m\u001b[0;34m\u001b[0m\u001b[0;34m\u001b[0m\u001b[0m\n\u001b[0;32m-> 1176\u001b[0;31m         \u001b[0;32mreturn\u001b[0m \u001b[0mdispatch_target\u001b[0m\u001b[0;34m(\u001b[0m\u001b[0;34m*\u001b[0m\u001b[0margs\u001b[0m\u001b[0;34m,\u001b[0m \u001b[0;34m**\u001b[0m\u001b[0mkwargs\u001b[0m\u001b[0;34m)\u001b[0m\u001b[0;34m\u001b[0m\u001b[0;34m\u001b[0m\u001b[0m\n\u001b[0m\u001b[1;32m   1177\u001b[0m       \u001b[0;32mexcept\u001b[0m \u001b[0;34m(\u001b[0m\u001b[0mTypeError\u001b[0m\u001b[0;34m,\u001b[0m \u001b[0mValueError\u001b[0m\u001b[0;34m)\u001b[0m\u001b[0;34m:\u001b[0m\u001b[0;34m\u001b[0m\u001b[0;34m\u001b[0m\u001b[0m\n\u001b[1;32m   1178\u001b[0m         \u001b[0;31m# Note: convert_to_eager_tensor currently raises a ValueError, not a\u001b[0m\u001b[0;34m\u001b[0m\u001b[0;34m\u001b[0m\u001b[0m\n",
            "\u001b[0;32m/usr/local/lib/python3.9/dist-packages/keras/backend.py\u001b[0m in \u001b[0;36mrnn\u001b[0;34m(step_function, inputs, initial_states, go_backwards, mask, constants, unroll, input_length, time_major, zero_output_for_mask, return_all_outputs)\u001b[0m\n\u001b[1;32m   4960\u001b[0m \u001b[0;34m\u001b[0m\u001b[0m\n\u001b[1;32m   4961\u001b[0m         \u001b[0moutput_ta_size\u001b[0m \u001b[0;34m=\u001b[0m \u001b[0mtime_steps_t\u001b[0m \u001b[0;32mif\u001b[0m \u001b[0mreturn_all_outputs\u001b[0m \u001b[0;32melse\u001b[0m \u001b[0;36m1\u001b[0m\u001b[0;34m\u001b[0m\u001b[0;34m\u001b[0m\u001b[0m\n\u001b[0;32m-> 4962\u001b[0;31m         output_ta = tuple(\n\u001b[0m\u001b[1;32m   4963\u001b[0m             tf.TensorArray(\n\u001b[1;32m   4964\u001b[0m                 \u001b[0mdtype\u001b[0m\u001b[0;34m=\u001b[0m\u001b[0mout\u001b[0m\u001b[0;34m.\u001b[0m\u001b[0mdtype\u001b[0m\u001b[0;34m,\u001b[0m\u001b[0;34m\u001b[0m\u001b[0;34m\u001b[0m\u001b[0m\n",
            "\u001b[0;32m/usr/local/lib/python3.9/dist-packages/keras/backend.py\u001b[0m in \u001b[0;36m<genexpr>\u001b[0;34m(.0)\u001b[0m\n\u001b[1;32m   4961\u001b[0m         \u001b[0moutput_ta_size\u001b[0m \u001b[0;34m=\u001b[0m \u001b[0mtime_steps_t\u001b[0m \u001b[0;32mif\u001b[0m \u001b[0mreturn_all_outputs\u001b[0m \u001b[0;32melse\u001b[0m \u001b[0;36m1\u001b[0m\u001b[0;34m\u001b[0m\u001b[0;34m\u001b[0m\u001b[0m\n\u001b[1;32m   4962\u001b[0m         output_ta = tuple(\n\u001b[0;32m-> 4963\u001b[0;31m             tf.TensorArray(\n\u001b[0m\u001b[1;32m   4964\u001b[0m                 \u001b[0mdtype\u001b[0m\u001b[0;34m=\u001b[0m\u001b[0mout\u001b[0m\u001b[0;34m.\u001b[0m\u001b[0mdtype\u001b[0m\u001b[0;34m,\u001b[0m\u001b[0;34m\u001b[0m\u001b[0;34m\u001b[0m\u001b[0m\n\u001b[1;32m   4965\u001b[0m                 \u001b[0msize\u001b[0m\u001b[0;34m=\u001b[0m\u001b[0moutput_ta_size\u001b[0m\u001b[0;34m,\u001b[0m\u001b[0;34m\u001b[0m\u001b[0;34m\u001b[0m\u001b[0m\n",
            "\u001b[0;32m/usr/local/lib/python3.9/dist-packages/tensorflow/python/ops/tensor_array_ops.py\u001b[0m in \u001b[0;36m__init__\u001b[0;34m(self, dtype, size, dynamic_size, clear_after_read, tensor_array_name, handle, flow, infer_shape, element_shape, colocate_with_first_write_call, name)\u001b[0m\n\u001b[1;32m   1083\u001b[0m     \u001b[0;32melse\u001b[0m\u001b[0;34m:\u001b[0m\u001b[0;34m\u001b[0m\u001b[0;34m\u001b[0m\u001b[0m\n\u001b[1;32m   1084\u001b[0m       \u001b[0mimplementation\u001b[0m \u001b[0;34m=\u001b[0m \u001b[0m_GraphTensorArray\u001b[0m\u001b[0;34m\u001b[0m\u001b[0;34m\u001b[0m\u001b[0m\n\u001b[0;32m-> 1085\u001b[0;31m     self._implementation = implementation(\n\u001b[0m\u001b[1;32m   1086\u001b[0m         \u001b[0mdtype\u001b[0m\u001b[0;34m,\u001b[0m\u001b[0;34m\u001b[0m\u001b[0;34m\u001b[0m\u001b[0m\n\u001b[1;32m   1087\u001b[0m         \u001b[0msize\u001b[0m\u001b[0;34m=\u001b[0m\u001b[0msize\u001b[0m\u001b[0;34m,\u001b[0m\u001b[0;34m\u001b[0m\u001b[0;34m\u001b[0m\u001b[0m\n",
            "\u001b[0;32m/usr/local/lib/python3.9/dist-packages/tensorflow/python/ops/tensor_array_ops.py\u001b[0m in \u001b[0;36m__init__\u001b[0;34m(***failed resolving arguments***)\u001b[0m\n\u001b[1;32m    469\u001b[0m     \u001b[0;32mwith\u001b[0m \u001b[0mops\u001b[0m\u001b[0;34m.\u001b[0m\u001b[0mname_scope\u001b[0m\u001b[0;34m(\u001b[0m\u001b[0mname\u001b[0m\u001b[0;34m,\u001b[0m \u001b[0;34m\"TensorArrayV2\"\u001b[0m\u001b[0;34m,\u001b[0m \u001b[0;34m[\u001b[0m\u001b[0msize\u001b[0m\u001b[0;34m,\u001b[0m \u001b[0mflow\u001b[0m\u001b[0;34m]\u001b[0m\u001b[0;34m)\u001b[0m \u001b[0;32mas\u001b[0m \u001b[0mscope\u001b[0m\u001b[0;34m:\u001b[0m\u001b[0;34m\u001b[0m\u001b[0;34m\u001b[0m\u001b[0m\n\u001b[1;32m    470\u001b[0m       \u001b[0;32mif\u001b[0m \u001b[0mflow\u001b[0m \u001b[0;32mis\u001b[0m \u001b[0;32mNone\u001b[0m\u001b[0;34m:\u001b[0m\u001b[0;34m\u001b[0m\u001b[0;34m\u001b[0m\u001b[0m\n\u001b[0;32m--> 471\u001b[0;31m         self._flow = list_ops.tensor_list_reserve(\n\u001b[0m\u001b[1;32m    472\u001b[0m             \u001b[0melement_shape\u001b[0m\u001b[0;34m=\u001b[0m\u001b[0melement_shape\u001b[0m\u001b[0;34m,\u001b[0m\u001b[0;34m\u001b[0m\u001b[0;34m\u001b[0m\u001b[0m\n\u001b[1;32m    473\u001b[0m             \u001b[0mnum_elements\u001b[0m\u001b[0;34m=\u001b[0m\u001b[0msize\u001b[0m\u001b[0;34m,\u001b[0m\u001b[0;34m\u001b[0m\u001b[0;34m\u001b[0m\u001b[0m\n",
            "\u001b[0;32m/usr/local/lib/python3.9/dist-packages/tensorflow/python/ops/list_ops.py\u001b[0m in \u001b[0;36mtensor_list_reserve\u001b[0;34m(element_shape, num_elements, element_dtype, name)\u001b[0m\n\u001b[1;32m     80\u001b[0m \u001b[0;34m\u001b[0m\u001b[0m\n\u001b[1;32m     81\u001b[0m \u001b[0;32mdef\u001b[0m \u001b[0mtensor_list_reserve\u001b[0m\u001b[0;34m(\u001b[0m\u001b[0melement_shape\u001b[0m\u001b[0;34m,\u001b[0m \u001b[0mnum_elements\u001b[0m\u001b[0;34m,\u001b[0m \u001b[0melement_dtype\u001b[0m\u001b[0;34m,\u001b[0m \u001b[0mname\u001b[0m\u001b[0;34m=\u001b[0m\u001b[0;32mNone\u001b[0m\u001b[0;34m)\u001b[0m\u001b[0;34m:\u001b[0m\u001b[0;34m\u001b[0m\u001b[0;34m\u001b[0m\u001b[0m\n\u001b[0;32m---> 82\u001b[0;31m   result = gen_list_ops.tensor_list_reserve(\n\u001b[0m\u001b[1;32m     83\u001b[0m       \u001b[0melement_shape\u001b[0m\u001b[0;34m=\u001b[0m\u001b[0m_build_element_shape\u001b[0m\u001b[0;34m(\u001b[0m\u001b[0melement_shape\u001b[0m\u001b[0;34m)\u001b[0m\u001b[0;34m,\u001b[0m\u001b[0;34m\u001b[0m\u001b[0;34m\u001b[0m\u001b[0m\n\u001b[1;32m     84\u001b[0m       \u001b[0mnum_elements\u001b[0m\u001b[0;34m=\u001b[0m\u001b[0mnum_elements\u001b[0m\u001b[0;34m,\u001b[0m\u001b[0;34m\u001b[0m\u001b[0;34m\u001b[0m\u001b[0m\n",
            "\u001b[0;32m/usr/local/lib/python3.9/dist-packages/tensorflow/python/ops/gen_list_ops.py\u001b[0m in \u001b[0;36mtensor_list_reserve\u001b[0;34m(element_shape, num_elements, element_dtype, name)\u001b[0m\n\u001b[1;32m    885\u001b[0m   \u001b[0;31m# Add nodes to the TensorFlow graph.\u001b[0m\u001b[0;34m\u001b[0m\u001b[0;34m\u001b[0m\u001b[0m\n\u001b[1;32m    886\u001b[0m   \u001b[0melement_dtype\u001b[0m \u001b[0;34m=\u001b[0m \u001b[0m_execute\u001b[0m\u001b[0;34m.\u001b[0m\u001b[0mmake_type\u001b[0m\u001b[0;34m(\u001b[0m\u001b[0melement_dtype\u001b[0m\u001b[0;34m,\u001b[0m \u001b[0;34m\"element_dtype\"\u001b[0m\u001b[0;34m)\u001b[0m\u001b[0;34m\u001b[0m\u001b[0;34m\u001b[0m\u001b[0m\n\u001b[0;32m--> 887\u001b[0;31m   _, _, _op, _outputs = _op_def_library._apply_op_helper(\n\u001b[0m\u001b[1;32m    888\u001b[0m         \u001b[0;34m\"TensorListReserve\"\u001b[0m\u001b[0;34m,\u001b[0m \u001b[0melement_shape\u001b[0m\u001b[0;34m=\u001b[0m\u001b[0melement_shape\u001b[0m\u001b[0;34m,\u001b[0m\u001b[0;34m\u001b[0m\u001b[0;34m\u001b[0m\u001b[0m\n\u001b[1;32m    889\u001b[0m                              \u001b[0mnum_elements\u001b[0m\u001b[0;34m=\u001b[0m\u001b[0mnum_elements\u001b[0m\u001b[0;34m,\u001b[0m\u001b[0;34m\u001b[0m\u001b[0;34m\u001b[0m\u001b[0m\n",
            "\u001b[0;32m/usr/local/lib/python3.9/dist-packages/tensorflow/python/framework/op_def_library.py\u001b[0m in \u001b[0;36m_apply_op_helper\u001b[0;34m(op_type_name, name, **keywords)\u001b[0m\n\u001b[1;32m    793\u001b[0m       \u001b[0;31m# Add Op to graph\u001b[0m\u001b[0;34m\u001b[0m\u001b[0;34m\u001b[0m\u001b[0m\n\u001b[1;32m    794\u001b[0m       \u001b[0;31m# pylint: disable=protected-access\u001b[0m\u001b[0;34m\u001b[0m\u001b[0;34m\u001b[0m\u001b[0m\n\u001b[0;32m--> 795\u001b[0;31m       op = g._create_op_internal(op_type_name, inputs, dtypes=None,\n\u001b[0m\u001b[1;32m    796\u001b[0m                                  \u001b[0mname\u001b[0m\u001b[0;34m=\u001b[0m\u001b[0mscope\u001b[0m\u001b[0;34m,\u001b[0m \u001b[0minput_types\u001b[0m\u001b[0;34m=\u001b[0m\u001b[0minput_types\u001b[0m\u001b[0;34m,\u001b[0m\u001b[0;34m\u001b[0m\u001b[0;34m\u001b[0m\u001b[0m\n\u001b[1;32m    797\u001b[0m                                  attrs=attr_protos, op_def=op_def)\n",
            "\u001b[0;32m/usr/local/lib/python3.9/dist-packages/tensorflow/python/framework/func_graph.py\u001b[0m in \u001b[0;36m_create_op_internal\u001b[0;34m(self, op_type, inputs, dtypes, input_types, name, attrs, op_def, compute_device)\u001b[0m\n\u001b[1;32m    747\u001b[0m       \u001b[0minp\u001b[0m \u001b[0;34m=\u001b[0m \u001b[0mself\u001b[0m\u001b[0;34m.\u001b[0m\u001b[0mcapture\u001b[0m\u001b[0;34m(\u001b[0m\u001b[0minp\u001b[0m\u001b[0;34m)\u001b[0m\u001b[0;34m\u001b[0m\u001b[0;34m\u001b[0m\u001b[0m\n\u001b[1;32m    748\u001b[0m       \u001b[0mcaptured_inputs\u001b[0m\u001b[0;34m.\u001b[0m\u001b[0mappend\u001b[0m\u001b[0;34m(\u001b[0m\u001b[0minp\u001b[0m\u001b[0;34m)\u001b[0m\u001b[0;34m\u001b[0m\u001b[0;34m\u001b[0m\u001b[0m\n\u001b[0;32m--> 749\u001b[0;31m     return super(FuncGraph, self)._create_op_internal(  # pylint: disable=protected-access\n\u001b[0m\u001b[1;32m    750\u001b[0m         \u001b[0mop_type\u001b[0m\u001b[0;34m,\u001b[0m \u001b[0mcaptured_inputs\u001b[0m\u001b[0;34m,\u001b[0m \u001b[0mdtypes\u001b[0m\u001b[0;34m,\u001b[0m \u001b[0minput_types\u001b[0m\u001b[0;34m,\u001b[0m \u001b[0mname\u001b[0m\u001b[0;34m,\u001b[0m \u001b[0mattrs\u001b[0m\u001b[0;34m,\u001b[0m \u001b[0mop_def\u001b[0m\u001b[0;34m,\u001b[0m\u001b[0;34m\u001b[0m\u001b[0;34m\u001b[0m\u001b[0m\n\u001b[1;32m    751\u001b[0m         compute_device)\n",
            "\u001b[0;32m/usr/local/lib/python3.9/dist-packages/tensorflow/python/framework/ops.py\u001b[0m in \u001b[0;36m_create_op_internal\u001b[0;34m(self, op_type, inputs, dtypes, input_types, name, attrs, op_def, compute_device)\u001b[0m\n\u001b[1;32m   3796\u001b[0m     \u001b[0;31m# Session.run call cannot occur between creating and mutating the op.\u001b[0m\u001b[0;34m\u001b[0m\u001b[0;34m\u001b[0m\u001b[0m\n\u001b[1;32m   3797\u001b[0m     \u001b[0;32mwith\u001b[0m \u001b[0mself\u001b[0m\u001b[0;34m.\u001b[0m\u001b[0m_mutation_lock\u001b[0m\u001b[0;34m(\u001b[0m\u001b[0;34m)\u001b[0m\u001b[0;34m:\u001b[0m\u001b[0;34m\u001b[0m\u001b[0;34m\u001b[0m\u001b[0m\n\u001b[0;32m-> 3798\u001b[0;31m       ret = Operation(\n\u001b[0m\u001b[1;32m   3799\u001b[0m           \u001b[0mnode_def\u001b[0m\u001b[0;34m,\u001b[0m\u001b[0;34m\u001b[0m\u001b[0;34m\u001b[0m\u001b[0m\n\u001b[1;32m   3800\u001b[0m           \u001b[0mself\u001b[0m\u001b[0;34m,\u001b[0m\u001b[0;34m\u001b[0m\u001b[0;34m\u001b[0m\u001b[0m\n",
            "\u001b[0;32m/usr/local/lib/python3.9/dist-packages/tensorflow/python/framework/ops.py\u001b[0m in \u001b[0;36m__init__\u001b[0;34m(self, node_def, g, inputs, output_types, control_inputs, input_types, original_op, op_def)\u001b[0m\n\u001b[1;32m   2055\u001b[0m       raise TypeError(f\"Argument node_def must be a NodeDef. \"\n\u001b[1;32m   2056\u001b[0m                       f\"Received an instance of type: {type(node_def)}.\")\n\u001b[0;32m-> 2057\u001b[0;31m     \u001b[0;32mif\u001b[0m \u001b[0mnode_def\u001b[0m\u001b[0;34m.\u001b[0m\u001b[0mByteSize\u001b[0m\u001b[0;34m(\u001b[0m\u001b[0;34m)\u001b[0m \u001b[0;34m>=\u001b[0m \u001b[0;34m(\u001b[0m\u001b[0;36m1\u001b[0m \u001b[0;34m<<\u001b[0m \u001b[0;36m31\u001b[0m\u001b[0;34m)\u001b[0m \u001b[0;32mor\u001b[0m \u001b[0mnode_def\u001b[0m\u001b[0;34m.\u001b[0m\u001b[0mByteSize\u001b[0m\u001b[0;34m(\u001b[0m\u001b[0;34m)\u001b[0m \u001b[0;34m<\u001b[0m \u001b[0;36m0\u001b[0m\u001b[0;34m:\u001b[0m\u001b[0;34m\u001b[0m\u001b[0;34m\u001b[0m\u001b[0m\n\u001b[0m\u001b[1;32m   2058\u001b[0m       raise ValueError(\n\u001b[1;32m   2059\u001b[0m           \u001b[0;34mf\"Cannot create a tensor proto whose content is larger than 2GB. \"\u001b[0m\u001b[0;34m\u001b[0m\u001b[0;34m\u001b[0m\u001b[0m\n",
            "\u001b[0;31mKeyboardInterrupt\u001b[0m: "
          ]
        }
      ],
      "source": [
        "trainer = Trainer(hyperparams=hyperparams, logdir=LOGDIR)\n",
        "trainer.fit(train_dataset=train_dataset, test_dataset=test_dataset)"
      ]
    },
    {
      "cell_type": "code",
      "execution_count": null,
      "metadata": {
        "colab": {
          "base_uri": "https://localhost:8080/"
        },
        "id": "7kIT27oP_Ar1",
        "outputId": "27e91e70-24ac-487e-ea3d-0399e52d3dc0"
      },
      "outputs": [
        {
          "name": "stdout",
          "output_type": "stream",
          "text": [
            "0 0\n"
          ]
        }
      ],
      "source": [
        "for i, hyperparams in enumerate(hyperparams):\n",
        "  print(i, hyperparams)\n",
        "  break"
      ]
    },
    {
      "cell_type": "code",
      "execution_count": null,
      "metadata": {
        "colab": {
          "base_uri": "https://localhost:8080/"
        },
        "id": "NNUqZFvJ_Da1",
        "outputId": "1c6cebea-5bb1-4533-c70d-1ece15e4371d"
      },
      "outputs": [
        {
          "data": {
            "text/plain": [
              "0"
            ]
          },
          "execution_count": 37,
          "metadata": {},
          "output_type": "execute_result"
        }
      ],
      "source": [
        "hyperparams"
      ]
    },
    {
      "cell_type": "code",
      "execution_count": null,
      "metadata": {
        "id": "vNRa--Y5DRQt"
      },
      "outputs": [],
      "source": [
        "def get_forecasts(path, filt):\n",
        "    a = []\n",
        "    for f in tqdm(glob(os.path.join(WORKING_PATH, path, filt))):\n",
        "        df = np.load(f)\n",
        "        a.append(df)\n",
        "    return a\n",
        "\n",
        "\n",
        "def get_ensemble(forecasts):\n",
        "    return np.mean(np.stack(forecasts, axis=-1), axis=-1)\n",
        "\n",
        "\n",
        "def get_metrics(preds, labels):\n",
        "    metrics = {}\n",
        "    metrics[\"smape\"] = 100*smape(preds=preds, labels=labels).numpy()\n",
        "    metrics[\"mape\"] = 100*mape(preds=preds, labels=labels).numpy()\n",
        "    pe = 100*(preds-labels)/labels\n",
        "    metrics[\"pe_mean\"] = np.mean(pe)\n",
        "    metrics[\"pe_median\"] = np.median(pe)\n",
        "    return metrics\n",
        "\n",
        "\n",
        "def get_stats(samples=10, ensemble_size=64, test_dataset=None, config_filt=None, path=None):\n",
        "    files = glob(os.path.join(WORKING_PATH, path, filt))\n",
        "    all_repeats = set([int(f.split(os.sep)[-1].split(\";\")[0].split(\"=\")[-1]) for f in files])\n",
        "    preds = np.array(get_forecasts(path=path, filt=config_filt+\".npy\"))\n",
        "\n",
        "    metric_samples = []\n",
        "    ensemble_samples = []\n",
        "    for s in range(samples):\n",
        "        ensemble_repeats = np.random.choice(list(all_repeats), size=ensemble_size, replace=False)\n",
        "        ensemble = preds[ensemble_repeats].mean(axis=0)\n",
        "        metric_samples.append(get_metrics(preds=ensemble, labels=test_dataset.ts_raw))\n",
        "        ensemble_samples.append(ensemble)\n",
        "\n",
        "    return pd.DataFrame(metric_samples), ensemble_samples\n",
        "\n",
        "\n",
        "def save_ensemble_files(path, ensembles):\n",
        "    pathlib.Path(f\"{WORKING_PATH}/{path}\").mkdir(parents=True, exist_ok=True)\n",
        "    for i, e in enumerate(ensembles):\n",
        "        filename = os.path.join(path, f\"{i}.csv\")\n",
        "        df = pd.DataFrame(data=e, columns=[f\"V{i+1}\" for i in range(12)], index=[f\"P{i+1}\" for i in range(35)])\n",
        "        df.to_csv(filename)"
      ]
    },
    {
      "cell_type": "code",
      "execution_count": null,
      "metadata": {
        "colab": {
          "base_uri": "https://localhost:8080/",
          "height": 100,
          "referenced_widgets": [
            "086e3df6740d448a8a7d0672a0df566f",
            "bcc02dee9c154cb99cc59a257be3b117",
            "146f92a7d0e54c0fa48f1b1840f3bf1b",
            "82987a37d98a46fda872dbb89fa33ff9",
            "d5007d84cc9f4aea9a88fc7cdd299c54",
            "65653e4646314c1789ee80c1f5b2f255",
            "1723e3ad24264190864b09f612db89b6",
            "f8f99f0e5f774cc38bc430f068c7672a"
          ]
        },
        "id": "kH-RliObWhIx",
        "outputId": "1903b575-bb08-425a-fe32-d42d8c6f7516"
      },
      "outputs": [
        {
          "data": {
            "application/vnd.jupyter.widget-view+json": {
              "model_id": "086e3df6740d448a8a7d0672a0df566f",
              "version_major": 2,
              "version_minor": 0
            },
            "text/plain": [
              "HBox(children=(FloatProgress(value=0.0, max=1024.0), HTML(value='')))"
            ]
          },
          "metadata": {
            "tags": []
          },
          "output_type": "display_data"
        },
        {
          "name": "stdout",
          "output_type": "stream",
          "text": [
            "\n",
            "SMAPE: 3.7425976246595383\n",
            "MAPE: 3.7774112075567245\n"
          ]
        }
      ],
      "source": [
        "MODEL_VERSION = \"TEST\"\n",
        "split=0\n",
        "path = f\"results/{MODEL_VERSION}_split{split}/\"\n",
        "filt = \"*repeat=*steps_per_epoch=50*block_layers=3*loss=pmape*pinball_tau=0.35;ts_sampling=ts_weight*\"\n",
        "\n",
        "forecasts = get_forecasts(path, filt)\n",
        "a = get_ensemble(forecasts)\n",
        "\n",
        "print(\"SMAPE:\", 100*smape(preds=a, labels=test_dataset.ts_raw).numpy())\n",
        "print(\"MAPE:\", 100*mape(preds=a, labels=test_dataset.ts_raw).numpy())"
      ]
    },
    {
      "cell_type": "code",
      "execution_count": null,
      "metadata": {
        "colab": {
          "base_uri": "https://localhost:8080/",
          "height": 270,
          "referenced_widgets": [
            "01c8829975c0416aa947e161c1770dfb",
            "a102a941ebc8454baa0d35bf2a7d8ba6",
            "63a1df71f264478991d19d193fc792d0",
            "5c82fc71b6154b0dad71ae5328b9132e",
            "6aca09d337d7451a8d9fa5021a6560ab",
            "2b4d93b1f31042c6904850553cecdaaa",
            "98012ecc0d484a2c9feb3c9cb2b4adf9",
            "711efab8da2044fdb52277326c12a7e8"
          ]
        },
        "id": "3msyQeNy9Opt",
        "outputId": "7f3ded00-bc08-4eda-a6ec-5cd28c27ccd8"
      },
      "outputs": [
        {
          "data": {
            "application/vnd.jupyter.widget-view+json": {
              "model_id": "01c8829975c0416aa947e161c1770dfb",
              "version_major": 2,
              "version_minor": 0
            },
            "text/plain": [
              "HBox(children=(FloatProgress(value=0.0, max=1024.0), HTML(value='')))"
            ]
          },
          "metadata": {
            "tags": []
          },
          "output_type": "display_data"
        },
        {
          "name": "stdout",
          "output_type": "stream",
          "text": [
            "\n",
            "PINBALL loss bootstrap stats, ensemble of 64 sampled without replacement from 1024 models\n",
            "            smape        mape     pe_mean   pe_median\n",
            "count  100.000000  100.000000  100.000000  100.000000\n",
            "mean     3.829749    3.999312    0.798119    0.350924\n",
            "std      0.016225    0.022732    0.039528    0.039218\n",
            "min      3.798525    3.954580    0.695214    0.258462\n",
            "5%       3.806607    3.967484    0.739715    0.280214\n",
            "25%      3.817831    3.982693    0.772300    0.323148\n",
            "50%      3.828459    3.996948    0.795330    0.352630\n",
            "75%      3.839578    4.014520    0.827410    0.377261\n",
            "95%      3.857330    4.039002    0.857155    0.409430\n",
            "max      3.873867    4.061039    0.904122    0.437031\n"
          ]
        }
      ],
      "source": [
        "ensemble_size = 64\n",
        "\n",
        "pinball_filt = \"*steps_per_epoch=50*block_layers=3*loss=pinball*pinball_tau=0.35;ts_sampling=ts_weight*\"\n",
        "metrics_pinball, ensembles_pinball = get_stats(samples=100, ensemble_size=ensemble_size,\n",
        "                                               path=f\"results/{MODEL_VERSION}_split{split}/\",\n",
        "                                               test_dataset=test_dataset,\n",
        "                                               config_filt=pinball_filt)\n",
        "\n",
        "print(f\"PINBALL loss bootstrap stats, ensemble of {ensemble_size} sampled without replacement from 1024 models\")\n",
        "print(metrics_pinball.describe(percentiles=[0.05, 0.25, 0.5, 0.75, 0.95]))\n",
        "\n",
        "# Save ensemble files\n",
        "path = f\"results/{MODEL_VERSION}_split{hyperparams.split}/ensemble_{pinball_filt}\"\n",
        "save_ensemble_files(path=path, ensembles=ensembles_pinball)\n"
      ]
    },
    {
      "cell_type": "code",
      "execution_count": null,
      "metadata": {
        "colab": {
          "base_uri": "https://localhost:8080/",
          "height": 270,
          "referenced_widgets": [
            "ae3ac7738a1647bea85f4076116a0404",
            "afd5c4272d544bbb865f17b695f5dc6d",
            "b4015a71b87447ab966d0658e6e643ed",
            "2431b0690be64bd6b0197282f04b9bcf",
            "d9b63f0c1a6b4b0284c47501fe6d8355",
            "d61c52520eb84f069ee4af75bcb532cb",
            "72faa51ec14e4338b9964c714d9110c1",
            "0a7253e988ad4fb088c79b689ef47a9b"
          ]
        },
        "id": "Zb8ScRtMCydC",
        "outputId": "17c16615-5bcf-4876-8d73-14dc3ebdae56"
      },
      "outputs": [
        {
          "data": {
            "application/vnd.jupyter.widget-view+json": {
              "model_id": "ae3ac7738a1647bea85f4076116a0404",
              "version_major": 2,
              "version_minor": 0
            },
            "text/plain": [
              "HBox(children=(FloatProgress(value=0.0, max=1024.0), HTML(value='')))"
            ]
          },
          "metadata": {
            "tags": []
          },
          "output_type": "display_data"
        },
        {
          "name": "stdout",
          "output_type": "stream",
          "text": [
            "\n",
            "PMAPE loss bootstrap stats, ensemble of 64 sampled without replacement from 1024 models\n",
            "            smape        mape     pe_mean   pe_median\n",
            "count  100.000000  100.000000  100.000000  100.000000\n",
            "mean     3.738733    3.772845    0.329743    0.402183\n",
            "std      0.022298    0.028228    0.049219    0.044265\n",
            "min      3.661800    3.676698    0.184482    0.318068\n",
            "5%       3.703522    3.730331    0.255808    0.328515\n",
            "25%      3.724515    3.751092    0.300777    0.369744\n",
            "50%      3.741779    3.777197    0.331295    0.405079\n",
            "75%      3.754513    3.793392    0.365547    0.430145\n",
            "95%      3.769735    3.812409    0.408684    0.476512\n",
            "max      3.784157    3.832095    0.442383    0.509950\n"
          ]
        }
      ],
      "source": [
        "pmape_filt = \"*steps_per_epoch=50*block_layers=3*loss=pmape*pinball_tau=0.35;ts_sampling=ts_weight*\"\n",
        "metrics_pmape, ensembles_pmape = get_stats(samples=100, ensemble_size=ensemble_size,\n",
        "                                           path=f\"results/{MODEL_VERSION}_split{split}/\",\n",
        "                                           test_dataset=test_dataset,\n",
        "                                           config_filt=pmape_filt)\n",
        "\n",
        "print(f\"PMAPE loss bootstrap stats, ensemble of {ensemble_size} sampled without replacement from 1024 models\")\n",
        "print(metrics_pmape.describe(percentiles=[0.05, 0.25, 0.5, 0.75, 0.95]))\n",
        "\n",
        "# Save ensemble files\n",
        "path = f\"results/{MODEL_VERSION}_split{hyperparams.split}/ensemble_{pmape_filt}\"\n",
        "save_ensemble_files(path=path, ensembles=ensembles_pmape)"
      ]
    },
    {
      "cell_type": "code",
      "execution_count": null,
      "metadata": {
        "id": "fmJ6XyLpLrxk"
      },
      "outputs": [],
      "source": [
        "# df = pd.DataFrame(data=a, columns=[f\"V{i+1}\" for i in range(12)], index=[f\"P{i+1}\" for i in range(35)])\n",
        "# df.to_csv(os.path.join(path, \"nbeats.csv\"))"
      ]
    },
    {
      "cell_type": "code",
      "execution_count": null,
      "metadata": {
        "id": "W2y6OyMbL-gN"
      },
      "outputs": [],
      "source": [
        "# df_test = pd.read_csv(os.path.join('data',f'Electricity-test.csv'))\n",
        "# df_nbeats = pd.read_csv(os.path.join(path, \"nbeats.csv\"))\n",
        "# print(\"MAPE from file:\", 100*mape(preds=df_nbeats.values[:,1:].astype(np.float32), labels=df_test.values[:,1:].astype(np.float32)).numpy())"
      ]
    },
    {
      "cell_type": "code",
      "execution_count": null,
      "metadata": {
        "id": "jFIAH3h-W8-H"
      },
      "outputs": [],
      "source": [
        "# np.mean(100*(a-test_dataset.ts_raw)/test_dataset.ts_raw)\n",
        "# np.std(100*(a-test_dataset.ts_raw)/test_dataset.ts_raw)\n",
        "# np.median(100*(a-test_dataset.ts_raw)/test_dataset.ts_raw)\n",
        "# np.median(100*np.abs(a-test_dataset.ts_raw)/test_dataset.ts_raw)"
      ]
    },
    {
      "cell_type": "code",
      "execution_count": null,
      "metadata": {
        "id": "MxRvJCdsLzoe"
      },
      "outputs": [],
      "source": [
        "# np.sqrt(np.mean((a-test_dataset.ts_raw)*(a-test_dataset.ts_raw)))"
      ]
    },
    {
      "cell_type": "code",
      "execution_count": null,
      "metadata": {
        "id": "if3gtq6h3Pth"
      },
      "outputs": [],
      "source": [
        "# naive = np.zeros((35,12), dtype=np.float32)\n",
        "# for i,ts in enumerate(train_dataset.ts_raw):\n",
        "#     naive[i,:] = ts[-hyperparams.horizon:]\n",
        "\n",
        "# print(\"Naive MAPE:\", 100*mape(preds=naive, labels=test_dataset.ts_raw).numpy())\n",
        "# print(\"Naive RMSE:\", np.sqrt(np.mean((naive-test_dataset.ts_raw)*(naive-test_dataset.ts_raw))))"
      ]
    },
    {
      "cell_type": "code",
      "execution_count": null,
      "metadata": {
        "colab": {
          "base_uri": "https://localhost:8080/"
        },
        "id": "_SvaS3CbMcpw",
        "outputId": "75032c96-95e6-417f-b444-41b16c238d71"
      },
      "outputs": [
        {
          "name": "stdout",
          "output_type": "stream",
          "text": [
            "MAPE: 3.7774112075567245\n"
          ]
        }
      ],
      "source": [
        "print(\"MAPE:\", 100*mape(preds=a, labels=test_dataset.ts_raw).numpy())"
      ]
    },
    {
      "cell_type": "code",
      "execution_count": null,
      "metadata": {
        "id": "VdONn6d6599i"
      },
      "outputs": [],
      "source": [
        "weights = 1 / np.abs(test_dataset.ts_raw)\n",
        "data = 100*(np.abs(a - test_dataset.ts_raw) * weights).ravel()"
      ]
    },
    {
      "cell_type": "code",
      "execution_count": null,
      "metadata": {
        "colab": {
          "base_uri": "https://localhost:8080/"
        },
        "id": "_Pt0yi2T5-r-",
        "outputId": "97245199-34f6-4b8c-a246-ac8a4a3294a3"
      },
      "outputs": [
        {
          "data": {
            "text/plain": [
              "5.207637"
            ]
          },
          "execution_count": 25,
          "metadata": {
            "tags": []
          },
          "output_type": "execute_result"
        }
      ],
      "source": [
        "data.std()"
      ]
    },
    {
      "cell_type": "markdown",
      "metadata": {
        "id": "h-g0nrlhQ_gc"
      },
      "source": [
        "Statistical analysis of errors"
      ]
    },
    {
      "cell_type": "code",
      "execution_count": null,
      "metadata": {
        "colab": {
          "base_uri": "https://localhost:8080/"
        },
        "id": "KvUKz1zuRId6",
        "outputId": "8bfcd069-d9cb-46f8-a8b2-0ef2a47654b4"
      },
      "outputs": [
        {
          "name": "stderr",
          "output_type": "stream",
          "text": [
            "/usr/local/lib/python3.7/dist-packages/statsmodels/tools/_testing.py:19: FutureWarning: pandas.util.testing is deprecated. Use the functions in the public API at pandas.testing instead.\n",
            "  import pandas.util.testing as tm\n"
          ]
        }
      ],
      "source": [
        "import statsmodels.stats.api as sms\n",
        "from scipy import stats"
      ]
    },
    {
      "cell_type": "code",
      "execution_count": null,
      "metadata": {
        "id": "WFrwhwUD61RG"
      },
      "outputs": [],
      "source": [
        "ape = pd.read_csv(\"data/MAPE.csv\", header=None)"
      ]
    },
    {
      "cell_type": "code",
      "execution_count": null,
      "metadata": {
        "id": "5jBc1AwPD2K8"
      },
      "outputs": [],
      "source": [
        "data = ape.iloc[9,:] - ape.iloc[-1,:]"
      ]
    },
    {
      "cell_type": "code",
      "execution_count": null,
      "metadata": {
        "colab": {
          "base_uri": "https://localhost:8080/"
        },
        "id": "lwAnYWv6D2fz",
        "outputId": "f86145f2-3cb4-41ad-8454-bf4022b588db"
      },
      "outputs": [
        {
          "data": {
            "text/plain": [
              "0.7013778976190467"
            ]
          },
          "execution_count": 29,
          "metadata": {
            "tags": []
          },
          "output_type": "execute_result"
        }
      ],
      "source": [
        "data.mean()"
      ]
    },
    {
      "cell_type": "code",
      "execution_count": null,
      "metadata": {
        "colab": {
          "base_uri": "https://localhost:8080/"
        },
        "id": "WuqkEmKlVIA7",
        "outputId": "3d9fb412-c296-4bec-c098-4ab6c5db3af9"
      },
      "outputs": [
        {
          "data": {
            "text/plain": [
              "(0.16853121176190458, 1.3885109778571434)"
            ]
          },
          "execution_count": 30,
          "metadata": {
            "tags": []
          },
          "output_type": "execute_result"
        }
      ],
      "source": [
        "def bootstrap_interval(data, alpha=0.05, sample_size=1000):\n",
        "    samples = []\n",
        "    for i in range(sample_size):\n",
        "        idxs = np.random.choice(np.arange(len(data)), size=len(data), replace=True)\n",
        "        samples.append(data[idxs].mean())\n",
        "    samples = np.array(samples)\n",
        "    return (np.quantile(samples, q=alpha), np.quantile(samples, q=1.0-alpha)), samples\n",
        "\n",
        "q, samples = bootstrap_interval(data, alpha=0.01, sample_size=10000)\n",
        "q"
      ]
    },
    {
      "cell_type": "code",
      "execution_count": null,
      "metadata": {
        "colab": {
          "base_uri": "https://localhost:8080/"
        },
        "id": "lO-PoqxN34cF",
        "outputId": "6977254c-7f8a-499b-be33-cb50664c920c"
      },
      "outputs": [
        {
          "data": {
            "text/plain": [
              "<tf.Tensor: shape=(256, 12), dtype=float32, numpy=\n",
              "array([[-0.47207132, -0.15980867, -0.00554964, ...,  0.29029247,\n",
              "        -0.0194011 ,  0.23530744],\n",
              "       [-0.23122193,  0.12131812,  0.21964377, ...,  0.11353757,\n",
              "         0.01171008, -0.03892019],\n",
              "       [-0.28447923,  0.11414211,  0.15628067, ...,  0.24217558,\n",
              "         0.19617352, -0.42715445],\n",
              "       ...,\n",
              "       [-0.36337727, -0.0765753 ,  0.03806156, ...,  0.3294661 ,\n",
              "        -0.09777863, -0.01102572],\n",
              "       [-0.5543633 ,  0.12339108,  0.5074279 , ...,  0.62007457,\n",
              "         0.22174469,  0.0366249 ],\n",
              "       [-0.3734562 , -0.24157533,  0.07659932, ...,  0.22241458,\n",
              "        -0.13269441, -0.14538027]], dtype=float32)>"
            ]
          },
          "execution_count": 19,
          "metadata": {},
          "output_type": "execute_result"
        }
      ],
      "source": [
        "import tensorflow as tf\n",
        "\n",
        "class NBEATSBlock(tf.keras.layers.Layer):\n",
        "    def __init__(self, input_size: int, output_size: int, block_layers: int, hidden_units: int):\n",
        "        super().__init__()\n",
        "        self.fc_layers = []\n",
        "        for i in range(block_layers):\n",
        "            self.fc_layers.append(tf.keras.layers.Dense(hidden_units,\n",
        "                                                        activation=tf.nn.relu))\n",
        "        self.forecast = tf.keras.layers.Dense(output_size, activation=None)\n",
        "        self.backcast = tf.keras.layers.Dense(input_size, activation=None)\n",
        "\n",
        "    def call(self, x):\n",
        "        inputs = x\n",
        "        for layer in self.fc_layers:\n",
        "            x = layer(x)\n",
        "        backcast = tf.keras.activations.relu(inputs - self.backcast(x))\n",
        "        return backcast, self.forecast(x)\n",
        "\n",
        "\n",
        "class NBEATS(tf.keras.layers.Layer):\n",
        "    def __init__(self, input_size: int, output_size: int, block_layers: int, hidden_units: int,\n",
        "                 num_blocks: int, block_sharing: bool):\n",
        "        super().__init__()\n",
        "        self.blocks = [NBEATSBlock(input_size=input_size, output_size=output_size,\n",
        "                                   block_layers=block_layers, hidden_units=hidden_units)]\n",
        "        for i in range(1, num_blocks):\n",
        "            if block_sharing:\n",
        "                self.blocks.append(self.blocks[0])\n",
        "            else:\n",
        "                self.blocks.append(NBEATSBlock(input_size=input_size, output_size=output_size,\n",
        "                                               block_layers=block_layers, hidden_units=hidden_units))\n",
        "\n",
        "    def call(self, x):\n",
        "        level = tf.reduce_max(x, axis=-1, keepdims=True)\n",
        "        backcast = tf.math.divide_no_nan(x, level)\n",
        "        forecast = 0.0\n",
        "        for block in self.blocks:\n",
        "            backcast, forecast_block = block(backcast)\n",
        "            forecast = forecast + forecast_block\n",
        "        return forecast * level\n",
        "\n",
        "nbeats = NBEATS(input_size=12, output_size=12, block_layers=3, num_blocks=3, hidden_units=512, block_sharing=True)\n",
        "inputs = tf.random.normal([256,12])\n",
        "forecast = nbeats(inputs)\n",
        "forecast\n"
      ]
    },
    {
      "cell_type": "code",
      "execution_count": null,
      "metadata": {
        "id": "upDL4Ij_FHNe"
      },
      "outputs": [],
      "source": []
    }
  ],
  "metadata": {
    "colab": {
      "include_colab_link": true,
      "provenance": []
    },
    "gpuClass": "standard",
    "kernelspec": {
      "display_name": "Python 3",
      "name": "python3"
    },
    "widgets": {
      "application/vnd.jupyter.widget-state+json": {
        "01c8829975c0416aa947e161c1770dfb": {
          "model_module": "@jupyter-widgets/controls",
          "model_module_version": "1.5.0",
          "model_name": "HBoxModel",
          "state": {
            "_dom_classes": [],
            "_model_module": "@jupyter-widgets/controls",
            "_model_module_version": "1.5.0",
            "_model_name": "HBoxModel",
            "_view_count": null,
            "_view_module": "@jupyter-widgets/controls",
            "_view_module_version": "1.5.0",
            "_view_name": "HBoxView",
            "box_style": "",
            "children": [
              "IPY_MODEL_63a1df71f264478991d19d193fc792d0",
              "IPY_MODEL_5c82fc71b6154b0dad71ae5328b9132e"
            ],
            "layout": "IPY_MODEL_a102a941ebc8454baa0d35bf2a7d8ba6"
          }
        },
        "086e3df6740d448a8a7d0672a0df566f": {
          "model_module": "@jupyter-widgets/controls",
          "model_module_version": "1.5.0",
          "model_name": "HBoxModel",
          "state": {
            "_dom_classes": [],
            "_model_module": "@jupyter-widgets/controls",
            "_model_module_version": "1.5.0",
            "_model_name": "HBoxModel",
            "_view_count": null,
            "_view_module": "@jupyter-widgets/controls",
            "_view_module_version": "1.5.0",
            "_view_name": "HBoxView",
            "box_style": "",
            "children": [
              "IPY_MODEL_146f92a7d0e54c0fa48f1b1840f3bf1b",
              "IPY_MODEL_82987a37d98a46fda872dbb89fa33ff9"
            ],
            "layout": "IPY_MODEL_bcc02dee9c154cb99cc59a257be3b117"
          }
        },
        "0a7253e988ad4fb088c79b689ef47a9b": {
          "model_module": "@jupyter-widgets/base",
          "model_module_version": "1.2.0",
          "model_name": "LayoutModel",
          "state": {
            "_model_module": "@jupyter-widgets/base",
            "_model_module_version": "1.2.0",
            "_model_name": "LayoutModel",
            "_view_count": null,
            "_view_module": "@jupyter-widgets/base",
            "_view_module_version": "1.2.0",
            "_view_name": "LayoutView",
            "align_content": null,
            "align_items": null,
            "align_self": null,
            "border": null,
            "bottom": null,
            "display": null,
            "flex": null,
            "flex_flow": null,
            "grid_area": null,
            "grid_auto_columns": null,
            "grid_auto_flow": null,
            "grid_auto_rows": null,
            "grid_column": null,
            "grid_gap": null,
            "grid_row": null,
            "grid_template_areas": null,
            "grid_template_columns": null,
            "grid_template_rows": null,
            "height": null,
            "justify_content": null,
            "justify_items": null,
            "left": null,
            "margin": null,
            "max_height": null,
            "max_width": null,
            "min_height": null,
            "min_width": null,
            "object_fit": null,
            "object_position": null,
            "order": null,
            "overflow": null,
            "overflow_x": null,
            "overflow_y": null,
            "padding": null,
            "right": null,
            "top": null,
            "visibility": null,
            "width": null
          }
        },
        "146f92a7d0e54c0fa48f1b1840f3bf1b": {
          "model_module": "@jupyter-widgets/controls",
          "model_module_version": "1.5.0",
          "model_name": "FloatProgressModel",
          "state": {
            "_dom_classes": [],
            "_model_module": "@jupyter-widgets/controls",
            "_model_module_version": "1.5.0",
            "_model_name": "FloatProgressModel",
            "_view_count": null,
            "_view_module": "@jupyter-widgets/controls",
            "_view_module_version": "1.5.0",
            "_view_name": "ProgressView",
            "bar_style": "success",
            "description": "100%",
            "description_tooltip": null,
            "layout": "IPY_MODEL_65653e4646314c1789ee80c1f5b2f255",
            "max": 1024,
            "min": 0,
            "orientation": "horizontal",
            "style": "IPY_MODEL_d5007d84cc9f4aea9a88fc7cdd299c54",
            "value": 1024
          }
        },
        "1723e3ad24264190864b09f612db89b6": {
          "model_module": "@jupyter-widgets/controls",
          "model_module_version": "1.5.0",
          "model_name": "DescriptionStyleModel",
          "state": {
            "_model_module": "@jupyter-widgets/controls",
            "_model_module_version": "1.5.0",
            "_model_name": "DescriptionStyleModel",
            "_view_count": null,
            "_view_module": "@jupyter-widgets/base",
            "_view_module_version": "1.2.0",
            "_view_name": "StyleView",
            "description_width": ""
          }
        },
        "2431b0690be64bd6b0197282f04b9bcf": {
          "model_module": "@jupyter-widgets/controls",
          "model_module_version": "1.5.0",
          "model_name": "HTMLModel",
          "state": {
            "_dom_classes": [],
            "_model_module": "@jupyter-widgets/controls",
            "_model_module_version": "1.5.0",
            "_model_name": "HTMLModel",
            "_view_count": null,
            "_view_module": "@jupyter-widgets/controls",
            "_view_module_version": "1.5.0",
            "_view_name": "HTMLView",
            "description": "",
            "description_tooltip": null,
            "layout": "IPY_MODEL_0a7253e988ad4fb088c79b689ef47a9b",
            "placeholder": "​",
            "style": "IPY_MODEL_72faa51ec14e4338b9964c714d9110c1",
            "value": " 1024/1024 [00:01&lt;00:00, 743.39it/s]"
          }
        },
        "2b4d93b1f31042c6904850553cecdaaa": {
          "model_module": "@jupyter-widgets/base",
          "model_module_version": "1.2.0",
          "model_name": "LayoutModel",
          "state": {
            "_model_module": "@jupyter-widgets/base",
            "_model_module_version": "1.2.0",
            "_model_name": "LayoutModel",
            "_view_count": null,
            "_view_module": "@jupyter-widgets/base",
            "_view_module_version": "1.2.0",
            "_view_name": "LayoutView",
            "align_content": null,
            "align_items": null,
            "align_self": null,
            "border": null,
            "bottom": null,
            "display": null,
            "flex": null,
            "flex_flow": null,
            "grid_area": null,
            "grid_auto_columns": null,
            "grid_auto_flow": null,
            "grid_auto_rows": null,
            "grid_column": null,
            "grid_gap": null,
            "grid_row": null,
            "grid_template_areas": null,
            "grid_template_columns": null,
            "grid_template_rows": null,
            "height": null,
            "justify_content": null,
            "justify_items": null,
            "left": null,
            "margin": null,
            "max_height": null,
            "max_width": null,
            "min_height": null,
            "min_width": null,
            "object_fit": null,
            "object_position": null,
            "order": null,
            "overflow": null,
            "overflow_x": null,
            "overflow_y": null,
            "padding": null,
            "right": null,
            "top": null,
            "visibility": null,
            "width": null
          }
        },
        "5c82fc71b6154b0dad71ae5328b9132e": {
          "model_module": "@jupyter-widgets/controls",
          "model_module_version": "1.5.0",
          "model_name": "HTMLModel",
          "state": {
            "_dom_classes": [],
            "_model_module": "@jupyter-widgets/controls",
            "_model_module_version": "1.5.0",
            "_model_name": "HTMLModel",
            "_view_count": null,
            "_view_module": "@jupyter-widgets/controls",
            "_view_module_version": "1.5.0",
            "_view_name": "HTMLView",
            "description": "",
            "description_tooltip": null,
            "layout": "IPY_MODEL_711efab8da2044fdb52277326c12a7e8",
            "placeholder": "​",
            "style": "IPY_MODEL_98012ecc0d484a2c9feb3c9cb2b4adf9",
            "value": " 1024/1024 [07:32&lt;00:00,  2.26it/s]"
          }
        },
        "63a1df71f264478991d19d193fc792d0": {
          "model_module": "@jupyter-widgets/controls",
          "model_module_version": "1.5.0",
          "model_name": "FloatProgressModel",
          "state": {
            "_dom_classes": [],
            "_model_module": "@jupyter-widgets/controls",
            "_model_module_version": "1.5.0",
            "_model_name": "FloatProgressModel",
            "_view_count": null,
            "_view_module": "@jupyter-widgets/controls",
            "_view_module_version": "1.5.0",
            "_view_name": "ProgressView",
            "bar_style": "success",
            "description": "100%",
            "description_tooltip": null,
            "layout": "IPY_MODEL_2b4d93b1f31042c6904850553cecdaaa",
            "max": 1024,
            "min": 0,
            "orientation": "horizontal",
            "style": "IPY_MODEL_6aca09d337d7451a8d9fa5021a6560ab",
            "value": 1024
          }
        },
        "65653e4646314c1789ee80c1f5b2f255": {
          "model_module": "@jupyter-widgets/base",
          "model_module_version": "1.2.0",
          "model_name": "LayoutModel",
          "state": {
            "_model_module": "@jupyter-widgets/base",
            "_model_module_version": "1.2.0",
            "_model_name": "LayoutModel",
            "_view_count": null,
            "_view_module": "@jupyter-widgets/base",
            "_view_module_version": "1.2.0",
            "_view_name": "LayoutView",
            "align_content": null,
            "align_items": null,
            "align_self": null,
            "border": null,
            "bottom": null,
            "display": null,
            "flex": null,
            "flex_flow": null,
            "grid_area": null,
            "grid_auto_columns": null,
            "grid_auto_flow": null,
            "grid_auto_rows": null,
            "grid_column": null,
            "grid_gap": null,
            "grid_row": null,
            "grid_template_areas": null,
            "grid_template_columns": null,
            "grid_template_rows": null,
            "height": null,
            "justify_content": null,
            "justify_items": null,
            "left": null,
            "margin": null,
            "max_height": null,
            "max_width": null,
            "min_height": null,
            "min_width": null,
            "object_fit": null,
            "object_position": null,
            "order": null,
            "overflow": null,
            "overflow_x": null,
            "overflow_y": null,
            "padding": null,
            "right": null,
            "top": null,
            "visibility": null,
            "width": null
          }
        },
        "6aca09d337d7451a8d9fa5021a6560ab": {
          "model_module": "@jupyter-widgets/controls",
          "model_module_version": "1.5.0",
          "model_name": "ProgressStyleModel",
          "state": {
            "_model_module": "@jupyter-widgets/controls",
            "_model_module_version": "1.5.0",
            "_model_name": "ProgressStyleModel",
            "_view_count": null,
            "_view_module": "@jupyter-widgets/base",
            "_view_module_version": "1.2.0",
            "_view_name": "StyleView",
            "bar_color": null,
            "description_width": "initial"
          }
        },
        "711efab8da2044fdb52277326c12a7e8": {
          "model_module": "@jupyter-widgets/base",
          "model_module_version": "1.2.0",
          "model_name": "LayoutModel",
          "state": {
            "_model_module": "@jupyter-widgets/base",
            "_model_module_version": "1.2.0",
            "_model_name": "LayoutModel",
            "_view_count": null,
            "_view_module": "@jupyter-widgets/base",
            "_view_module_version": "1.2.0",
            "_view_name": "LayoutView",
            "align_content": null,
            "align_items": null,
            "align_self": null,
            "border": null,
            "bottom": null,
            "display": null,
            "flex": null,
            "flex_flow": null,
            "grid_area": null,
            "grid_auto_columns": null,
            "grid_auto_flow": null,
            "grid_auto_rows": null,
            "grid_column": null,
            "grid_gap": null,
            "grid_row": null,
            "grid_template_areas": null,
            "grid_template_columns": null,
            "grid_template_rows": null,
            "height": null,
            "justify_content": null,
            "justify_items": null,
            "left": null,
            "margin": null,
            "max_height": null,
            "max_width": null,
            "min_height": null,
            "min_width": null,
            "object_fit": null,
            "object_position": null,
            "order": null,
            "overflow": null,
            "overflow_x": null,
            "overflow_y": null,
            "padding": null,
            "right": null,
            "top": null,
            "visibility": null,
            "width": null
          }
        },
        "72faa51ec14e4338b9964c714d9110c1": {
          "model_module": "@jupyter-widgets/controls",
          "model_module_version": "1.5.0",
          "model_name": "DescriptionStyleModel",
          "state": {
            "_model_module": "@jupyter-widgets/controls",
            "_model_module_version": "1.5.0",
            "_model_name": "DescriptionStyleModel",
            "_view_count": null,
            "_view_module": "@jupyter-widgets/base",
            "_view_module_version": "1.2.0",
            "_view_name": "StyleView",
            "description_width": ""
          }
        },
        "82987a37d98a46fda872dbb89fa33ff9": {
          "model_module": "@jupyter-widgets/controls",
          "model_module_version": "1.5.0",
          "model_name": "HTMLModel",
          "state": {
            "_dom_classes": [],
            "_model_module": "@jupyter-widgets/controls",
            "_model_module_version": "1.5.0",
            "_model_name": "HTMLModel",
            "_view_count": null,
            "_view_module": "@jupyter-widgets/controls",
            "_view_module_version": "1.5.0",
            "_view_name": "HTMLView",
            "description": "",
            "description_tooltip": null,
            "layout": "IPY_MODEL_f8f99f0e5f774cc38bc430f068c7672a",
            "placeholder": "​",
            "style": "IPY_MODEL_1723e3ad24264190864b09f612db89b6",
            "value": " 1024/1024 [07:33&lt;00:00,  2.26it/s]"
          }
        },
        "98012ecc0d484a2c9feb3c9cb2b4adf9": {
          "model_module": "@jupyter-widgets/controls",
          "model_module_version": "1.5.0",
          "model_name": "DescriptionStyleModel",
          "state": {
            "_model_module": "@jupyter-widgets/controls",
            "_model_module_version": "1.5.0",
            "_model_name": "DescriptionStyleModel",
            "_view_count": null,
            "_view_module": "@jupyter-widgets/base",
            "_view_module_version": "1.2.0",
            "_view_name": "StyleView",
            "description_width": ""
          }
        },
        "a102a941ebc8454baa0d35bf2a7d8ba6": {
          "model_module": "@jupyter-widgets/base",
          "model_module_version": "1.2.0",
          "model_name": "LayoutModel",
          "state": {
            "_model_module": "@jupyter-widgets/base",
            "_model_module_version": "1.2.0",
            "_model_name": "LayoutModel",
            "_view_count": null,
            "_view_module": "@jupyter-widgets/base",
            "_view_module_version": "1.2.0",
            "_view_name": "LayoutView",
            "align_content": null,
            "align_items": null,
            "align_self": null,
            "border": null,
            "bottom": null,
            "display": null,
            "flex": null,
            "flex_flow": null,
            "grid_area": null,
            "grid_auto_columns": null,
            "grid_auto_flow": null,
            "grid_auto_rows": null,
            "grid_column": null,
            "grid_gap": null,
            "grid_row": null,
            "grid_template_areas": null,
            "grid_template_columns": null,
            "grid_template_rows": null,
            "height": null,
            "justify_content": null,
            "justify_items": null,
            "left": null,
            "margin": null,
            "max_height": null,
            "max_width": null,
            "min_height": null,
            "min_width": null,
            "object_fit": null,
            "object_position": null,
            "order": null,
            "overflow": null,
            "overflow_x": null,
            "overflow_y": null,
            "padding": null,
            "right": null,
            "top": null,
            "visibility": null,
            "width": null
          }
        },
        "ae3ac7738a1647bea85f4076116a0404": {
          "model_module": "@jupyter-widgets/controls",
          "model_module_version": "1.5.0",
          "model_name": "HBoxModel",
          "state": {
            "_dom_classes": [],
            "_model_module": "@jupyter-widgets/controls",
            "_model_module_version": "1.5.0",
            "_model_name": "HBoxModel",
            "_view_count": null,
            "_view_module": "@jupyter-widgets/controls",
            "_view_module_version": "1.5.0",
            "_view_name": "HBoxView",
            "box_style": "",
            "children": [
              "IPY_MODEL_b4015a71b87447ab966d0658e6e643ed",
              "IPY_MODEL_2431b0690be64bd6b0197282f04b9bcf"
            ],
            "layout": "IPY_MODEL_afd5c4272d544bbb865f17b695f5dc6d"
          }
        },
        "afd5c4272d544bbb865f17b695f5dc6d": {
          "model_module": "@jupyter-widgets/base",
          "model_module_version": "1.2.0",
          "model_name": "LayoutModel",
          "state": {
            "_model_module": "@jupyter-widgets/base",
            "_model_module_version": "1.2.0",
            "_model_name": "LayoutModel",
            "_view_count": null,
            "_view_module": "@jupyter-widgets/base",
            "_view_module_version": "1.2.0",
            "_view_name": "LayoutView",
            "align_content": null,
            "align_items": null,
            "align_self": null,
            "border": null,
            "bottom": null,
            "display": null,
            "flex": null,
            "flex_flow": null,
            "grid_area": null,
            "grid_auto_columns": null,
            "grid_auto_flow": null,
            "grid_auto_rows": null,
            "grid_column": null,
            "grid_gap": null,
            "grid_row": null,
            "grid_template_areas": null,
            "grid_template_columns": null,
            "grid_template_rows": null,
            "height": null,
            "justify_content": null,
            "justify_items": null,
            "left": null,
            "margin": null,
            "max_height": null,
            "max_width": null,
            "min_height": null,
            "min_width": null,
            "object_fit": null,
            "object_position": null,
            "order": null,
            "overflow": null,
            "overflow_x": null,
            "overflow_y": null,
            "padding": null,
            "right": null,
            "top": null,
            "visibility": null,
            "width": null
          }
        },
        "b4015a71b87447ab966d0658e6e643ed": {
          "model_module": "@jupyter-widgets/controls",
          "model_module_version": "1.5.0",
          "model_name": "FloatProgressModel",
          "state": {
            "_dom_classes": [],
            "_model_module": "@jupyter-widgets/controls",
            "_model_module_version": "1.5.0",
            "_model_name": "FloatProgressModel",
            "_view_count": null,
            "_view_module": "@jupyter-widgets/controls",
            "_view_module_version": "1.5.0",
            "_view_name": "ProgressView",
            "bar_style": "success",
            "description": "100%",
            "description_tooltip": null,
            "layout": "IPY_MODEL_d61c52520eb84f069ee4af75bcb532cb",
            "max": 1024,
            "min": 0,
            "orientation": "horizontal",
            "style": "IPY_MODEL_d9b63f0c1a6b4b0284c47501fe6d8355",
            "value": 1024
          }
        },
        "bcc02dee9c154cb99cc59a257be3b117": {
          "model_module": "@jupyter-widgets/base",
          "model_module_version": "1.2.0",
          "model_name": "LayoutModel",
          "state": {
            "_model_module": "@jupyter-widgets/base",
            "_model_module_version": "1.2.0",
            "_model_name": "LayoutModel",
            "_view_count": null,
            "_view_module": "@jupyter-widgets/base",
            "_view_module_version": "1.2.0",
            "_view_name": "LayoutView",
            "align_content": null,
            "align_items": null,
            "align_self": null,
            "border": null,
            "bottom": null,
            "display": null,
            "flex": null,
            "flex_flow": null,
            "grid_area": null,
            "grid_auto_columns": null,
            "grid_auto_flow": null,
            "grid_auto_rows": null,
            "grid_column": null,
            "grid_gap": null,
            "grid_row": null,
            "grid_template_areas": null,
            "grid_template_columns": null,
            "grid_template_rows": null,
            "height": null,
            "justify_content": null,
            "justify_items": null,
            "left": null,
            "margin": null,
            "max_height": null,
            "max_width": null,
            "min_height": null,
            "min_width": null,
            "object_fit": null,
            "object_position": null,
            "order": null,
            "overflow": null,
            "overflow_x": null,
            "overflow_y": null,
            "padding": null,
            "right": null,
            "top": null,
            "visibility": null,
            "width": null
          }
        },
        "d5007d84cc9f4aea9a88fc7cdd299c54": {
          "model_module": "@jupyter-widgets/controls",
          "model_module_version": "1.5.0",
          "model_name": "ProgressStyleModel",
          "state": {
            "_model_module": "@jupyter-widgets/controls",
            "_model_module_version": "1.5.0",
            "_model_name": "ProgressStyleModel",
            "_view_count": null,
            "_view_module": "@jupyter-widgets/base",
            "_view_module_version": "1.2.0",
            "_view_name": "StyleView",
            "bar_color": null,
            "description_width": "initial"
          }
        },
        "d61c52520eb84f069ee4af75bcb532cb": {
          "model_module": "@jupyter-widgets/base",
          "model_module_version": "1.2.0",
          "model_name": "LayoutModel",
          "state": {
            "_model_module": "@jupyter-widgets/base",
            "_model_module_version": "1.2.0",
            "_model_name": "LayoutModel",
            "_view_count": null,
            "_view_module": "@jupyter-widgets/base",
            "_view_module_version": "1.2.0",
            "_view_name": "LayoutView",
            "align_content": null,
            "align_items": null,
            "align_self": null,
            "border": null,
            "bottom": null,
            "display": null,
            "flex": null,
            "flex_flow": null,
            "grid_area": null,
            "grid_auto_columns": null,
            "grid_auto_flow": null,
            "grid_auto_rows": null,
            "grid_column": null,
            "grid_gap": null,
            "grid_row": null,
            "grid_template_areas": null,
            "grid_template_columns": null,
            "grid_template_rows": null,
            "height": null,
            "justify_content": null,
            "justify_items": null,
            "left": null,
            "margin": null,
            "max_height": null,
            "max_width": null,
            "min_height": null,
            "min_width": null,
            "object_fit": null,
            "object_position": null,
            "order": null,
            "overflow": null,
            "overflow_x": null,
            "overflow_y": null,
            "padding": null,
            "right": null,
            "top": null,
            "visibility": null,
            "width": null
          }
        },
        "d9b63f0c1a6b4b0284c47501fe6d8355": {
          "model_module": "@jupyter-widgets/controls",
          "model_module_version": "1.5.0",
          "model_name": "ProgressStyleModel",
          "state": {
            "_model_module": "@jupyter-widgets/controls",
            "_model_module_version": "1.5.0",
            "_model_name": "ProgressStyleModel",
            "_view_count": null,
            "_view_module": "@jupyter-widgets/base",
            "_view_module_version": "1.2.0",
            "_view_name": "StyleView",
            "bar_color": null,
            "description_width": "initial"
          }
        },
        "f8f99f0e5f774cc38bc430f068c7672a": {
          "model_module": "@jupyter-widgets/base",
          "model_module_version": "1.2.0",
          "model_name": "LayoutModel",
          "state": {
            "_model_module": "@jupyter-widgets/base",
            "_model_module_version": "1.2.0",
            "_model_name": "LayoutModel",
            "_view_count": null,
            "_view_module": "@jupyter-widgets/base",
            "_view_module_version": "1.2.0",
            "_view_name": "LayoutView",
            "align_content": null,
            "align_items": null,
            "align_self": null,
            "border": null,
            "bottom": null,
            "display": null,
            "flex": null,
            "flex_flow": null,
            "grid_area": null,
            "grid_auto_columns": null,
            "grid_auto_flow": null,
            "grid_auto_rows": null,
            "grid_column": null,
            "grid_gap": null,
            "grid_row": null,
            "grid_template_areas": null,
            "grid_template_columns": null,
            "grid_template_rows": null,
            "height": null,
            "justify_content": null,
            "justify_items": null,
            "left": null,
            "margin": null,
            "max_height": null,
            "max_width": null,
            "min_height": null,
            "min_width": null,
            "object_fit": null,
            "object_position": null,
            "order": null,
            "overflow": null,
            "overflow_x": null,
            "overflow_y": null,
            "padding": null,
            "right": null,
            "top": null,
            "visibility": null,
            "width": null
          }
        }
      }
    }
  },
  "nbformat": 4,
  "nbformat_minor": 0
}
